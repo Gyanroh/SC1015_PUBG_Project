{
 "cells": [
  {
   "cell_type": "code",
   "execution_count": 1,
   "id": "50ab6ecc",
   "metadata": {},
   "outputs": [],
   "source": [
    "import numpy as np\n",
    "import pandas as pd\n",
    "import seaborn as sb\n",
    "import matplotlib.pyplot as plt \n",
    "from matplotlib import style\n",
    "import os\n",
    "import glob\n",
    "\n",
    "sb.set() # set the default Seaborn style for graphics\n"
   ]
  },
  {
   "cell_type": "code",
   "execution_count": 2,
   "id": "6dc33d13",
   "metadata": {},
   "outputs": [],
   "source": [
    "genpath  = r'/Users/fraserchua/Desktop/Data Science/Mini Project/gendata'   \n",
    "killpath = r'/Users/fraserchua/Desktop/Data Science/Mini Project/KillData' \n"
   ]
  },
  {
   "cell_type": "code",
   "execution_count": 3,
   "id": "4396d06c",
   "metadata": {},
   "outputs": [
    {
     "name": "stdout",
     "output_type": "stream",
     "text": [
      "imported  /Users/fraserchua/Desktop/Data Science/Mini Project/gendata/gen_match_stats_39.csv\n",
      "imported  /Users/fraserchua/Desktop/Data Science/Mini Project/gendata/gen_match_stats_11.csv\n",
      "imported  /Users/fraserchua/Desktop/Data Science/Mini Project/gendata/gen_match_stats_7.csv\n",
      "imported  /Users/fraserchua/Desktop/Data Science/Mini Project/gendata/gen_match_stats_6.csv\n",
      "imported  /Users/fraserchua/Desktop/Data Science/Mini Project/gendata/gen_match_stats_10.csv\n",
      "imported  /Users/fraserchua/Desktop/Data Science/Mini Project/gendata/gen_match_stats_38.csv\n",
      "imported  /Users/fraserchua/Desktop/Data Science/Mini Project/gendata/gen_match_stats_4.csv\n",
      "imported  /Users/fraserchua/Desktop/Data Science/Mini Project/gendata/gen_match_stats_12.csv\n",
      "imported  /Users/fraserchua/Desktop/Data Science/Mini Project/gendata/gen_match_stats_13.csv\n",
      "imported  /Users/fraserchua/Desktop/Data Science/Mini Project/gendata/gen_match_stats_5.csv\n",
      "imported  /Users/fraserchua/Desktop/Data Science/Mini Project/gendata/gen_match_stats_1.csv\n",
      "imported  /Users/fraserchua/Desktop/Data Science/Mini Project/gendata/gen_match_stats_17.csv\n",
      "imported  /Users/fraserchua/Desktop/Data Science/Mini Project/gendata/gen_match_stats_16.csv\n",
      "imported  /Users/fraserchua/Desktop/Data Science/Mini Project/gendata/gen_match_stats_0.csv\n",
      "imported  /Users/fraserchua/Desktop/Data Science/Mini Project/gendata/gen_match_stats_14.csv\n",
      "imported  /Users/fraserchua/Desktop/Data Science/Mini Project/gendata/gen_match_stats_2.csv\n",
      "imported  /Users/fraserchua/Desktop/Data Science/Mini Project/gendata/gen_match_stats_28.csv\n",
      "imported  /Users/fraserchua/Desktop/Data Science/Mini Project/gendata/gen_match_stats_29.csv\n",
      "imported  /Users/fraserchua/Desktop/Data Science/Mini Project/gendata/gen_match_stats_3.csv\n",
      "imported  /Users/fraserchua/Desktop/Data Science/Mini Project/gendata/gen_match_stats_15.csv\n",
      "imported  /Users/fraserchua/Desktop/Data Science/Mini Project/gendata/gen_match_stats_18.csv\n",
      "imported  /Users/fraserchua/Desktop/Data Science/Mini Project/gendata/gen_match_stats_30.csv\n",
      "imported  /Users/fraserchua/Desktop/Data Science/Mini Project/gendata/gen_match_stats_24.csv\n",
      "imported  /Users/fraserchua/Desktop/Data Science/Mini Project/gendata/gen_match_stats_25.csv\n",
      "imported  /Users/fraserchua/Desktop/Data Science/Mini Project/gendata/gen_match_stats_31.csv\n",
      "imported  /Users/fraserchua/Desktop/Data Science/Mini Project/gendata/gen_match_stats_19.csv\n",
      "imported  /Users/fraserchua/Desktop/Data Science/Mini Project/gendata/gen_match_stats_27.csv\n",
      "imported  /Users/fraserchua/Desktop/Data Science/Mini Project/gendata/gen_match_stats_33.csv\n",
      "imported  /Users/fraserchua/Desktop/Data Science/Mini Project/gendata/gen_match_stats_32.csv\n",
      "imported  /Users/fraserchua/Desktop/Data Science/Mini Project/gendata/gen_match_stats_26.csv\n",
      "imported  /Users/fraserchua/Desktop/Data Science/Mini Project/gendata/gen_match_stats_22.csv\n",
      "imported  /Users/fraserchua/Desktop/Data Science/Mini Project/gendata/gen_match_stats_36.csv\n",
      "imported  /Users/fraserchua/Desktop/Data Science/Mini Project/gendata/gen_match_stats_8.csv\n",
      "imported  /Users/fraserchua/Desktop/Data Science/Mini Project/gendata/gen_match_stats_9.csv\n",
      "imported  /Users/fraserchua/Desktop/Data Science/Mini Project/gendata/gen_match_stats_37.csv\n",
      "imported  /Users/fraserchua/Desktop/Data Science/Mini Project/gendata/gen_match_stats_23.csv\n",
      "imported  /Users/fraserchua/Desktop/Data Science/Mini Project/gendata/gen_match_stats_35.csv\n",
      "imported  /Users/fraserchua/Desktop/Data Science/Mini Project/gendata/gen_match_stats_21.csv\n",
      "imported  /Users/fraserchua/Desktop/Data Science/Mini Project/gendata/gen_match_stats_20.csv\n",
      "imported  /Users/fraserchua/Desktop/Data Science/Mini Project/gendata/gen_match_stats_34.csv\n",
      "imported  /Users/fraserchua/Desktop/Data Science/Mini Project/gendata/gen_match_stats_41.csv\n",
      "imported  /Users/fraserchua/Desktop/Data Science/Mini Project/gendata/gen_match_stats_40.csv\n",
      "imported  /Users/fraserchua/Desktop/Data Science/Mini Project/gendata/gen_match_stats_42.csv\n",
      "imported  /Users/fraserchua/Desktop/Data Science/Mini Project/gendata/gen_match_stats_43.csv\n"
     ]
    },
    {
     "data": {
      "text/html": [
       "<div>\n",
       "<style scoped>\n",
       "    .dataframe tbody tr th:only-of-type {\n",
       "        vertical-align: middle;\n",
       "    }\n",
       "\n",
       "    .dataframe tbody tr th {\n",
       "        vertical-align: top;\n",
       "    }\n",
       "\n",
       "    .dataframe thead th {\n",
       "        text-align: right;\n",
       "    }\n",
       "</style>\n",
       "<table border=\"1\" class=\"dataframe\">\n",
       "  <thead>\n",
       "    <tr style=\"text-align: right;\">\n",
       "      <th></th>\n",
       "      <th>match_id</th>\n",
       "      <th>date</th>\n",
       "      <th>match_mode</th>\n",
       "      <th>party_size</th>\n",
       "      <th>game_size</th>\n",
       "      <th>team_id</th>\n",
       "      <th>team_placement</th>\n",
       "      <th>player_name</th>\n",
       "      <th>player_kills</th>\n",
       "      <th>player_assists</th>\n",
       "      <th>player_survive_time</th>\n",
       "      <th>player_dmg</th>\n",
       "      <th>player_dbno</th>\n",
       "      <th>player_dist_walk</th>\n",
       "      <th>player_dist_ride</th>\n",
       "    </tr>\n",
       "  </thead>\n",
       "  <tbody>\n",
       "    <tr>\n",
       "      <th>0</th>\n",
       "      <td>JwQTpc85CVDzAo7j_aZ9pZSnLGVvEf2Y2LropJsjJakz8G...</td>\n",
       "      <td>2022-04-13T11:31:43+0000</td>\n",
       "      <td>fpp</td>\n",
       "      <td>4.0</td>\n",
       "      <td>8</td>\n",
       "      <td>1</td>\n",
       "      <td>2</td>\n",
       "      <td>NaN</td>\n",
       "      <td>0</td>\n",
       "      <td>0</td>\n",
       "      <td>100.0</td>\n",
       "      <td>0</td>\n",
       "      <td>0</td>\n",
       "      <td>114.635315</td>\n",
       "      <td>0.0</td>\n",
       "    </tr>\n",
       "    <tr>\n",
       "      <th>1</th>\n",
       "      <td>JwQTpc85CVDzAo7j_aZ9pZSnLGVvEf2Y2LropJsjJakz8G...</td>\n",
       "      <td>2022-04-13T11:31:43+0000</td>\n",
       "      <td>fpp</td>\n",
       "      <td>4.0</td>\n",
       "      <td>8</td>\n",
       "      <td>1</td>\n",
       "      <td>2</td>\n",
       "      <td>NaN</td>\n",
       "      <td>1</td>\n",
       "      <td>0</td>\n",
       "      <td>124.0</td>\n",
       "      <td>100</td>\n",
       "      <td>1</td>\n",
       "      <td>147.620102</td>\n",
       "      <td>0.0</td>\n",
       "    </tr>\n",
       "    <tr>\n",
       "      <th>2</th>\n",
       "      <td>JwQTpc85CVDzAo7j_aZ9pZSnLGVvEf2Y2LropJsjJakz8G...</td>\n",
       "      <td>2022-04-13T11:31:43+0000</td>\n",
       "      <td>fpp</td>\n",
       "      <td>4.0</td>\n",
       "      <td>8</td>\n",
       "      <td>1</td>\n",
       "      <td>2</td>\n",
       "      <td>Tokugavva</td>\n",
       "      <td>4</td>\n",
       "      <td>0</td>\n",
       "      <td>877.0</td>\n",
       "      <td>465</td>\n",
       "      <td>3</td>\n",
       "      <td>1643.194946</td>\n",
       "      <td>0.0</td>\n",
       "    </tr>\n",
       "    <tr>\n",
       "      <th>3</th>\n",
       "      <td>JwQTpc85CVDzAo7j_aZ9pZSnLGVvEf2Y2LropJsjJakz8G...</td>\n",
       "      <td>2022-04-13T11:31:43+0000</td>\n",
       "      <td>fpp</td>\n",
       "      <td>4.0</td>\n",
       "      <td>8</td>\n",
       "      <td>1</td>\n",
       "      <td>2</td>\n",
       "      <td>SirPiec</td>\n",
       "      <td>0</td>\n",
       "      <td>2</td>\n",
       "      <td>877.0</td>\n",
       "      <td>63</td>\n",
       "      <td>0</td>\n",
       "      <td>1461.739502</td>\n",
       "      <td>0.0</td>\n",
       "    </tr>\n",
       "    <tr>\n",
       "      <th>4</th>\n",
       "      <td>JwQTpc85CVDzAo7j_aZ9pZSnLGVvEf2Y2LropJsjJakz8G...</td>\n",
       "      <td>2022-04-13T11:31:43+0000</td>\n",
       "      <td>fpp</td>\n",
       "      <td>4.0</td>\n",
       "      <td>8</td>\n",
       "      <td>3</td>\n",
       "      <td>6</td>\n",
       "      <td>NaN</td>\n",
       "      <td>0</td>\n",
       "      <td>0</td>\n",
       "      <td>384.0</td>\n",
       "      <td>145</td>\n",
       "      <td>0</td>\n",
       "      <td>424.890778</td>\n",
       "      <td>0.0</td>\n",
       "    </tr>\n",
       "    <tr>\n",
       "      <th>...</th>\n",
       "      <td>...</td>\n",
       "      <td>...</td>\n",
       "      <td>...</td>\n",
       "      <td>...</td>\n",
       "      <td>...</td>\n",
       "      <td>...</td>\n",
       "      <td>...</td>\n",
       "      <td>...</td>\n",
       "      <td>...</td>\n",
       "      <td>...</td>\n",
       "      <td>...</td>\n",
       "      <td>...</td>\n",
       "      <td>...</td>\n",
       "      <td>...</td>\n",
       "      <td>...</td>\n",
       "    </tr>\n",
       "    <tr>\n",
       "      <th>14485407</th>\n",
       "      <td>JwQTpc85CVDzAo7j_aZ9pSxFC7MFGw0FX_e72mdNJn9vWy...</td>\n",
       "      <td>2022-02-27T16:53:00+0000</td>\n",
       "      <td>fpp</td>\n",
       "      <td>2.0</td>\n",
       "      <td>48</td>\n",
       "      <td>46</td>\n",
       "      <td>47</td>\n",
       "      <td>Kestable</td>\n",
       "      <td>0</td>\n",
       "      <td>0</td>\n",
       "      <td>75.0</td>\n",
       "      <td>30</td>\n",
       "      <td>0</td>\n",
       "      <td>7.868077</td>\n",
       "      <td>0.0</td>\n",
       "    </tr>\n",
       "    <tr>\n",
       "      <th>14485408</th>\n",
       "      <td>JwQTpc85CVDzAo7j_aZ9pSxFC7MFGw0FX_e72mdNJn9vWy...</td>\n",
       "      <td>2022-02-27T16:53:00+0000</td>\n",
       "      <td>fpp</td>\n",
       "      <td>2.0</td>\n",
       "      <td>48</td>\n",
       "      <td>48</td>\n",
       "      <td>34</td>\n",
       "      <td>FlyCat96</td>\n",
       "      <td>1</td>\n",
       "      <td>0</td>\n",
       "      <td>223.0</td>\n",
       "      <td>131</td>\n",
       "      <td>0</td>\n",
       "      <td>274.970520</td>\n",
       "      <td>0.0</td>\n",
       "    </tr>\n",
       "    <tr>\n",
       "      <th>14485409</th>\n",
       "      <td>JwQTpc85CVDzAo7j_aZ9pSxFC7MFGw0FX_e72mdNJn9vWy...</td>\n",
       "      <td>2022-02-27T16:53:00+0000</td>\n",
       "      <td>fpp</td>\n",
       "      <td>2.0</td>\n",
       "      <td>48</td>\n",
       "      <td>48</td>\n",
       "      <td>34</td>\n",
       "      <td>NaN</td>\n",
       "      <td>1</td>\n",
       "      <td>0</td>\n",
       "      <td>223.0</td>\n",
       "      <td>100</td>\n",
       "      <td>1</td>\n",
       "      <td>155.446550</td>\n",
       "      <td>0.0</td>\n",
       "    </tr>\n",
       "    <tr>\n",
       "      <th>14485410</th>\n",
       "      <td>JwQTpc85CVDzAo7j_aZ9pSxFC7MFGw0FX_e72mdNJn9vWy...</td>\n",
       "      <td>2022-02-27T16:53:00+0000</td>\n",
       "      <td>fpp</td>\n",
       "      <td>2.0</td>\n",
       "      <td>48</td>\n",
       "      <td>47</td>\n",
       "      <td>31</td>\n",
       "      <td>dead1ns1de</td>\n",
       "      <td>0</td>\n",
       "      <td>0</td>\n",
       "      <td>251.0</td>\n",
       "      <td>50</td>\n",
       "      <td>0</td>\n",
       "      <td>276.398300</td>\n",
       "      <td>0.0</td>\n",
       "    </tr>\n",
       "    <tr>\n",
       "      <th>14485411</th>\n",
       "      <td>JwQTpc85CVDzAo7j_aZ9pSxFC7MFGw0FX_e72mdNJn9vWy...</td>\n",
       "      <td>2022-02-27T16:53:00+0000</td>\n",
       "      <td>fpp</td>\n",
       "      <td>2.0</td>\n",
       "      <td>48</td>\n",
       "      <td>47</td>\n",
       "      <td>31</td>\n",
       "      <td>aquamar1ne_l4</td>\n",
       "      <td>1</td>\n",
       "      <td>0</td>\n",
       "      <td>251.0</td>\n",
       "      <td>141</td>\n",
       "      <td>1</td>\n",
       "      <td>313.219060</td>\n",
       "      <td>0.0</td>\n",
       "    </tr>\n",
       "  </tbody>\n",
       "</table>\n",
       "<p>14485412 rows × 15 columns</p>\n",
       "</div>"
      ],
      "text/plain": [
       "                                                   match_id  \\\n",
       "0         JwQTpc85CVDzAo7j_aZ9pZSnLGVvEf2Y2LropJsjJakz8G...   \n",
       "1         JwQTpc85CVDzAo7j_aZ9pZSnLGVvEf2Y2LropJsjJakz8G...   \n",
       "2         JwQTpc85CVDzAo7j_aZ9pZSnLGVvEf2Y2LropJsjJakz8G...   \n",
       "3         JwQTpc85CVDzAo7j_aZ9pZSnLGVvEf2Y2LropJsjJakz8G...   \n",
       "4         JwQTpc85CVDzAo7j_aZ9pZSnLGVvEf2Y2LropJsjJakz8G...   \n",
       "...                                                     ...   \n",
       "14485407  JwQTpc85CVDzAo7j_aZ9pSxFC7MFGw0FX_e72mdNJn9vWy...   \n",
       "14485408  JwQTpc85CVDzAo7j_aZ9pSxFC7MFGw0FX_e72mdNJn9vWy...   \n",
       "14485409  JwQTpc85CVDzAo7j_aZ9pSxFC7MFGw0FX_e72mdNJn9vWy...   \n",
       "14485410  JwQTpc85CVDzAo7j_aZ9pSxFC7MFGw0FX_e72mdNJn9vWy...   \n",
       "14485411  JwQTpc85CVDzAo7j_aZ9pSxFC7MFGw0FX_e72mdNJn9vWy...   \n",
       "\n",
       "                              date match_mode  party_size  game_size  team_id  \\\n",
       "0         2022-04-13T11:31:43+0000        fpp         4.0          8        1   \n",
       "1         2022-04-13T11:31:43+0000        fpp         4.0          8        1   \n",
       "2         2022-04-13T11:31:43+0000        fpp         4.0          8        1   \n",
       "3         2022-04-13T11:31:43+0000        fpp         4.0          8        1   \n",
       "4         2022-04-13T11:31:43+0000        fpp         4.0          8        3   \n",
       "...                            ...        ...         ...        ...      ...   \n",
       "14485407  2022-02-27T16:53:00+0000        fpp         2.0         48       46   \n",
       "14485408  2022-02-27T16:53:00+0000        fpp         2.0         48       48   \n",
       "14485409  2022-02-27T16:53:00+0000        fpp         2.0         48       48   \n",
       "14485410  2022-02-27T16:53:00+0000        fpp         2.0         48       47   \n",
       "14485411  2022-02-27T16:53:00+0000        fpp         2.0         48       47   \n",
       "\n",
       "          team_placement    player_name  player_kills  player_assists  \\\n",
       "0                      2            NaN             0               0   \n",
       "1                      2            NaN             1               0   \n",
       "2                      2      Tokugavva             4               0   \n",
       "3                      2        SirPiec             0               2   \n",
       "4                      6            NaN             0               0   \n",
       "...                  ...            ...           ...             ...   \n",
       "14485407              47       Kestable             0               0   \n",
       "14485408              34       FlyCat96             1               0   \n",
       "14485409              34            NaN             1               0   \n",
       "14485410              31     dead1ns1de             0               0   \n",
       "14485411              31  aquamar1ne_l4             1               0   \n",
       "\n",
       "          player_survive_time  player_dmg  player_dbno  player_dist_walk  \\\n",
       "0                       100.0           0            0        114.635315   \n",
       "1                       124.0         100            1        147.620102   \n",
       "2                       877.0         465            3       1643.194946   \n",
       "3                       877.0          63            0       1461.739502   \n",
       "4                       384.0         145            0        424.890778   \n",
       "...                       ...         ...          ...               ...   \n",
       "14485407                 75.0          30            0          7.868077   \n",
       "14485408                223.0         131            0        274.970520   \n",
       "14485409                223.0         100            1        155.446550   \n",
       "14485410                251.0          50            0        276.398300   \n",
       "14485411                251.0         141            1        313.219060   \n",
       "\n",
       "          player_dist_ride  \n",
       "0                      0.0  \n",
       "1                      0.0  \n",
       "2                      0.0  \n",
       "3                      0.0  \n",
       "4                      0.0  \n",
       "...                    ...  \n",
       "14485407               0.0  \n",
       "14485408               0.0  \n",
       "14485409               0.0  \n",
       "14485410               0.0  \n",
       "14485411               0.0  \n",
       "\n",
       "[14485412 rows x 15 columns]"
      ]
     },
     "execution_count": 3,
     "metadata": {},
     "output_type": "execute_result"
    }
   ],
   "source": [
    "allGenFiles = glob.glob(os.path.join(genpath , \"*.csv\"))\n",
    "genarray = []\n",
    "\n",
    "for filename in allGenFiles:\n",
    "    print(\"imported \",filename)\n",
    "    gendf = pd.read_csv(filename, index_col=None, header=0)\n",
    "    genarray.append(gendf)\n",
    "\n",
    "raw_gen = pd.concat(genarray, axis=0, ignore_index=True)\n",
    "raw_gen"
   ]
  },
  {
   "cell_type": "code",
   "execution_count": 4,
   "id": "bc83304f",
   "metadata": {},
   "outputs": [
    {
     "name": "stdout",
     "output_type": "stream",
     "text": [
      "(14485412, 15)\n",
      "(14485412,)\n",
      "         party_size     game_size       team_id  team_placement  player_kills  \\\n",
      "count  1.435947e+07  1.448541e+07  1.448541e+07    1.448541e+07  1.448541e+07   \n",
      "mean   2.980409e+00  4.148031e+01  1.410013e+04    2.130579e+01  9.579487e-01   \n",
      "std    1.219478e+00  2.466758e+01  3.475109e+04    1.906149e+01  1.765340e+00   \n",
      "min    1.000000e+00  1.000000e+00  1.000000e+00    0.000000e+00  0.000000e+00   \n",
      "25%    2.000000e+00  2.700000e+01  9.000000e+00    8.000000e+00  0.000000e+00   \n",
      "50%    4.000000e+00  3.100000e+01  2.000000e+01    1.600000e+01  0.000000e+00   \n",
      "75%    4.000000e+00  4.900000e+01  2.020000e+02    2.700000e+01  1.000000e+00   \n",
      "max    4.000000e+00  1.050000e+02  1.001660e+05    1.050000e+02  6.700000e+01   \n",
      "\n",
      "       player_assists  player_survive_time    player_dmg   player_dbno  \\\n",
      "count    1.448541e+07         1.448541e+07  1.448541e+07  1.448541e+07   \n",
      "mean     2.404210e-01         7.136401e+02  1.490745e+02  6.806163e-01   \n",
      "std      6.440217e-01         5.051950e+02  3.963142e+02  1.205265e+00   \n",
      "min      0.000000e+00         0.000000e+00  0.000000e+00  0.000000e+00   \n",
      "25%      0.000000e+00         2.650000e+02  0.000000e+00  0.000000e+00   \n",
      "50%      0.000000e+00         6.130000e+02  8.500000e+01  0.000000e+00   \n",
      "75%      0.000000e+00         1.091215e+03  1.930000e+02  1.000000e+00   \n",
      "max      3.000000e+01         2.813300e+04  8.370300e+04  4.600000e+01   \n",
      "\n",
      "       player_dist_walk  player_dist_ride  \n",
      "count      1.448541e+07      1.448541e+07  \n",
      "mean       1.059744e+03      9.167861e+02  \n",
      "std        1.200609e+03      1.847667e+03  \n",
      "min        0.000000e+00      0.000000e+00  \n",
      "25%        1.675155e+02      0.000000e+00  \n",
      "50%        7.032474e+02      0.000000e+00  \n",
      "75%        1.683631e+03      9.175021e+02  \n",
      "max        1.006044e+05      1.205664e+05  \n"
     ]
    }
   ],
   "source": [
    "print(raw_gen.shape)\n",
    "print(raw_gen[\"match_id\"].shape)\n",
    "print(raw_gen.describe())"
   ]
  },
  {
   "cell_type": "code",
   "execution_count": 6,
   "id": "9896d096",
   "metadata": {},
   "outputs": [],
   "source": [
    "raw_gen_cleaned = raw_gen[raw_gen[\"match_mode\"].str.contains(\"flareguntpp|crossbowtpp|flaregun|warmodetpp|warmodefpp|flaregunfpp|crossbowfpp|tequilatpp|20180324_rifle|tequilafpp\")==False]\n",
    "raw_gen_cleaned = raw_gen_cleaned[raw_gen_cleaned['team_placement'] < 95]  \n",
    "raw_gen_cleaned = raw_gen_cleaned[raw_gen_cleaned['game_size'] < 95]  \n",
    "raw_gen_cleaned = raw_gen_cleaned[raw_gen_cleaned['game_size'] > 10]  \n",
    "raw_gen_cleaned['team_placement'] = ((raw_gen_cleaned['team_placement'] - 1)/ raw_gen_cleaned['game_size']).round(3)\n",
    "raw_gen_cleaned = raw_gen_cleaned.rename(columns={'team_placement': 'normalized_ranking'})\n",
    "raw_gen_cleaned = raw_gen_cleaned[raw_gen_cleaned['normalized_ranking'] < 1]  \n",
    "raw_gen_cleaned = raw_gen_cleaned[raw_gen_cleaned['player_survive_time'] < 5500]  \n",
    "raw_gen_cleaned = raw_gen_cleaned[raw_gen_cleaned['player_survive_time'] >= 20]  \n",
    "raw_gen_cleaned = raw_gen_cleaned[raw_gen_cleaned['player_dbno'] <= 2]  \n",
    "raw_gen_cleaned = raw_gen_cleaned[raw_gen_cleaned['player_kills'] < 36]  \n",
    "raw_gen_cleaned = raw_gen_cleaned[raw_gen_cleaned['player_dmg'] < 4000]  \n",
    "raw_gen_cleaned = raw_gen_cleaned[raw_gen_cleaned[\"player_dist_ride\"] < 14995]\n",
    "raw_gen_cleaned = raw_gen_cleaned[raw_gen_cleaned['player_dist_walk'] > 1]  \n",
    "raw_gen_cleaned = raw_gen_cleaned[raw_gen_cleaned[\"player_dist_walk\"] < 36852]"
   ]
  },
  {
   "cell_type": "code",
   "execution_count": 7,
   "id": "c0e4d0ad",
   "metadata": {},
   "outputs": [
    {
     "name": "stdout",
     "output_type": "stream",
     "text": [
      "(11221467, 15)\n",
      "(11221467,)\n",
      "         party_size     game_size       team_id  normalized_ranking  \\\n",
      "count  1.119082e+07  1.122147e+07  1.122147e+07        1.122147e+07   \n",
      "mean   3.192076e+00  3.584312e+01  6.328465e+03        4.904612e-01   \n",
      "std    1.075443e+00  1.672412e+01  2.426727e+04        2.837323e-01   \n",
      "min    1.000000e+00  1.100000e+01  1.000000e+00        0.000000e+00   \n",
      "25%    2.000000e+00  2.600000e+01  9.000000e+00        2.500000e-01   \n",
      "50%    4.000000e+00  3.000000e+01  1.800000e+01        5.000000e-01   \n",
      "75%    4.000000e+00  4.800000e+01  3.900000e+01        7.370000e-01   \n",
      "max    4.000000e+00  9.400000e+01  1.001660e+05        9.890000e-01   \n",
      "\n",
      "       player_kills  player_assists  player_survive_time    player_dmg  \\\n",
      "count  1.122147e+07    1.122147e+07         1.122147e+07  1.122147e+07   \n",
      "mean   6.442382e-01    2.151585e-01         6.889305e+02  1.078508e+02   \n",
      "std    1.039770e+00    5.574786e-01         4.851904e+02  1.250675e+02   \n",
      "min    0.000000e+00    0.000000e+00         2.000000e+01  0.000000e+00   \n",
      "25%    0.000000e+00    0.000000e+00         2.610000e+02  0.000000e+00   \n",
      "50%    0.000000e+00    0.000000e+00         5.794880e+02  7.600000e+01   \n",
      "75%    1.000000e+00    0.000000e+00         1.047000e+03  1.610000e+02   \n",
      "max    3.400000e+01    3.000000e+01         5.339000e+03  3.616000e+03   \n",
      "\n",
      "        player_dbno  player_dist_walk  player_dist_ride  \n",
      "count  1.122147e+07      1.122147e+07      1.122147e+07  \n",
      "mean   4.881069e-01      1.049628e+03      9.067942e+02  \n",
      "std    6.849668e-01      1.073913e+03      1.826469e+03  \n",
      "min    0.000000e+00      1.000000e+00      0.000000e+00  \n",
      "25%    0.000000e+00      1.933230e+02      0.000000e+00  \n",
      "50%    0.000000e+00      7.091193e+02      0.000000e+00  \n",
      "75%    1.000000e+00      1.637656e+03      8.823748e+02  \n",
      "max    2.000000e+00      3.682835e+04      1.499495e+04  \n"
     ]
    }
   ],
   "source": [
    "print(raw_gen_cleaned.shape)\n",
    "print(raw_gen_cleaned[\"match_id\"].shape)\n",
    "print(raw_gen_cleaned.describe())"
   ]
  },
  {
   "cell_type": "code",
   "execution_count": 36,
   "id": "a163274d",
   "metadata": {},
   "outputs": [
    {
     "data": {
      "image/png": "[encoded data removed]",
      "text/plain": [
       "<Figure size 432x288 with 1 Axes>"
      ]
     },
     "metadata": {},
     "output_type": "display_data"
    }
   ],
   "source": [
    "X = ['']\n",
    "before = len(raw_gen)/1000000\n",
    "after = len(raw_gen_cleaned)/1000000\n",
    "  \n",
    "X_axis = np.arange(1)\n",
    "  \n",
    "plt.bar(X_axis - 0.2, before, 0.4, label = 'Before Cleaning',color=['darkgreen'])\n",
    "plt.bar(X_axis + 0.2, after, 0.4, label = 'After Cleaning')\n",
    "  \n",
    "plt.xticks(X_axis, X)\n",
    "plt.ylabel(\"Rows of Data (Millions)\")\n",
    "plt.title(\"Difference after Cleaning\")\n",
    "plt.legend()\n",
    "plt.show()"
   ]
  },
  {
   "cell_type": "code",
   "execution_count": 43,
   "id": "85371688",
   "metadata": {},
   "outputs": [],
   "source": [
    "pd.DataFrame(raw_gen_cleaned).to_csv('cleaned_gen_match_stats.csv', index=False)\n"
   ]
  },
  {
   "cell_type": "code",
   "execution_count": 44,
   "id": "f675511f",
   "metadata": {},
   "outputs": [],
   "source": [
    "raw_gen_cleaned =  pd.read_csv('cleaned_gen_match_stats.csv')"
   ]
  },
  {
   "cell_type": "code",
   "execution_count": 71,
   "id": "266301d2",
   "metadata": {},
   "outputs": [
    {
     "data": {
      "text/plain": [
       "<AxesSubplot:xlabel='game_size'>"
      ]
     },
     "execution_count": 71,
     "metadata": {},
     "output_type": "execute_result"
    },
    {
     "data": {
      "image/png": "[encoded data removed]",
      "text/plain": [
       "<Figure size 1728x288 with 1 Axes>"
      ]
     },
     "metadata": {},
     "output_type": "display_data"
    },
    {
     "data": {
      "image/png": "[encoded data removed]",
      "text/plain": [
       "<Figure size 1728x288 with 1 Axes>"
      ]
     },
     "metadata": {},
     "output_type": "display_data"
    }
   ],
   "source": [
    "f = plt.figure(figsize=(24, 4))\n",
    "sb.boxplot(x = raw_gen['game_size'], orient = \"h\")\n",
    "\n",
    "f = plt.figure(figsize=(24, 4))\n",
    "sb.boxplot(x = raw_gen_cleaned['game_size'], orient = \"h\")"
   ]
  },
  {
   "cell_type": "code",
   "execution_count": 72,
   "id": "6080fcc0",
   "metadata": {},
   "outputs": [
    {
     "data": {
      "text/plain": [
       "<AxesSubplot:xlabel='player_survive_time'>"
      ]
     },
     "execution_count": 72,
     "metadata": {},
     "output_type": "execute_result"
    },
    {
     "data": {
      "image/png": "[encoded data removed]",
      "text/plain": [
       "<Figure size 1728x288 with 1 Axes>"
      ]
     },
     "metadata": {},
     "output_type": "display_data"
    },
    {
     "data": {
      "image/png": "[encoded data removed]",
      "text/plain": [
       "<Figure size 1728x288 with 1 Axes>"
      ]
     },
     "metadata": {},
     "output_type": "display_data"
    }
   ],
   "source": [
    "f = plt.figure(figsize=(24, 4))\n",
    "sb.boxplot(x = raw_gen['player_survive_time'], orient = \"h\")\n",
    "f = plt.figure(figsize=(24, 4))\n",
    "sb.boxplot(x = raw_gen_cleaned['player_survive_time'], orient = \"h\")"
   ]
  },
  {
   "cell_type": "code",
   "execution_count": 73,
   "id": "80876186",
   "metadata": {},
   "outputs": [
    {
     "data": {
      "text/plain": [
       "<AxesSubplot:xlabel='player_kills'>"
      ]
     },
     "execution_count": 73,
     "metadata": {},
     "output_type": "execute_result"
    },
    {
     "data": {
      "image/png": "[encoded data removed]",
      "text/plain": [
       "<Figure size 1728x288 with 1 Axes>"
      ]
     },
     "metadata": {},
     "output_type": "display_data"
    },
    {
     "data": {
      "image/png": "[encoded data removed]",
      "text/plain": [
       "<Figure size 1728x288 with 1 Axes>"
      ]
     },
     "metadata": {},
     "output_type": "display_data"
    }
   ],
   "source": [
    "f = plt.figure(figsize=(24, 4))\n",
    "sb.boxplot(x = raw_gen['player_kills'], orient = \"h\")\n",
    "f = plt.figure(figsize=(24, 4))\n",
    "sb.boxplot(x = raw_gen_cleaned['player_kills'], orient = \"h\")\n"
   ]
  },
  {
   "cell_type": "code",
   "execution_count": 74,
   "id": "7a64df13",
   "metadata": {},
   "outputs": [
    {
     "data": {
      "text/plain": [
       "<AxesSubplot:xlabel='player_dmg'>"
      ]
     },
     "execution_count": 74,
     "metadata": {},
     "output_type": "execute_result"
    },
    {
     "data": {
      "image/png": "[encoded data removed]",
      "text/plain": [
       "<Figure size 1728x288 with 1 Axes>"
      ]
     },
     "metadata": {},
     "output_type": "display_data"
    },
    {
     "data": {
      "image/png": "[encoded data removed]",
      "text/plain": [
       "<Figure size 1728x288 with 1 Axes>"
      ]
     },
     "metadata": {},
     "output_type": "display_data"
    }
   ],
   "source": [
    "f = plt.figure(figsize=(24, 4))\n",
    "sb.boxplot(x = raw_gen['player_dmg'], orient = \"h\")\n",
    "f = plt.figure(figsize=(24, 4))\n",
    "sb.boxplot(x = raw_gen_cleaned['player_dmg'], orient = \"h\")\n"
   ]
  },
  {
   "cell_type": "code",
   "execution_count": 85,
   "id": "254c5727",
   "metadata": {},
   "outputs": [
    {
     "data": {
      "text/plain": [
       "<AxesSubplot:xlabel='player_dist_walk'>"
      ]
     },
     "execution_count": 85,
     "metadata": {},
     "output_type": "execute_result"
    },
    {
     "data": {
      "image/png": "[encoded data removed]",
      "text/plain": [
       "<Figure size 1728x288 with 1 Axes>"
      ]
     },
     "metadata": {},
     "output_type": "display_data"
    },
    {
     "data": {
      "image/png": "[encoded data removed]",
      "text/plain": [
       "<Figure size 1728x288 with 1 Axes>"
      ]
     },
     "metadata": {},
     "output_type": "display_data"
    }
   ],
   "source": [
    "f = plt.figure(figsize=(24, 4))\n",
    "sb.boxplot(x = raw_gen['player_dist_walk'], orient = \"h\")\n",
    "f = plt.figure(figsize=(24, 4))\n",
    "sb.boxplot(x = raw_gen_cleaned['player_dist_walk'], orient = \"h\")\n",
    "\n",
    "\n"
   ]
  },
  {
   "cell_type": "code",
   "execution_count": 86,
   "id": "37f881e0",
   "metadata": {},
   "outputs": [
    {
     "data": {
      "text/plain": [
       "<AxesSubplot:xlabel='player_dist_ride'>"
      ]
     },
     "execution_count": 86,
     "metadata": {},
     "output_type": "execute_result"
    },
    {
     "data": {
      "image/png": "[encoded data removed]",
      "text/plain": [
       "<Figure size 1728x288 with 1 Axes>"
      ]
     },
     "metadata": {},
     "output_type": "display_data"
    },
    {
     "data": {
      "image/png": "[encoded data removed]",
      "text/plain": [
       "<Figure size 1728x288 with 1 Axes>"
      ]
     },
     "metadata": {},
     "output_type": "display_data"
    }
   ],
   "source": [
    "f = plt.figure(figsize=(24, 4))\n",
    "sb.boxplot(x = raw_gen['player_dist_ride'], orient = \"h\")\n",
    "\n",
    "f = plt.figure(figsize=(24, 4))\n",
    "sb.boxplot(x = raw_gen_cleaned['player_dist_ride'], orient = \"h\")\n"
   ]
  },
  {
   "cell_type": "code",
   "execution_count": null,
   "id": "a10ac045",
   "metadata": {},
   "outputs": [],
   "source": []
  }
 ],
 "metadata": {
  "kernelspec": {
   "display_name": "Python 3 (ipykernel)",
   "language": "python",
   "name": "python3"
  },
  "language_info": {
   "codemirror_mode": {
    "name": "ipython",
    "version": 3
   },
   "file_extension": ".py",
   "mimetype": "text/x-python",
   "name": "python",
   "nbconvert_exporter": "python",
   "pygments_lexer": "ipython3",
   "version": "3.9.7"
  }
 },
 "nbformat": 4,
 "nbformat_minor": 5
}
