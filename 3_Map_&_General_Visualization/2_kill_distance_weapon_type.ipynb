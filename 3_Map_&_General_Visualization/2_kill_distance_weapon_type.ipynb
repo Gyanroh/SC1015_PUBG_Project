{
 "cells": [
  {
   "cell_type": "code",
   "execution_count": 1,
   "id": "c3b7d02d",
   "metadata": {},
   "outputs": [],
   "source": [
    "import re\n",
    "import numpy\n",
    "import numpy as np\n",
    "import pandas as pd\n",
    "import seaborn as sb\n",
    "import matplotlib.pyplot as plt \n",
    "from matplotlib import style\n",
    "plt.style.use('seaborn-deep')\n",
    "\n"
   ]
  },
  {
   "cell_type": "code",
   "execution_count": 2,
   "id": "69d0e765",
   "metadata": {},
   "outputs": [],
   "source": [
    "erangel_kill = pd.read_csv('final_kill_match_stats.csv')"
   ]
  },
  {
   "cell_type": "code",
   "execution_count": 3,
   "id": "ce777ee2",
   "metadata": {},
   "outputs": [
    {
     "data": {
      "text/plain": [
       "Index(['match_id', 'time', 'killed_by', 'killer_name', 'killer_placement',\n",
       "       'killer_position_x', 'killer_position_y', 'victim_name',\n",
       "       'victim_placement', 'victim_position_x', 'victim_position_y'],\n",
       "      dtype='object')"
      ]
     },
     "execution_count": 3,
     "metadata": {},
     "output_type": "execute_result"
    }
   ],
   "source": [
    "erangel_kill.columns"
   ]
  },
  {
   "cell_type": "code",
   "execution_count": 4,
   "id": "899b408f",
   "metadata": {},
   "outputs": [],
   "source": [
    "erangel_kill.drop('match_id', axis=1, inplace=True)\n",
    "erangel_kill.drop('killer_name', axis=1, inplace=True)\n",
    "erangel_kill.drop('killer_placement', axis=1, inplace=True)\n",
    "erangel_kill.drop('victim_name', axis=1, inplace=True)\n",
    "erangel_kill.drop('victim_placement', axis=1, inplace=True)\n"
   ]
  },
  {
   "cell_type": "code",
   "execution_count": 5,
   "id": "ea49974d",
   "metadata": {},
   "outputs": [],
   "source": [
    "erangel_kill = erangel_kill[erangel_kill[\"killed_by\"].str.contains(\"AKM|AUG A3|AWM|Bizon|Crossbow|DP-28|G36C|Grenade|Groza|Kar98k|M16A4|M24|M249|M416|M762|MK47 Mutant|MP5K|Micro UZI|Mini 14|Mk14|Molotov|P18C|P1911|P92|QBU|QBZ95|R1895|R45|S12K|S1897|S686|SKS|SLR|Sawed-off| Scar|Skorpion|Tommy Gun|UMP45|VSS|Vector|Win94\")==True]"
   ]
  },
  {
   "cell_type": "code",
   "execution_count": 6,
   "id": "3d56396e",
   "metadata": {},
   "outputs": [
    {
     "data": {
      "text/html": [
       "<div>\n",
       "<style scoped>\n",
       "    .dataframe tbody tr th:only-of-type {\n",
       "        vertical-align: middle;\n",
       "    }\n",
       "\n",
       "    .dataframe tbody tr th {\n",
       "        vertical-align: top;\n",
       "    }\n",
       "\n",
       "    .dataframe thead th {\n",
       "        text-align: right;\n",
       "    }\n",
       "</style>\n",
       "<table border=\"1\" class=\"dataframe\">\n",
       "  <thead>\n",
       "    <tr style=\"text-align: right;\">\n",
       "      <th></th>\n",
       "      <th>time</th>\n",
       "      <th>killed_by</th>\n",
       "      <th>killer_position_x</th>\n",
       "      <th>killer_position_y</th>\n",
       "      <th>victim_position_x</th>\n",
       "      <th>victim_position_y</th>\n",
       "    </tr>\n",
       "  </thead>\n",
       "  <tbody>\n",
       "    <tr>\n",
       "      <th>2</th>\n",
       "      <td>975</td>\n",
       "      <td>Kar98k</td>\n",
       "      <td>345587.468750</td>\n",
       "      <td>140552.984375</td>\n",
       "      <td>344036.781250</td>\n",
       "      <td>144871.671875</td>\n",
       "    </tr>\n",
       "    <tr>\n",
       "      <th>3</th>\n",
       "      <td>1255</td>\n",
       "      <td>G36C</td>\n",
       "      <td>420516.906250</td>\n",
       "      <td>145435.109375</td>\n",
       "      <td>421059.000000</td>\n",
       "      <td>145275.500000</td>\n",
       "    </tr>\n",
       "    <tr>\n",
       "      <th>4</th>\n",
       "      <td>280</td>\n",
       "      <td>G36C</td>\n",
       "      <td>243228.250000</td>\n",
       "      <td>238198.281250</td>\n",
       "      <td>243265.750000</td>\n",
       "      <td>237879.890625</td>\n",
       "    </tr>\n",
       "    <tr>\n",
       "      <th>5</th>\n",
       "      <td>101</td>\n",
       "      <td>UMP45</td>\n",
       "      <td>357259.781250</td>\n",
       "      <td>353541.125000</td>\n",
       "      <td>357238.750000</td>\n",
       "      <td>353305.562500</td>\n",
       "    </tr>\n",
       "    <tr>\n",
       "      <th>6</th>\n",
       "      <td>1585</td>\n",
       "      <td>UMP45</td>\n",
       "      <td>402494.718750</td>\n",
       "      <td>129671.914062</td>\n",
       "      <td>402918.906250</td>\n",
       "      <td>130400.109375</td>\n",
       "    </tr>\n",
       "    <tr>\n",
       "      <th>...</th>\n",
       "      <td>...</td>\n",
       "      <td>...</td>\n",
       "      <td>...</td>\n",
       "      <td>...</td>\n",
       "      <td>...</td>\n",
       "      <td>...</td>\n",
       "    </tr>\n",
       "    <tr>\n",
       "      <th>1322363</th>\n",
       "      <td>1072</td>\n",
       "      <td>M24</td>\n",
       "      <td>277868.156250</td>\n",
       "      <td>147078.375000</td>\n",
       "      <td>273294.187500</td>\n",
       "      <td>147043.203125</td>\n",
       "    </tr>\n",
       "    <tr>\n",
       "      <th>1322364</th>\n",
       "      <td>123</td>\n",
       "      <td>M416</td>\n",
       "      <td>94051.335938</td>\n",
       "      <td>119070.710938</td>\n",
       "      <td>94905.406250</td>\n",
       "      <td>119155.976562</td>\n",
       "    </tr>\n",
       "    <tr>\n",
       "      <th>1322365</th>\n",
       "      <td>860</td>\n",
       "      <td>SLR</td>\n",
       "      <td>182383.953125</td>\n",
       "      <td>141002.421875</td>\n",
       "      <td>163486.468750</td>\n",
       "      <td>161870.781250</td>\n",
       "    </tr>\n",
       "    <tr>\n",
       "      <th>1322367</th>\n",
       "      <td>526</td>\n",
       "      <td>QBZ95</td>\n",
       "      <td>195205.421875</td>\n",
       "      <td>197135.875000</td>\n",
       "      <td>196735.750000</td>\n",
       "      <td>197023.234375</td>\n",
       "    </tr>\n",
       "    <tr>\n",
       "      <th>1322368</th>\n",
       "      <td>240</td>\n",
       "      <td>M416</td>\n",
       "      <td>77017.804688</td>\n",
       "      <td>169595.593750</td>\n",
       "      <td>79121.820312</td>\n",
       "      <td>166670.703125</td>\n",
       "    </tr>\n",
       "  </tbody>\n",
       "</table>\n",
       "<p>991236 rows × 6 columns</p>\n",
       "</div>"
      ],
      "text/plain": [
       "         time killed_by  killer_position_x  killer_position_y  \\\n",
       "2         975    Kar98k      345587.468750      140552.984375   \n",
       "3        1255      G36C      420516.906250      145435.109375   \n",
       "4         280      G36C      243228.250000      238198.281250   \n",
       "5         101     UMP45      357259.781250      353541.125000   \n",
       "6        1585     UMP45      402494.718750      129671.914062   \n",
       "...       ...       ...                ...                ...   \n",
       "1322363  1072       M24      277868.156250      147078.375000   \n",
       "1322364   123      M416       94051.335938      119070.710938   \n",
       "1322365   860       SLR      182383.953125      141002.421875   \n",
       "1322367   526     QBZ95      195205.421875      197135.875000   \n",
       "1322368   240      M416       77017.804688      169595.593750   \n",
       "\n",
       "         victim_position_x  victim_position_y  \n",
       "2            344036.781250      144871.671875  \n",
       "3            421059.000000      145275.500000  \n",
       "4            243265.750000      237879.890625  \n",
       "5            357238.750000      353305.562500  \n",
       "6            402918.906250      130400.109375  \n",
       "...                    ...                ...  \n",
       "1322363      273294.187500      147043.203125  \n",
       "1322364       94905.406250      119155.976562  \n",
       "1322365      163486.468750      161870.781250  \n",
       "1322367      196735.750000      197023.234375  \n",
       "1322368       79121.820312      166670.703125  \n",
       "\n",
       "[991236 rows x 6 columns]"
      ]
     },
     "execution_count": 6,
     "metadata": {},
     "output_type": "execute_result"
    }
   ],
   "source": [
    "erangel_kill"
   ]
  },
  {
   "cell_type": "code",
   "execution_count": 7,
   "id": "a5d4beaf",
   "metadata": {},
   "outputs": [],
   "source": [
    "x_diffs = erangel_kill['killer_position_x'] - erangel_kill['victim_position_x']\n",
    "x_diffs = x_diffs/800000*4096\n",
    "y_diffs = erangel_kill['killer_position_y'] - erangel_kill['victim_position_y']\n",
    "y_diffs = y_diffs/800000*4096\n",
    "sq_diffs = x_diffs ** 2 + y_diffs ** 2\n",
    "dists = np.sqrt(sq_diffs)\n"
   ]
  },
  {
   "cell_type": "code",
   "execution_count": 8,
   "id": "65d08ba4",
   "metadata": {},
   "outputs": [],
   "source": [
    "erangel_kill['killer_position_x'] = dists"
   ]
  },
  {
   "cell_type": "code",
   "execution_count": 9,
   "id": "57658735",
   "metadata": {},
   "outputs": [],
   "source": [
    "erangel_kill = erangel_kill.rename(columns={'killer_position_x': 'kill_distance'})"
   ]
  },
  {
   "cell_type": "code",
   "execution_count": 10,
   "id": "6a2e2ecf",
   "metadata": {},
   "outputs": [],
   "source": [
    "erangel_kill.drop('victim_position_x', axis=1, inplace=True)\n",
    "erangel_kill.drop('victim_position_y', axis=1, inplace=True)"
   ]
  },
  {
   "cell_type": "code",
   "execution_count": 11,
   "id": "46b2ee09",
   "metadata": {},
   "outputs": [
    {
     "data": {
      "text/html": [
       "<div>\n",
       "<style scoped>\n",
       "    .dataframe tbody tr th:only-of-type {\n",
       "        vertical-align: middle;\n",
       "    }\n",
       "\n",
       "    .dataframe tbody tr th {\n",
       "        vertical-align: top;\n",
       "    }\n",
       "\n",
       "    .dataframe thead th {\n",
       "        text-align: right;\n",
       "    }\n",
       "</style>\n",
       "<table border=\"1\" class=\"dataframe\">\n",
       "  <thead>\n",
       "    <tr style=\"text-align: right;\">\n",
       "      <th></th>\n",
       "      <th>time</th>\n",
       "      <th>killed_by</th>\n",
       "      <th>kill_distance</th>\n",
       "      <th>killer_position_y</th>\n",
       "    </tr>\n",
       "  </thead>\n",
       "  <tbody>\n",
       "    <tr>\n",
       "      <th>2</th>\n",
       "      <td>975</td>\n",
       "      <td>Kar98k</td>\n",
       "      <td>23.493879</td>\n",
       "      <td>140552.984375</td>\n",
       "    </tr>\n",
       "    <tr>\n",
       "      <th>3</th>\n",
       "      <td>1255</td>\n",
       "      <td>G36C</td>\n",
       "      <td>2.893325</td>\n",
       "      <td>145435.109375</td>\n",
       "    </tr>\n",
       "    <tr>\n",
       "      <th>4</th>\n",
       "      <td>280</td>\n",
       "      <td>G36C</td>\n",
       "      <td>1.641428</td>\n",
       "      <td>238198.281250</td>\n",
       "    </tr>\n",
       "    <tr>\n",
       "      <th>5</th>\n",
       "      <td>101</td>\n",
       "      <td>UMP45</td>\n",
       "      <td>1.210877</td>\n",
       "      <td>353541.125000</td>\n",
       "    </tr>\n",
       "    <tr>\n",
       "      <th>6</th>\n",
       "      <td>1585</td>\n",
       "      <td>UMP45</td>\n",
       "      <td>4.314807</td>\n",
       "      <td>129671.914062</td>\n",
       "    </tr>\n",
       "    <tr>\n",
       "      <th>...</th>\n",
       "      <td>...</td>\n",
       "      <td>...</td>\n",
       "      <td>...</td>\n",
       "      <td>...</td>\n",
       "    </tr>\n",
       "    <tr>\n",
       "      <th>1322363</th>\n",
       "      <td>1072</td>\n",
       "      <td>M24</td>\n",
       "      <td>23.419412</td>\n",
       "      <td>147078.375000</td>\n",
       "    </tr>\n",
       "    <tr>\n",
       "      <th>1322364</th>\n",
       "      <td>123</td>\n",
       "      <td>M416</td>\n",
       "      <td>4.394578</td>\n",
       "      <td>119070.710938</td>\n",
       "    </tr>\n",
       "    <tr>\n",
       "      <th>1322365</th>\n",
       "      <td>860</td>\n",
       "      <td>SLR</td>\n",
       "      <td>144.144445</td>\n",
       "      <td>141002.421875</td>\n",
       "    </tr>\n",
       "    <tr>\n",
       "      <th>1322367</th>\n",
       "      <td>526</td>\n",
       "      <td>QBZ95</td>\n",
       "      <td>7.856476</td>\n",
       "      <td>197135.875000</td>\n",
       "    </tr>\n",
       "    <tr>\n",
       "      <th>1322368</th>\n",
       "      <td>240</td>\n",
       "      <td>M416</td>\n",
       "      <td>18.447543</td>\n",
       "      <td>169595.593750</td>\n",
       "    </tr>\n",
       "  </tbody>\n",
       "</table>\n",
       "<p>991236 rows × 4 columns</p>\n",
       "</div>"
      ],
      "text/plain": [
       "         time killed_by  kill_distance  killer_position_y\n",
       "2         975    Kar98k      23.493879      140552.984375\n",
       "3        1255      G36C       2.893325      145435.109375\n",
       "4         280      G36C       1.641428      238198.281250\n",
       "5         101     UMP45       1.210877      353541.125000\n",
       "6        1585     UMP45       4.314807      129671.914062\n",
       "...       ...       ...            ...                ...\n",
       "1322363  1072       M24      23.419412      147078.375000\n",
       "1322364   123      M416       4.394578      119070.710938\n",
       "1322365   860       SLR     144.144445      141002.421875\n",
       "1322367   526     QBZ95       7.856476      197135.875000\n",
       "1322368   240      M416      18.447543      169595.593750\n",
       "\n",
       "[991236 rows x 4 columns]"
      ]
     },
     "execution_count": 11,
     "metadata": {},
     "output_type": "execute_result"
    }
   ],
   "source": [
    "erangel_kill"
   ]
  },
  {
   "cell_type": "code",
   "execution_count": 12,
   "id": "7fb67322",
   "metadata": {},
   "outputs": [],
   "source": [
    "erangel_kill_shotgun_pistol = erangel_kill[erangel_kill[\"killed_by\"].str.contains(\"P18C|P1911|P92|R1895|R45|S12K|S1897|S686|Sawed-off|Skorpion\")==True]\n",
    "erangel_kill_smg = erangel_kill[erangel_kill[\"killed_by\"].str.contains(\"Bizon|MP5K|Micro UZI|Tommy Gun|UMP45|Vector\")==True]\n",
    "erangel_kill_rifle = erangel_kill[erangel_kill[\"killed_by\"].str.contains(\"AUG A3|AKM|DP-28|Groza|G36C|M16A4|M249|M416|M762|MK47 Mutant|QBU|QBZ95|Scar|VSS|Win94|Mini 14\")==True]\n",
    "erangel_kill_sniper = erangel_kill[erangel_kill[\"killed_by\"].str.contains(\"AWM|Kar98k|M24|Mk14|SKS|SLR\")==True]"
   ]
  },
  {
   "cell_type": "code",
   "execution_count": 13,
   "id": "060cb293",
   "metadata": {},
   "outputs": [
    {
     "name": "stderr",
     "output_type": "stream",
     "text": [
      "C:\\Users\\swrgo\\AppData\\Local\\Temp/ipykernel_17300/1924170185.py:1: SettingWithCopyWarning: \n",
      "A value is trying to be set on a copy of a slice from a DataFrame.\n",
      "Try using .loc[row_indexer,col_indexer] = value instead\n",
      "\n",
      "See the caveats in the documentation: https://pandas.pydata.org/pandas-docs/stable/user_guide/indexing.html#returning-a-view-versus-a-copy\n",
      "  erangel_kill_shotgun_pistol[\"killer_position_y\"] = \"shotgun_pistol\"\n",
      "C:\\Users\\swrgo\\AppData\\Local\\Temp/ipykernel_17300/1924170185.py:3: SettingWithCopyWarning: \n",
      "A value is trying to be set on a copy of a slice from a DataFrame.\n",
      "Try using .loc[row_indexer,col_indexer] = value instead\n",
      "\n",
      "See the caveats in the documentation: https://pandas.pydata.org/pandas-docs/stable/user_guide/indexing.html#returning-a-view-versus-a-copy\n",
      "  erangel_kill_smg[\"killer_position_y\"] = \"smg\"\n",
      "C:\\Users\\swrgo\\AppData\\Local\\Temp/ipykernel_17300/1924170185.py:6: SettingWithCopyWarning: \n",
      "A value is trying to be set on a copy of a slice from a DataFrame.\n",
      "Try using .loc[row_indexer,col_indexer] = value instead\n",
      "\n",
      "See the caveats in the documentation: https://pandas.pydata.org/pandas-docs/stable/user_guide/indexing.html#returning-a-view-versus-a-copy\n",
      "  erangel_kill_rifle[\"killer_position_y\"] = \"rifle\"\n",
      "C:\\Users\\swrgo\\AppData\\Local\\Temp/ipykernel_17300/1924170185.py:9: SettingWithCopyWarning: \n",
      "A value is trying to be set on a copy of a slice from a DataFrame.\n",
      "Try using .loc[row_indexer,col_indexer] = value instead\n",
      "\n",
      "See the caveats in the documentation: https://pandas.pydata.org/pandas-docs/stable/user_guide/indexing.html#returning-a-view-versus-a-copy\n",
      "  erangel_kill_sniper[\"killer_position_y\"] = \"sniper\"\n"
     ]
    }
   ],
   "source": [
    "erangel_kill_shotgun_pistol[\"killer_position_y\"] = \"shotgun_pistol\"\n",
    "erangel_kill_shotgun_pistol = erangel_kill_shotgun_pistol[erangel_kill_shotgun_pistol[\"kill_distance\"] < erangel_kill_shotgun_pistol[\"kill_distance\"].quantile(0.999)]\n",
    "erangel_kill_smg[\"killer_position_y\"] = \"smg\"\n",
    "erangel_kill_smg = erangel_kill_smg[erangel_kill_smg[\"kill_distance\"] < erangel_kill_smg[\"kill_distance\"].quantile(0.999)]\n",
    "\n",
    "erangel_kill_rifle[\"killer_position_y\"] = \"rifle\"\n",
    "erangel_kill_rifle = erangel_kill_rifle[erangel_kill_rifle[\"kill_distance\"] < erangel_kill_rifle[\"kill_distance\"].quantile(0.999)]\n",
    "\n",
    "erangel_kill_sniper[\"killer_position_y\"] = \"sniper\"\n",
    "erangel_kill_sniper = erangel_kill_sniper[erangel_kill_sniper[\"kill_distance\"] < erangel_kill_sniper[\"kill_distance\"].quantile(0.999)]\n"
   ]
  },
  {
   "cell_type": "code",
   "execution_count": 18,
   "id": "e47f7df3",
   "metadata": {},
   "outputs": [
    {
     "data": {
      "image/png": "[encoded data removed]",
      "text/plain": [
       "<Figure size 1728x864 with 1 Axes>"
      ]
     },
     "metadata": {
      "needs_background": "light"
     },
     "output_type": "display_data"
    }
   ],
   "source": [
    "df1 = pd.DataFrame(erangel_kill_shotgun_pistol['kill_distance'])\n",
    "df2 = pd.DataFrame(erangel_kill_smg['kill_distance'])\n",
    "df3 = pd.DataFrame(erangel_kill_rifle['kill_distance'])\n",
    "df4 = pd.DataFrame(erangel_kill_sniper['kill_distance'])\n",
    "df1 = df1.sample(n = 40000) #sample 40000 data points\n",
    "df2 = df2.sample(n = 40000) #sample 40000 data points\n",
    "df3 = df3.sample(n = 40000) #sample 40000 data points\n",
    "df4 = df4.sample(n = 40000) #sample 40000 data points\n",
    "\n",
    "\n",
    "\n",
    "\n",
    "\n",
    "\n",
    "bins = numpy.linspace(0, 100, 400)\n",
    "f = plt.figure(figsize=(24,12))\n",
    "\n",
    "plt.hist(df1, bins, alpha=0.3, label='Shotgun & Pistol')\n",
    "plt.hist(df2, bins, alpha=0.5, label='Smg')\n",
    "plt.hist(df3, bins, alpha=0.7, label='Rifle')\n",
    "plt.hist(df4, bins, alpha=0.5, label='Sniper')\n",
    "\n",
    "plt.legend(loc='upper right')\n",
    "plt.show()\n"
   ]
  },
  {
   "cell_type": "code",
   "execution_count": 15,
   "id": "6a025f10",
   "metadata": {},
   "outputs": [
    {
     "ename": "NameError",
     "evalue": "name 'kill_distance' is not defined",
     "output_type": "error",
     "traceback": [
      "\u001b[1;31m---------------------------------------------------------------------------\u001b[0m",
      "\u001b[1;31mNameError\u001b[0m                                 Traceback (most recent call last)",
      "\u001b[1;32m~\\AppData\\Local\\Temp/ipykernel_17300/143086738.py\u001b[0m in \u001b[0;36m<module>\u001b[1;34m\u001b[0m\n\u001b[0;32m      1\u001b[0m \u001b[0mkill_dist_weap_class\u001b[0m \u001b[1;33m=\u001b[0m \u001b[0merangel_kill_shotgun_pistol\u001b[0m\u001b[1;33m.\u001b[0m\u001b[0mappend\u001b[0m\u001b[1;33m(\u001b[0m\u001b[0merangel_kill_smg\u001b[0m\u001b[1;33m)\u001b[0m\u001b[1;33m.\u001b[0m\u001b[0mappend\u001b[0m\u001b[1;33m(\u001b[0m\u001b[0merangel_kill_rifle\u001b[0m\u001b[1;33m)\u001b[0m\u001b[1;33m.\u001b[0m\u001b[0mappend\u001b[0m\u001b[1;33m(\u001b[0m\u001b[0merangel_kill_sniper\u001b[0m\u001b[1;33m)\u001b[0m\u001b[1;33m\u001b[0m\u001b[1;33m\u001b[0m\u001b[0m\n\u001b[1;32m----> 2\u001b[1;33m \u001b[0mkill_dist_weap_class\u001b[0m \u001b[1;33m=\u001b[0m \u001b[0mkill_distance\u001b[0m\u001b[1;33m.\u001b[0m\u001b[0mrename\u001b[0m\u001b[1;33m(\u001b[0m\u001b[0mcolumns\u001b[0m\u001b[1;33m=\u001b[0m\u001b[1;33m{\u001b[0m\u001b[1;34m'killer_position_y'\u001b[0m\u001b[1;33m:\u001b[0m \u001b[1;34m'weapon_class'\u001b[0m\u001b[1;33m}\u001b[0m\u001b[1;33m)\u001b[0m\u001b[1;33m\u001b[0m\u001b[1;33m\u001b[0m\u001b[0m\n\u001b[0m",
      "\u001b[1;31mNameError\u001b[0m: name 'kill_distance' is not defined"
     ]
    }
   ],
   "source": [
    "kill_dist_weap_class = erangel_kill_shotgun_pistol.append(erangel_kill_smg).append(erangel_kill_rifle).append(erangel_kill_sniper)\n",
    "kill_dist_weap_class = kill_distance.rename(columns={'killer_position_y': 'weapon_class'})\n"
   ]
  },
  {
   "cell_type": "code",
   "execution_count": null,
   "id": "e0954f99",
   "metadata": {},
   "outputs": [],
   "source": [
    "kill_dist_weap_class"
   ]
  },
  {
   "cell_type": "code",
   "execution_count": null,
   "id": "92aec393",
   "metadata": {},
   "outputs": [],
   "source": [
    "pd.DataFrame(kill_dist_weap_class).to_csv('kill_dist_weap_class.csv', index=False)"
   ]
  },
  {
   "cell_type": "code",
   "execution_count": null,
   "id": "d173a72e",
   "metadata": {},
   "outputs": [],
   "source": []
  }
 ],
 "metadata": {
  "kernelspec": {
   "display_name": "Python 3 (ipykernel)",
   "language": "python",
   "name": "python3"
  },
  "language_info": {
   "codemirror_mode": {
    "name": "ipython",
    "version": 3
   },
   "file_extension": ".py",
   "mimetype": "text/x-python",
   "name": "python",
   "nbconvert_exporter": "python",
   "pygments_lexer": "ipython3",
   "version": "3.9.7"
  }
 },
 "nbformat": 4,
 "nbformat_minor": 5
}
