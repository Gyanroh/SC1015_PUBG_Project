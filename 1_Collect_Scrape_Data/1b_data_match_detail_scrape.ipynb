{
 "cells": [
  {
   "cell_type": "markdown",
   "metadata": {},
   "source": [
    "## PUBG.OP.GG match Details Scrape\n",
    "\n",
    "Given a player_list"
   ]
  },
  {
   "cell_type": "code",
   "execution_count": 1,
   "metadata": {},
   "outputs": [],
   "source": [
    "%load_ext autoreload\n",
    "%autoreload 2\n",
    "\n",
    "import requests\n",
    "import pandas as pd\n",
    "import datetime as dt\n",
    "import numpy as np\n",
    "import json\n",
    "from helper import *"
   ]
  },
  {
   "cell_type": "markdown",
   "metadata": {},
   "source": [
    "We start by importing previously generated player list"
   ]
  },
  {
   "cell_type": "code",
   "execution_count": 2,
   "metadata": {},
   "outputs": [],
   "source": [
    "player_list = pd.read_csv('player_base(large).csv', index_col=0, header=None)\n"
   ]
  },
  {
   "cell_type": "code",
   "execution_count": 3,
   "metadata": {},
   "outputs": [
    {
     "data": {
      "text/plain": [
       "array(['ZEUS2411', 'DMXPRO', 'MrBashis', ..., 'Nurtai', 'almightyloaf52',\n",
       "       '16wu-li-lao-shi'], dtype=object)"
      ]
     },
     "execution_count": 3,
     "metadata": {},
     "output_type": "execute_result"
    }
   ],
   "source": [
    "player_list = player_list.sample(player_list.shape[0] - 1)[1].values\n",
    "player_list"
   ]
  },
  {
   "cell_type": "markdown",
   "metadata": {},
   "source": [
    "We then pull each player's match history and save to a list of match IDs"
   ]
  },
  {
   "cell_type": "code",
   "execution_count": 4,
   "metadata": {},
   "outputs": [
    {
     "name": "stdout",
     "output_type": "stream",
     "text": [
      "Scraping 726550 items using <function mp_get_scrape_match_list at 0x000001E2450ED9D0> in 9500 processes.\n",
      "I HAVE COMPLETED!!!    \n"
     ]
    }
   ],
   "source": [
    "def mp_get_scrape_match_list(player):\n",
    "    player = str(player)\n",
    "    try:\n",
    "        uinfo = request_user_info(player)\n",
    "    except:\n",
    "        return []\n",
    "    \n",
    "    uid = get_user_id(uinfo)\n",
    "    if uid is not None:\n",
    "        try:\n",
    "            return request_match_history(uid)\n",
    "        except:\n",
    "            return []\n",
    "    \n",
    "if __name__ == '__main__':\n",
    "    results = mp_run(player_list, mp_get_scrape_match_list, 800)\n",
    "    results = [i for i in results if i]"
   ]
  },
  {
   "cell_type": "code",
   "execution_count": 5,
   "metadata": {},
   "outputs": [
    {
     "name": "stdout",
     "output_type": "stream",
     "text": [
      "435408 match ids scraped\n"
     ]
    }
   ],
   "source": [
    "match_list = list(set(np.concatenate(list(results)))) # remove dupes after\n",
    "print('%i match ids scraped' % len(match_list))"
   ]
  },
  {
   "cell_type": "markdown",
   "metadata": {},
   "source": [
    "Separate Match IDs into chunks for multithreading process to generate separate files of 10000 match IDs"
   ]
  },
  {
   "cell_type": "code",
   "execution_count": 6,
   "metadata": {
    "scrolled": true
   },
   "outputs": [
    {
     "name": "stdout",
     "output_type": "stream",
     "text": [
      "Saving 44 chunks\n"
     ]
    },
    {
     "name": "stderr",
     "output_type": "stream",
     "text": [
      "C:\\Users\\swrgo\\anaconda3\\lib\\site-packages\\numpy\\core\\_asarray.py:171: VisibleDeprecationWarning: Creating an ndarray from ragged nested sequences (which is a list-or-tuple of lists-or-tuples-or ndarrays with different lengths or shapes) is deprecated. If you meant to do this, you must specify 'dtype=object' when creating the ndarray.\n",
      "  return array(a, dtype, copy=False, order=order, subok=True)\n"
     ]
    }
   ],
   "source": [
    "create_chunks = lambda l,n: [l[i:i + n] for i in range(0, len(l), n)]\n",
    "chunk_size = 10000\n",
    "chunks = create_chunks(match_list, chunk_size)\n",
    "print('Saving %i chunks' % len(chunks))\n",
    "np.save('match_id_chunks.npy', chunks, allow_pickle=True)"
   ]
  },
  {
   "cell_type": "code",
   "execution_count": 7,
   "metadata": {},
   "outputs": [
    {
     "name": "stdout",
     "output_type": "stream",
     "text": [
      "44\n"
     ]
    }
   ],
   "source": [
    "chunks = np.load('match_id_chunks.npy',allow_pickle = True)\n",
    "print(len(chunks))"
   ]
  },
  {
   "cell_type": "markdown",
   "metadata": {},
   "source": [
    "### Match General Details\n"
   ]
  },
  {
   "cell_type": "code",
   "execution_count": 9,
   "metadata": {
    "scrolled": true
   },
   "outputs": [
    {
     "name": "stdout",
     "output_type": "stream",
     "text": [
      "Scraping 10000 items using <function mp_get_scrape_match_gen_details at 0x000001E24512C0D0> in 800 processes.\n",
      "I HAVE COMPLETED!!!  \n",
      "Saving 58301 rows of chunk 0 to csv\n",
      "Scraping 10000 items using <function mp_get_scrape_match_gen_details at 0x000001E24512C0D0> in 800 processes.\n",
      "I HAVE COMPLETED!!!  \n",
      "Saving 94103 rows of chunk 1 to csv\n",
      "Scraping 10000 items using <function mp_get_scrape_match_gen_details at 0x000001E24512C0D0> in 800 processes.\n",
      "I HAVE COMPLETED!!!  \n",
      "Saving 113446 rows of chunk 2 to csv\n",
      "Scraping 10000 items using <function mp_get_scrape_match_gen_details at 0x000001E24512C0D0> in 800 processes.\n",
      "I HAVE COMPLETED!!!  \n",
      "Saving 136380 rows of chunk 3 to csv\n",
      "Scraping 10000 items using <function mp_get_scrape_match_gen_details at 0x000001E24512C0D0> in 800 processes.\n",
      "I HAVE COMPLETED!!!  \n",
      "Saving 172343 rows of chunk 4 to csv\n",
      "Scraping 10000 items using <function mp_get_scrape_match_gen_details at 0x000001E24512C0D0> in 800 processes.\n",
      "I HAVE COMPLETED!!!  \n",
      "Saving 215476 rows of chunk 5 to csv\n",
      "Scraping 10000 items using <function mp_get_scrape_match_gen_details at 0x000001E24512C0D0> in 800 processes.\n",
      "I HAVE COMPLETED!!!  \n",
      "Saving 229507 rows of chunk 6 to csv\n",
      "Scraping 10000 items using <function mp_get_scrape_match_gen_details at 0x000001E24512C0D0> in 800 processes.\n",
      "I HAVE COMPLETED!!!  \n",
      "Saving 272932 rows of chunk 7 to csv\n",
      "Scraping 10000 items using <function mp_get_scrape_match_gen_details at 0x000001E24512C0D0> in 800 processes.\n",
      "I HAVE COMPLETED!!!  \n",
      "Saving 259038 rows of chunk 8 to csv\n",
      "Scraping 10000 items using <function mp_get_scrape_match_gen_details at 0x000001E24512C0D0> in 800 processes.\n",
      "I HAVE COMPLETED!!!  \n",
      "Saving 264953 rows of chunk 9 to csv\n",
      "Scraping 10000 items using <function mp_get_scrape_match_gen_details at 0x000001E24512C0D0> in 800 processes.\n",
      "I HAVE COMPLETED!!!  \n",
      "Saving 314010 rows of chunk 10 to csv\n",
      "Scraping 10000 items using <function mp_get_scrape_match_gen_details at 0x000001E24512C0D0> in 800 processes.\n",
      "I HAVE COMPLETED!!!  \n",
      "Saving 318072 rows of chunk 11 to csv\n",
      "Scraping 10000 items using <function mp_get_scrape_match_gen_details at 0x000001E24512C0D0> in 800 processes.\n",
      "I HAVE COMPLETED!!!  \n",
      "Saving 366171 rows of chunk 12 to csv\n",
      "Scraping 10000 items using <function mp_get_scrape_match_gen_details at 0x000001E24512C0D0> in 800 processes.\n",
      "I HAVE COMPLETED!!!  \n",
      "Saving 364700 rows of chunk 13 to csv\n",
      "Scraping 10000 items using <function mp_get_scrape_match_gen_details at 0x000001E24512C0D0> in 800 processes.\n",
      "I HAVE COMPLETED!!!  \n",
      "Saving 387458 rows of chunk 14 to csv\n",
      "Scraping 10000 items using <function mp_get_scrape_match_gen_details at 0x000001E24512C0D0> in 800 processes.\n",
      "I HAVE COMPLETED!!!  \n",
      "Saving 385598 rows of chunk 15 to csv\n",
      "Scraping 10000 items using <function mp_get_scrape_match_gen_details at 0x000001E24512C0D0> in 800 processes.\n",
      "I HAVE COMPLETED!!!  \n",
      "Saving 350304 rows of chunk 16 to csv\n",
      "Scraping 10000 items using <function mp_get_scrape_match_gen_details at 0x000001E24512C0D0> in 800 processes.\n",
      "I HAVE COMPLETED!!!  \n",
      "Saving 365596 rows of chunk 17 to csv\n",
      "Scraping 10000 items using <function mp_get_scrape_match_gen_details at 0x000001E24512C0D0> in 800 processes.\n",
      "I HAVE COMPLETED!!!  \n",
      "Saving 383652 rows of chunk 18 to csv\n",
      "Scraping 10000 items using <function mp_get_scrape_match_gen_details at 0x000001E24512C0D0> in 800 processes.\n",
      "I HAVE COMPLETED!!!  \n",
      "Saving 358765 rows of chunk 19 to csv\n",
      "Scraping 10000 items using <function mp_get_scrape_match_gen_details at 0x000001E24512C0D0> in 800 processes.\n",
      "I HAVE COMPLETED!!!  \n",
      "Saving 388467 rows of chunk 20 to csv\n",
      "Scraping 10000 items using <function mp_get_scrape_match_gen_details at 0x000001E24512C0D0> in 800 processes.\n",
      "I HAVE COMPLETED!!!  \n",
      "Saving 379774 rows of chunk 21 to csv\n",
      "Scraping 10000 items using <function mp_get_scrape_match_gen_details at 0x000001E24512C0D0> in 800 processes.\n",
      "I HAVE COMPLETED!!!  \n",
      "Saving 371881 rows of chunk 22 to csv\n",
      "Scraping 10000 items using <function mp_get_scrape_match_gen_details at 0x000001E24512C0D0> in 800 processes.\n",
      "I HAVE COMPLETED!!!  \n",
      "Saving 402484 rows of chunk 23 to csv\n",
      "Scraping 10000 items using <function mp_get_scrape_match_gen_details at 0x000001E24512C0D0> in 800 processes.\n",
      "I HAVE COMPLETED!!!  \n",
      "Saving 377121 rows of chunk 24 to csv\n",
      "Scraping 10000 items using <function mp_get_scrape_match_gen_details at 0x000001E24512C0D0> in 800 processes.\n",
      "I HAVE COMPLETED!!!  \n",
      "Saving 381561 rows of chunk 25 to csv\n",
      "Scraping 10000 items using <function mp_get_scrape_match_gen_details at 0x000001E24512C0D0> in 800 processes.\n",
      "I HAVE COMPLETED!!!  \n",
      "Saving 379270 rows of chunk 26 to csv\n",
      "Scraping 10000 items using <function mp_get_scrape_match_gen_details at 0x000001E24512C0D0> in 800 processes.\n",
      "I HAVE COMPLETED!!!  \n",
      "Saving 384393 rows of chunk 27 to csv\n",
      "Scraping 10000 items using <function mp_get_scrape_match_gen_details at 0x000001E24512C0D0> in 800 processes.\n",
      "I HAVE COMPLETED!!!  \n",
      "Saving 387812 rows of chunk 28 to csv\n",
      "Scraping 10000 items using <function mp_get_scrape_match_gen_details at 0x000001E24512C0D0> in 800 processes.\n",
      "I HAVE COMPLETED!!!  \n",
      "Saving 380922 rows of chunk 29 to csv\n",
      "Scraping 10000 items using <function mp_get_scrape_match_gen_details at 0x000001E24512C0D0> in 800 processes.\n",
      "I HAVE COMPLETED!!!  \n",
      "Saving 389732 rows of chunk 30 to csv\n",
      "Scraping 10000 items using <function mp_get_scrape_match_gen_details at 0x000001E24512C0D0> in 800 processes.\n",
      "I HAVE COMPLETED!!!  \n",
      "Saving 393006 rows of chunk 31 to csv\n",
      "Scraping 10000 items using <function mp_get_scrape_match_gen_details at 0x000001E24512C0D0> in 800 processes.\n",
      "I HAVE COMPLETED!!!  \n",
      "Saving 401041 rows of chunk 32 to csv\n",
      "Scraping 10000 items using <function mp_get_scrape_match_gen_details at 0x000001E24512C0D0> in 800 processes.\n",
      "I HAVE COMPLETED!!!  \n",
      "Saving 359569 rows of chunk 33 to csv\n",
      "Scraping 10000 items using <function mp_get_scrape_match_gen_details at 0x000001E24512C0D0> in 800 processes.\n",
      "I HAVE COMPLETED!!!  \n",
      "Saving 394852 rows of chunk 34 to csv\n",
      "Scraping 10000 items using <function mp_get_scrape_match_gen_details at 0x000001E24512C0D0> in 800 processes.\n",
      "I HAVE COMPLETED!!!  \n",
      "Saving 368917 rows of chunk 35 to csv\n",
      "Scraping 10000 items using <function mp_get_scrape_match_gen_details at 0x000001E24512C0D0> in 800 processes.\n",
      "I HAVE COMPLETED!!!  \n",
      "Saving 385541 rows of chunk 36 to csv\n",
      "Scraping 10000 items using <function mp_get_scrape_match_gen_details at 0x000001E24512C0D0> in 800 processes.\n",
      "I HAVE COMPLETED!!!  \n",
      "Saving 390521 rows of chunk 37 to csv\n",
      "Scraping 10000 items using <function mp_get_scrape_match_gen_details at 0x000001E24512C0D0> in 800 processes.\n",
      "I HAVE COMPLETED!!!  \n",
      "Saving 421936 rows of chunk 38 to csv\n",
      "Scraping 10000 items using <function mp_get_scrape_match_gen_details at 0x000001E24512C0D0> in 800 processes.\n",
      "I HAVE COMPLETED!!!  \n",
      "Saving 358232 rows of chunk 39 to csv\n",
      "Scraping 10000 items using <function mp_get_scrape_match_gen_details at 0x000001E24512C0D0> in 800 processes.\n",
      "I HAVE COMPLETED!!!  \n",
      "Saving 402957 rows of chunk 40 to csv\n",
      "Scraping 10000 items using <function mp_get_scrape_match_gen_details at 0x000001E24512C0D0> in 800 processes.\n",
      "I HAVE COMPLETED!!!  \n",
      "Saving 361578 rows of chunk 41 to csv\n",
      "Scraping 10000 items using <function mp_get_scrape_match_gen_details at 0x000001E24512C0D0> in 800 processes.\n",
      "I HAVE COMPLETED!!!  \n",
      "Saving 412748 rows of chunk 42 to csv\n",
      "Scraping 5408 items using <function mp_get_scrape_match_gen_details at 0x000001E24512C0D0> in 800 processes.\n",
      "I HAVE COMPLETED!!!  \n",
      "Saving 200292 rows of chunk 43 to csv\n"
     ]
    }
   ],
   "source": [
    "def mp_get_scrape_match_gen_details(m_id):\n",
    "    d = []\n",
    "    try:\n",
    "        feed = request_match_detail(m_id)\n",
    "        for team in feed['teams']:\n",
    "            for player in team['participants']:\n",
    "                d.append({\n",
    "                    'match_id': m_id,\n",
    "                    'date': feed['started_at'],\n",
    "                    'match_mode': feed['mode'],\n",
    "                    'party_size': feed['queue_size'],\n",
    "                    'game_size': feed['total_rank'],\n",
    "                    'team_id': team['_id'],\n",
    "                    'team_placement': team['stats']['rank'],\n",
    "                    'player_name': player['user']['nickname'],\n",
    "                    'player_kills': player['stats']['combat']['kda']['kills'],\n",
    "                    'player_assists': player['stats']['combat']['kda']['assists'],\n",
    "                    'player_survive_time':  player['stats']['combat']['time_survived'],\n",
    "                    'player_dmg': player['stats']['combat']['damage']['damage_dealt'],\n",
    "                    'player_dbno': player['stats']['combat']['dbno']['knock_downs'],\n",
    "                    'player_dist_walk': player['stats']['combat']['distance_traveled']['walk_distance'],\n",
    "                    'player_dist_ride': player['stats']['combat']['distance_traveled']['ride_distance'],\n",
    "                })\n",
    "    except:\n",
    "        return d\n",
    "    return d\n",
    "\n",
    "if __name__ == '__main__':\n",
    "    for i,c in enumerate(chunks):\n",
    "        results = mp_run(c, mp_get_scrape_match_gen_details, 800)\n",
    "        match_gen_details = np.concatenate(list(results)).tolist()\n",
    "        print('Saving %i rows of chunk %i to csv' % (len(match_gen_details), i))\n",
    "        pd.DataFrame(match_gen_details).to_csv('gen_match_stats_%i.csv' % i, index=False)"
   ]
  },
  {
   "cell_type": "markdown",
   "metadata": {},
   "source": [
    "### Match Kills Details"
   ]
  },
  {
   "cell_type": "code",
   "execution_count": 11,
   "metadata": {
    "scrolled": true
   },
   "outputs": [
    {
     "name": "stdout",
     "output_type": "stream",
     "text": [
      "Scraping 10000 items using <function mp_get_scrape_match_kill_details at 0x000001E249F4EB80> in 800 processes.\n",
      "I HAVE COMPLETED!!!  \n",
      "Saving 51767 rows of chunk 0 to csv\n",
      "Scraping 10000 items using <function mp_get_scrape_match_kill_details at 0x000001E249F4EB80> in 800 processes.\n",
      "I HAVE COMPLETED!!!  \n",
      "Saving 53933 rows of chunk 1 to csv\n",
      "Scraping 10000 items using <function mp_get_scrape_match_kill_details at 0x000001E249F4EB80> in 800 processes.\n",
      "I HAVE COMPLETED!!!  \n",
      "Saving 57508 rows of chunk 2 to csv\n",
      "Scraping 10000 items using <function mp_get_scrape_match_kill_details at 0x000001E249F4EB80> in 800 processes.\n",
      "I HAVE COMPLETED!!!  \n",
      "Saving 67898 rows of chunk 3 to csv\n",
      "Scraping 10000 items using <function mp_get_scrape_match_kill_details at 0x000001E249F4EB80> in 800 processes.\n",
      "I HAVE COMPLETED!!!  \n",
      "Saving 70885 rows of chunk 4 to csv\n",
      "Scraping 10000 items using <function mp_get_scrape_match_kill_details at 0x000001E249F4EB80> in 800 processes.\n",
      "I HAVE COMPLETED!!!  \n",
      "Saving 52490 rows of chunk 5 to csv\n",
      "Scraping 10000 items using <function mp_get_scrape_match_kill_details at 0x000001E249F4EB80> in 800 processes.\n",
      "I HAVE COMPLETED!!!  \n",
      "Saving 40496 rows of chunk 6 to csv\n",
      "Scraping 10000 items using <function mp_get_scrape_match_kill_details at 0x000001E249F4EB80> in 800 processes.\n",
      "I HAVE COMPLETED!!!  \n",
      "Saving 42731 rows of chunk 7 to csv\n",
      "Scraping 10000 items using <function mp_get_scrape_match_kill_details at 0x000001E249F4EB80> in 800 processes.\n",
      "I HAVE COMPLETED!!!  \n",
      "Saving 46608 rows of chunk 8 to csv\n",
      "Scraping 10000 items using <function mp_get_scrape_match_kill_details at 0x000001E249F4EB80> in 800 processes.\n",
      "I HAVE COMPLETED!!!  \n",
      "Saving 44803 rows of chunk 9 to csv\n",
      "Scraping 10000 items using <function mp_get_scrape_match_kill_details at 0x000001E249F4EB80> in 800 processes.\n",
      "I HAVE COMPLETED!!!  \n",
      "Saving 41030 rows of chunk 10 to csv\n",
      "Scraping 10000 items using <function mp_get_scrape_match_kill_details at 0x000001E249F4EB80> in 800 processes.\n",
      "I HAVE COMPLETED!!!  \n",
      "Saving 37665 rows of chunk 11 to csv\n",
      "Scraping 10000 items using <function mp_get_scrape_match_kill_details at 0x000001E249F4EB80> in 800 processes.\n",
      "I HAVE COMPLETED!!!  \n",
      "Saving 32996 rows of chunk 12 to csv\n",
      "Scraping 10000 items using <function mp_get_scrape_match_kill_details at 0x000001E249F4EB80> in 800 processes.\n",
      "I HAVE COMPLETED!!!  \n",
      "Saving 36736 rows of chunk 13 to csv\n",
      "Scraping 10000 items using <function mp_get_scrape_match_kill_details at 0x000001E249F4EB80> in 800 processes.\n",
      "I HAVE COMPLETED!!!  \n",
      "Saving 38559 rows of chunk 14 to csv\n",
      "Scraping 10000 items using <function mp_get_scrape_match_kill_details at 0x000001E249F4EB80> in 800 processes.\n",
      "I HAVE COMPLETED!!!  \n",
      "Saving 34142 rows of chunk 15 to csv\n",
      "Scraping 10000 items using <function mp_get_scrape_match_kill_details at 0x000001E249F4EB80> in 800 processes.\n",
      "I HAVE COMPLETED!!!  \n",
      "Saving 25738 rows of chunk 16 to csv\n",
      "Scraping 10000 items using <function mp_get_scrape_match_kill_details at 0x000001E249F4EB80> in 800 processes.\n",
      "I HAVE COMPLETED!!!  \n",
      "Saving 26081 rows of chunk 17 to csv\n",
      "Scraping 10000 items using <function mp_get_scrape_match_kill_details at 0x000001E249F4EB80> in 800 processes.\n",
      "I HAVE COMPLETED!!!  \n",
      "Saving 25235 rows of chunk 18 to csv\n",
      "Scraping 10000 items using <function mp_get_scrape_match_kill_details at 0x000001E249F4EB80> in 800 processes.\n",
      "I HAVE COMPLETED!!!  \n",
      "Saving 26996 rows of chunk 19 to csv\n",
      "Scraping 10000 items using <function mp_get_scrape_match_kill_details at 0x000001E249F4EB80> in 800 processes.\n",
      "I HAVE COMPLETED!!!  \n",
      "Saving 25849 rows of chunk 20 to csv\n",
      "Scraping 10000 items using <function mp_get_scrape_match_kill_details at 0x000001E249F4EB80> in 800 processes.\n",
      "I HAVE COMPLETED!!!  \n",
      "Saving 26459 rows of chunk 21 to csv\n",
      "Scraping 10000 items using <function mp_get_scrape_match_kill_details at 0x000001E249F4EB80> in 800 processes.\n",
      "I HAVE COMPLETED!!!  \n",
      "Saving 26175 rows of chunk 22 to csv\n",
      "Scraping 10000 items using <function mp_get_scrape_match_kill_details at 0x000001E249F4EB80> in 800 processes.\n",
      "I HAVE COMPLETED!!!  \n",
      "Saving 23081 rows of chunk 23 to csv\n",
      "Scraping 10000 items using <function mp_get_scrape_match_kill_details at 0x000001E249F4EB80> in 800 processes.\n",
      "I HAVE COMPLETED!!!  \n",
      "Saving 23894 rows of chunk 24 to csv\n",
      "Scraping 10000 items using <function mp_get_scrape_match_kill_details at 0x000001E249F4EB80> in 800 processes.\n",
      "I HAVE COMPLETED!!!  \n",
      "Saving 23381 rows of chunk 25 to csv\n",
      "Scraping 10000 items using <function mp_get_scrape_match_kill_details at 0x000001E249F4EB80> in 800 processes.\n",
      "I HAVE COMPLETED!!!  \n",
      "Saving 23072 rows of chunk 26 to csv\n",
      "Scraping 10000 items using <function mp_get_scrape_match_kill_details at 0x000001E249F4EB80> in 800 processes.\n",
      "I HAVE COMPLETED!!!  \n",
      "Saving 24801 rows of chunk 27 to csv\n",
      "Scraping 10000 items using <function mp_get_scrape_match_kill_details at 0x000001E249F4EB80> in 800 processes.\n",
      "I HAVE COMPLETED!!!  \n",
      "Saving 25014 rows of chunk 28 to csv\n",
      "Scraping 10000 items using <function mp_get_scrape_match_kill_details at 0x000001E249F4EB80> in 800 processes.\n",
      "I HAVE COMPLETED!!!  \n",
      "Saving 23529 rows of chunk 29 to csv\n",
      "Scraping 10000 items using <function mp_get_scrape_match_kill_details at 0x000001E249F4EB80> in 800 processes.\n",
      "I HAVE COMPLETED!!!  \n",
      "Saving 19674 rows of chunk 30 to csv\n",
      "Scraping 10000 items using <function mp_get_scrape_match_kill_details at 0x000001E249F4EB80> in 800 processes.\n",
      "I HAVE COMPLETED!!!  \n",
      "Saving 20724 rows of chunk 31 to csv\n",
      "Scraping 10000 items using <function mp_get_scrape_match_kill_details at 0x000001E249F4EB80> in 800 processes.\n",
      "I HAVE COMPLETED!!!  \n",
      "Saving 21037 rows of chunk 32 to csv\n",
      "Scraping 10000 items using <function mp_get_scrape_match_kill_details at 0x000001E249F4EB80> in 800 processes.\n",
      "I HAVE COMPLETED!!!  \n",
      "Saving 20112 rows of chunk 33 to csv\n",
      "Scraping 10000 items using <function mp_get_scrape_match_kill_details at 0x000001E249F4EB80> in 800 processes.\n",
      "I HAVE COMPLETED!!!  \n",
      "Saving 18141 rows of chunk 34 to csv\n",
      "Scraping 10000 items using <function mp_get_scrape_match_kill_details at 0x000001E249F4EB80> in 800 processes.\n",
      "I HAVE COMPLETED!!!  \n",
      "Saving 18859 rows of chunk 35 to csv\n",
      "Scraping 10000 items using <function mp_get_scrape_match_kill_details at 0x000001E249F4EB80> in 800 processes.\n",
      "I HAVE COMPLETED!!!  \n",
      "Saving 19784 rows of chunk 36 to csv\n",
      "Scraping 10000 items using <function mp_get_scrape_match_kill_details at 0x000001E249F4EB80> in 800 processes.\n",
      "I HAVE COMPLETED!!!  \n",
      "Saving 20025 rows of chunk 37 to csv\n",
      "Scraping 10000 items using <function mp_get_scrape_match_kill_details at 0x000001E249F4EB80> in 800 processes.\n",
      "I HAVE COMPLETED!!!  \n",
      "Saving 20378 rows of chunk 38 to csv\n",
      "Scraping 10000 items using <function mp_get_scrape_match_kill_details at 0x000001E249F4EB80> in 800 processes.\n",
      "I HAVE COMPLETED!!!  \n",
      "Saving 20738 rows of chunk 39 to csv\n",
      "Scraping 10000 items using <function mp_get_scrape_match_kill_details at 0x000001E249F4EB80> in 800 processes.\n",
      "I HAVE COMPLETED!!!  \n",
      "Saving 20724 rows of chunk 40 to csv\n",
      "Scraping 10000 items using <function mp_get_scrape_match_kill_details at 0x000001E249F4EB80> in 800 processes.\n",
      "I HAVE COMPLETED!!!  \n",
      "Saving 21132 rows of chunk 41 to csv\n",
      "Scraping 10000 items using <function mp_get_scrape_match_kill_details at 0x000001E249F4EB80> in 800 processes.\n",
      "I HAVE COMPLETED!!!  \n",
      "Saving 20876 rows of chunk 42 to csv\n",
      "Scraping 5408 items using <function mp_get_scrape_match_kill_details at 0x000001E249F4EB80> in 800 processes.\n",
      "I HAVE COMPLETED!!!  \n",
      "Saving 11119 rows of chunk 43 to csv\n"
     ]
    }
   ],
   "source": [
    "def mp_get_scrape_match_kill_details(m_id):\n",
    "    d = []\n",
    "    try:\n",
    "        feed = request_match_kill_detail(m_id)\n",
    "        for death in feed['deaths']:\n",
    "            if death['killer'] is None:\n",
    "                killer_name = None; killer_placement = None; killer_position_x = None; killer_position_y = None;\n",
    "            else:\n",
    "                killer_name = death['killer']['user']['nickname']\n",
    "                killer_placement = death['killer']['rank'] if death['killer']['rank'] is not None else 1\n",
    "                killer_position_x = death['killer']['position']['x']\n",
    "                killer_position_y = death['killer']['position']['y']\n",
    "\n",
    "            d.append({\n",
    "                'match_id': m_id,\n",
    "                'time': death['time_event'],\n",
    "                'map': feed['map_id'],\n",
    "                'killed_by': death['description'],\n",
    "                'killer_name': killer_name,\n",
    "                'killer_placement': killer_placement,\n",
    "                'killer_position_x': killer_position_x,\n",
    "                'killer_position_y': killer_position_y,\n",
    "                'victim_name': death['victim']['user']['nickname'],\n",
    "                'victim_placement': death['victim']['rank'],\n",
    "                'victim_position_x': death['victim']['position']['x'],\n",
    "                'victim_position_y': death['victim']['position']['y'],\n",
    "            })\n",
    "    except:\n",
    "        return d\n",
    "    return d\n",
    "\n",
    "if __name__ == '__main__':\n",
    "    for i,c in enumerate(chunks):\n",
    "        results = mp_run(c, mp_get_scrape_match_kill_details, 800)\n",
    "        match_kill_details = np.concatenate(list(results)).tolist()\n",
    "        print('Saving %i rows of chunk %i to csv' % (len(match_kill_details), i))\n",
    "        pd.DataFrame(match_kill_details).to_csv('match_kill_match_stats_%i.csv' % i, index=False)"
   ]
  },
  {
   "cell_type": "code",
   "execution_count": null,
   "metadata": {},
   "outputs": [],
   "source": []
  }
 ],
 "metadata": {
  "kernelspec": {
   "display_name": "Python 3 (ipykernel)",
   "language": "python",
   "name": "python3"
  },
  "language_info": {
   "codemirror_mode": {
    "name": "ipython",
    "version": 3
   },
   "file_extension": ".py",
   "mimetype": "text/x-python",
   "name": "python",
   "nbconvert_exporter": "python",
   "pygments_lexer": "ipython3",
   "version": "3.9.7"
  }
 },
 "nbformat": 4,
 "nbformat_minor": 2
}
