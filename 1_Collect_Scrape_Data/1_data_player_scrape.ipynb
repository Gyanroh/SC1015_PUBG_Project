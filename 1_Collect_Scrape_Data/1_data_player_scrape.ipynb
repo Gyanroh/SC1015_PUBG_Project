{
 "cells": [
  {
   "cell_type": "markdown",
   "metadata": {},
   "source": [
    "## PUBG.OP.GG Player Scrape"
   ]
  },
  {
   "cell_type": "code",
   "execution_count": 2,
   "metadata": {},
   "outputs": [],
   "source": [
    "%load_ext autoreload\n",
    "%autoreload 2\n",
    "\n",
    "import requests\n",
    "import pandas as pd\n",
    "import datetime as dt\n",
    "import numpy as np\n",
    "import json\n",
    "\n",
    "from helper import *"
   ]
  },
  {
   "cell_type": "markdown",
   "metadata": {},
   "source": [
    "We start with a simple seed and comb through all associated players with each of their match."
   ]
  },
  {
   "cell_type": "code",
   "execution_count": 5,
   "metadata": {},
   "outputs": [
    {
     "name": "stdout",
     "output_type": "stream",
     "text": [
      "5a61ac971b1994000113d8b6\n",
      "59fe34e6e816be0001db6efb\n",
      "59fe34ea9c036600013e1790\n",
      "5a45dc290e496f00017bed72\n"
     ]
    }
   ],
   "source": [
    "starting_seed_uinfo = ['GyanRoh','chocoTaco', 'DrDisrespect', 'Shrimzy']\n",
    "starting_seed_id =[]\n",
    "\n",
    "for username in starting_seed_uinfo:\n",
    "    ss_uinfo = request_user_info(username)\n",
    "    ss_id = get_user_id(ss_uinfo)\n",
    "    print(ss_id)\n",
    "    starting_seed_id += [ss_id]\n",
    "\n",
    "player_base = [starting_seed_uinfo] #initial player base"
   ]
  },
  {
   "cell_type": "markdown",
   "metadata": {},
   "source": [
    "Get all matches by seeding player and save them"
   ]
  },
  {
   "cell_type": "code",
   "execution_count": 6,
   "metadata": {},
   "outputs": [],
   "source": [
    "seed_match_base = []\n",
    "\n",
    "for ss_id in starting_seed_id:\n",
    "    seed_match_base += request_match_history(ss_id)"
   ]
  },
  {
   "cell_type": "code",
   "execution_count": 7,
   "metadata": {
    "scrolled": true
   },
   "outputs": [
    {
     "name": "stdout",
     "output_type": "stream",
     "text": [
      "['JwQTpc85CVDzAo7j_aZ9pe0lts63RlBtfEM72kblkvSKWosRtQSfidAMlUmDoYRHFTpwfwskaa09sHhxv1w0VcSjdzEozxLkCNP-aNZVE6q61n9pIQuG5EGo4uw92a22', 'JwQTpc85CVDzAo7j_aZ9pRgOH7g3Rjm5bsge3tcFjxrxLq9xx8T4NSJO3r2mGnviZK9BW7h4u7WGrelPL_1EXRiy2bfGS0Loi9d4g0V7e5dztBkY_tWpEh6eYXgtp1dXR-48ZR57z4M=', 'JwQTpc85CVDzAo7j_aZ9pXny2EXWlzTcf9v-ZXduXQeBO9wPEHiXtDiLdgwbDiVqqfyo9PF1Y5VxPckqnO3VS-s_f3UUa6pJytAk63eSDNBcLODNIrr6IhjTyps6wwCCIXW-F5CJJC4=', 'JwQTpc85CVDzAo7j_aZ9pR-riFaoXMH3Z9nfAz_I47lOJtTtzeXyX-7Oi3a0a7mOASTJB2tgS6e_qYaQ-5FIvBn03NfUKGdUpjWXLQ77g-lFqnZPkXmB2NHvNIr7ziACUwYzVnrFBsc=', 'JwQTpc85CVDzAo7j_aZ9pXZ0k8ddE0-TrhXB3elk1UY0wNgkvb9t9OUg7wAZwHVJsOuZeQ3mA8WEtAfvEnyZgbHu_Ke0KPxt3MQeErhrc4oXf9NDSTQwYmqHdxtv4tk2rr0xr3abQhY=', 'JwQTpc85CVDzAo7j_aZ9pSp8b5ub_l8hZgOnYeM43fgYSQFL4LKKa_beqhVPFRODHyezchTAvkZZQtFVKO6jUmwbyJZ3tWZzFF_fhdMSGzhAFh4ZThdNu5OxKv1ElkZ83dBxIcFQ_vI=', 'JwQTpc85CVDzAo7j_aZ9paq6CbPAjMwH25TeGg0LzRtrcjqH7o5XiBsqyFx56hiUUCXjTzDju5VSESx3nN1Frm-idDxLvc5uDYcuMluSvlkxFeTPxHvEAPkfIRYFt7b70zYXjQIHt0A=', 'JwQTpc85CVDzAo7j_aZ9pRUamaT7vw3rQ7TmOUiKK6sfqACcB6gf_Uj95prAfQQNGeC7iQjhXhgDoNnQ-CI98Assb5CwR-2MuRiHalKXRV-mcdUWuktBT1ylBp902Lo5XK85VGe6OUk=', 'JwQTpc85CVDzAo7j_aZ9pUHvMcJ6GQD70k6lIwkGx_W64ryQrQD6WKhy0uXoCNY_7yTSc1z4TFPXV3YetJbch1E0LjnA49w2Mq0M0b14um7vgR58FnrCJT7LK_lgUXoeaDfnuDdqVRQ=', 'JwQTpc85CVDzAo7j_aZ9perdEyhSz-6uxJc_RzmhSv0sNGmOEXY8WmKvUFL9WnVDfeDwSWOb8FLVDpVza5SkxuWEyQstCi9DWbeWirmoqTM79-g8hwzZnlwUIcdLLjAYaUFaQ9-qzLo=', 'JwQTpc85CVDzAo7j_aZ9pcV4aDRNr1ZL_lOYnmdDTFz1ZYmuYD2IImCtbx91_RvYL7C6IIJTL1GjK7mbWT0Zpd5GguZh3Hrfwz-9hJ7JPrIgNqW2tAKNZusWEid5W_vsTSBo6-IYzSY=', 'JwQTpc85CVDzAo7j_aZ9peG7D6nSRq17rCnjh_B3a2GpQLS4mnh1dluMG1JvzAkGjPZTzWgLUkOZ1KSQ0mj1HJztbBcRm-7vw91tMK6UnV7Mw5neVe-nL5IweOiqQJSawDV7Vecs6OM=', 'JwQTpc85CVDzAo7j_aZ9pUeFAoUHecaydAWNVvjdjc-AkzXpwHyTW5rMsKbUW8hw9hgH1WazSMsGQjcvkR9pPlC77rSBz3kFYKYxj7GOcQG9RSj9ekfxULBez6KjxXc4H1FxIZuT6kg=', 'JwQTpc85CVDzAo7j_aZ9pcMntK3VkEhyzNRYGsuN84gqmpYNmRH05H9J3tI2NMt-6k-d-2yrf2h0J-cTEj3PytZPwgcssYW9SBbRhWlXh3a-k3P6NHGAg2Xgd4mmQ5M9S8ASrn54tmM=', 'JwQTpc85CVDzAo7j_aZ9paFZEKd14v7vxBdBqLZKRDUZ9WnNhZ2JCljoLvslfsg3okQKj_4lc_rrUdpubk7G7mSmBSCvAnHrFdmaI584aLtOoDGv6WoEahjwknc-FRZB-zIf-jPp7dc=', 'JwQTpc85CVDzAo7j_aZ9pYBwzDPoo-AMySzK4lLJ6ZqC3Jsbg-zt6DPQN7_PX82nu6Wjemre0d1zOALhXlRlBN9i51jatSjSZTPA36NeyxOaWzoryPYcKAwlPDbnZMlva_U7Zgp8PHQ=', 'JwQTpc85CVDzAo7j_aZ9peT0DHaxTGHLqWcgXbFyJW0Selur-pnG646oxfGVlfv5knUdi9jPPFWX9BLDzuFMTAhUHSgeRHn9r14-UR_kiin6QLeYnAuyz_3SG1X23MJS_Tza0E0Wwv0=', 'JwQTpc85CVDzAo7j_aZ9pRIgm1dcnwaOAtluI1VpTrMtUuFLYKSyuY96Y1T9egvIpxnSVrVTfcSuojidrhyh0EisibuqsBKOBy2BAH0y9qMGKXqxpNalYT26BwAJ_tD5A2eJuO13OwU=', 'JwQTpc85CVDzAo7j_aZ9pfqLy9V4PIAF45jmh9WAgvdjYHfKMWqHkU0eeSYLO-ZNbLB2M_8UbSgBb7ZXkqwUz0F0uAhgYCBopaFpUvYhH4mi2wT1jCNeDkour8E_3W5JIdExa_awpnw=', 'JwQTpc85CVDzAo7j_aZ9pbjx6HgaJ4siryt1GlVpavR_0PBf0EU4gVryylnTRCdt9y2MXDTb0otCFwiEs1zPM5kqyFDAkUm3SL3DvJHBH-bPEmqvZM2AavYVxMmekSBt5y7D62IgiYg=', 'JwQTpc85CVDzAo7j_aZ9pegfB2aH9hjj48f3LfDIdsVIrh8DOs5yhVuhxoVPgF9zRhPCY3xvNvoyDEikCtc3zIHhFSlzpIj6zyZ7sAB84i4F7a5dlonqPQW9NFIi00FY', 'JwQTpc85CVDzAo7j_aZ9pVjuKOXFJhGczJkd_m6I70taHFdcajPN5x1_-bl12X9OljyXUFIsqKOeXkBjlgcn5hw91tjogW_NwPiLYuZEkwJS4qyDF30-Udz5ECMaNNxG3zGHGfz3KYc=', 'JwQTpc85CVDzAo7j_aZ9pYueaF9cCLKN2E9FtYP_wdP4l9nPoVsd8aJeQkn4YLQw7jYE_bErw4KuUK4fcjp0F-b5GEBPG_sLKwD2zXcRs4Jr-Tov94BFGTffa2o_lNE9MBRmZ7zX7GU=', 'JwQTpc85CVDzAo7j_aZ9pa9W-VA6qBW3a28CIl5DG7MWm51DjczC24pslY7s7FbeMWbKxqomBiewaxqcFSrNs-ETO9ZYfgF0WoZXUDCi6QQPZkxarJI2XQROsd4XupqOR6YVPldmMPE=', 'JwQTpc85CVDzAo7j_aZ9pYAPWNonaDEp7NVOCeThQSzk_xvBKodpwcCPRwBHmRUxE07UNec-jeG8Bl8xwpboO2zF-j4omPmKhyOfi05UKeIih88W5DWiagMBQzDJlBiXS16v6azwvP8=', 'JwQTpc85CVDzAo7j_aZ9paqdKVE_uM12POPu6tfV0-nPFNpn8KjmUgLsVrtdyg6V-ksVi6cKKrWBVUNbepLAfzcxmJ9PfQ2Bv_oFpG2CwLiG5MGaLDyGNPry9Itbrqzr0O7lcPO6gPs=', 'JwQTpc85CVDzAo7j_aZ9paZDjvECNCoqGeYNIBF4U1dnIZ5pirxAsVbfFuPPyEPIuBExv8f0NIoATArggF9ZLV1tAez18s4ej0EVjwaxGjFwqln9b21Jn8wzB0lscTiun98S7pxZ3F8=', 'JwQTpc85CVDzAo7j_aZ9pffd6XX6seSVxHeoGXB1kCADseoo3oBn5dnZMToo1x-l0RxWCw_T0ReWp5DYq6db2kfDLRKiZWkor7gbMUdTARmE7SjVGiFzDFjfiWBJjZVXETNEhczTmzo=', 'JwQTpc85CVDzAo7j_aZ9pebjlf-OfmmEOD-B4bqygSlHcn8N6UVogjaAbpaECbClkyTZPJ1TnWv78Lc3D3d_IczCSS-UOI_6df7l2LU8PIG2_-P7moGKW2R0s8zvyUk30zVva20JFm4=', 'JwQTpc85CVDzAo7j_aZ9pdIoOMg3LGunxvqw-HoKYKtQHFFWuqZSoyuEbwE7XiFSM_0UcUng5np-ycIp6kcn1ABH5zLyGCdQkNAbcXwJypVagN7Aw3W3buFCK1V0OkZVmL1Y0wLMh9I=', 'JwQTpc85CVDzAo7j_aZ9pSEvzPB3lbHkPfdWMq5oZz3tkQpNP7x5RhoZq-ifBmmU-ek2M10Y5Afdl4YcwNpAfNiM8iZ6Ypjl5vnqFXsQ5UCBNWeC2Kd18VQudDCcBSKLKb8RtWhlVhk=', 'JwQTpc85CVDzAo7j_aZ9pRQXanb3BDLv2b22fB1HOKD2j0TICXL23fNe2TY6tP9A-dFe3ndC6KWHFZBAYfsMIR_mbVGyNccu3lboPNMgnzvofiFWdbeF58P7PASg9BRsnyLHT-DxoH8=', 'JwQTpc85CVDzAo7j_aZ9pelD9jsVSEtMCSHSw-N4E8Mi8VSTDYsbvNkREsw70ouUkw7dmXI9RPJpX9gOMpI8RbKMmQVBnevqCcX3LrnM2eEhUMz8kWUPoxpaoo9zuGfA0a7UY6ah2uE=', 'JwQTpc85CVDzAo7j_aZ9pRDEhqutLQrO3aVGtBSY7hf57v1Ba-6Hexm4KKstAOgkTnhXuf2kdL0A3FUlY5LaL5Wsu0tQY4bk-XWFh3xYbEEwahzarAO3TUaLX3VGka2a7obz5eLVOPc=', 'JwQTpc85CVDzAo7j_aZ9pdMQg-bAwRsiR42E8QYu-W2MsaLkTERW3yieT3UHAqpwlRwAr7xxVAaDNqWASNQ0FSfnd0bXVqxFYQEY9l-2YBo0HEFPgEw_R7MUTbEgoYueYbdl4Bfj1go=', 'JwQTpc85CVDzAo7j_aZ9pcNEOk7Zqh64uJfIko5HGdjZYOo8y955msKjnvbaZC_sM9BgHw_6zr-WJ-__sgiGvJVdA5cuETRyXch1hUZYs7cbuSI5vmdEX9JcqvCIBQZXHaAwKTFmvj8=', 'JwQTpc85CVDzAo7j_aZ9pXVv_ypizIuko1lLUy-1R2U0sFEjZCH-VJcl22S68VqIDtOUsXsJPcO9akwQNvd_-peXEyZ28LGAGHIaw_Orn2NsA-KdhFxrm1sWB-d1secDXlqMHISK_1k=', 'JwQTpc85CVDzAo7j_aZ9pRVo9D0WWsOv3UU4SeLA1p_WhPWr29aYhZVRC9gctROjmElUNtvd507o8lNtX1MdjkJkpLFMaETSg_VcxSf2SEpQg1lJpAN--RssaxlkGa5nP8ObFRx43Ws=', 'JwQTpc85CVDzAo7j_aZ9pdqvgZKW1HfIPQZgUJ4TQdFt89pMsNcuoNSzWN_9MJmNAGH6WhuO6K6axjy-jUc8yO8bUR0Mv7x_s9_RzjBe9RZfXYh7866QAw87MyoP2mtvua65bVNfSWk=', 'JwQTpc85CVDzAo7j_aZ9pZEqaQaczwpBlCItxMOs0ByZVs0qX2jdjdhlVXzE2iThKDH0itCP300FIj8UkxwIHPWEFfzjN6huWvuVZS9fFZJUTaIX55BO6Uf-0dHjKPzSI6JvsBkh1wQ=', 'JwQTpc85CVDzAo7j_aZ9pQeMB-tSwyHShWG5NXQetYoXQaRGq3rSkGuFvrvLx6VcSmrxvEpMupgvumay9Le6zL-REcaR5APdCJXciDXm0Rqtm6TQcS1CFXMInO-V0Oj0mQXj0v0wMI4=', 'JwQTpc85CVDzAo7j_aZ9pZvK7z8YB7irpd9s5bDWb3c6VvQ9jzB986396A4hdzfpIZ0Imre5QiU_nDy9Ht5YzZrvbfz5IpBHOpi-LCvUSETTYQmx1830cREc8BtsJ7Ay7DRlAo1XKwo=', 'JwQTpc85CVDzAo7j_aZ9paTIi3agOZH3mPcAUgZ-zszl6BFdQeysyZvLFjcnmCo0QTvDpvnh70T_9b8jZVGtJB28QNMEhtivfSocQ_O7G28YU1bKJ67auziMxPfofUss7uB28v5jA14=', 'JwQTpc85CVDzAo7j_aZ9pXt-Trd8gRmVHNjsTiHSw5faxzvefgL_dUPFQN1xEQj1n5IAdkCQ-V5fE-Dbk-gR1Kk4UqnZ8JCQBPGyI9ZwiPbnagCwkSBXv33wcO0hcli9zxRjjTODqs4=', 'JwQTpc85CVDzAo7j_aZ9pZtRr0W3UgHa0dE7gLyob9H00R9FzWyZ3fzUfetefz57DDJVPpx3ut9mAUDHHVKMArc233l2XzcRlL3GkWIRvTi9J7fUN-kUJc52YyPZX_-wj-dXqxu6L_8=', 'JwQTpc85CVDzAo7j_aZ9pTgTLe2iGlJwrRIwhF_7ljC3j5GIvqlTcQlKMr3HetMK_1GOhDPwMmFsqJDz36ETmlJJYjT5C-q2nCoqqjC1CrFZPZOcDzpTw8rTpln_UpgNPH2OfzGgNUg=', 'JwQTpc85CVDzAo7j_aZ9pUCKkb0Rb-V2zjZIYoOwEDxirsGQ_jChNyu-gpLAhfw1ZQ_28941RVbbN0wzFa2kwOmFTRBJXeWQm4u07epPEXYc8rna80wTOE0dQpLho_-n6iYrejSES3s=', 'JwQTpc85CVDzAo7j_aZ9pdXUkaYxDLPXzIvKmXUJ-FsI391FzGzQwoN-cQY5bKs0BgXzFbzx2uCaTDE9jAm8RYwN4rfaCE2MySVI4jKUZ8cfni3Kvudb7O2vL8i5tu7PXfGKfJSTXL0=', 'JwQTpc85CVDzAo7j_aZ9pZyrBkRQSiIOIC-D6NYDOYlO05MmG9r0Hy91vN-K4v8slbZuy3UDEV56gGNonYWro4hmv0feAOjN8Obc7IuV6LT3pz_pcKTn75acQ-nREM0iqhV-basFcOc=', 'JwQTpc85CVDzAo7j_aZ9paFrkRnwjhC3KcwSmhDHmQ2QnI0gqxsePtMhyqR92OvBENj9TullLkCWrCet26RCOaKVStc8ZOwkM8d6FNDuMCLQHjVVyQC36qQzyBcrku4-4YzemK65vUo=', 'JwQTpc85CVDzAo7j_aZ9pQC1_mqXWhgWr_LXWLz1H06QDBgR4esXXLk9bWqRRTQ6-5rtbI8lr4KLULmYe12TuEHsGTAYTtvrvCwzw1oqYTFEHu2dMQmMxkTUyUCf9B-pbPYtvkC-MHI=', 'JwQTpc85CVDzAo7j_aZ9pT45sJOZ1eK0XMvbz4belnytTSaVYmbkD6JL4vXdIN0yo3I8cqwq8Xmxsqi8VDA2LAc7AJzsOmXCuGCnhG1M6l7DY33eNnyc8O16rRdSVTLcLyduaX8-Yow=', 'JwQTpc85CVDzAo7j_aZ9pShAjoCZPtsjUpbL67URU4b1j4wyWl1rbUE8kmSVqUqyJVC9xa24sF7u1tXSW7sw1srAW4fgBzfkCrNMQKe2PSzHkKDNV4Mt6m8WBUqOGoCgjbSAqClBaSM=', 'JwQTpc85CVDzAo7j_aZ9pbht9IBtpP_M68iGQSdWBJUJiVWeHiC3K1F-1xnDBPYA-AOib4LF9bl4VbYonHzd0szrTSZ-12LTWXZbx2yXvPylg_p2f4DWZvBOBFqLKjMw7MVCvyGJAmU=', 'JwQTpc85CVDzAo7j_aZ9pVxyrt1iuQiSY66wkkKBhka-fzd2ea5cWVpREP7m2T2F6hh9AOviWg9EfN3qAFg0WHKEo5nJLmKWnlkfGvdisjTjR-wtcc504ToxqGK9oqbH8eFy6Uub9R0=', 'JwQTpc85CVDzAo7j_aZ9pRysi28DNXify343TNZFns8_GWhtHlFNaMvOpkssMLO-TsnU5wJQkJxY4C989-bqQUH_B_ejytT8aqnDK8va96vLMY3prvkp43vhqoOqrbJHRfrbQEHnbkc=', 'JwQTpc85CVDzAo7j_aZ9pTzliu6oFliiMhLjMS7V78HppZCNh4rmiE1zU5oRmXc3bRUMHH3IUlXswINgsC91cKbAXR60LR_2IS1iy-FPu86jnX_AOwE563S0KmevgtStuQ1nqAI9LCU=', 'JwQTpc85CVDzAo7j_aZ9pQXz5MVVY1-SVf24TTxyPRj351fAX8b8sYlFch1tks605RC8gYbfSckrU5ErUmDsmnUOFa-OizFAotZ01PKYlbjPAU_eFiVLpByQuJPYGkpxTy6SPUJAqsY=', 'JwQTpc85CVDzAo7j_aZ9pTbXb9rXBzkncWEa0E8D48hjV8TWz5y_60YmMEfc8SXrRH8RTXj3vyssG7vo5BJ_qrKKTaF2BbopDLe8tooVDut3MSNEe5yAnMTEsazHyG1TcZGgnHFt1PI=', 'JwQTpc85CVDzAo7j_aZ9pZ2zRSupBPnBxPf-H98KjLuHkYDR4xpdPnsokOs5dGA_8vRi-59Bpns2GA0Kat2k0lbU0dzicbHk4uubZZU27p4evv_oEsaFI9za4ejmXd7v2kNZoKFkosQ=', 'JwQTpc85CVDzAo7j_aZ9pTM8GEPXcoCDF4Zv0x1P9aAZen2cKq34GwpfXDte24JtimcIXEU_m8roVAS6_mqI-hDBxUzq5_NZaomCH-JvCwCrewFXLPPlzpe_vhUZ4rBuap1f0ivKrio=', 'JwQTpc85CVDzAo7j_aZ9pZFoTHJr1RJw9CwS1aXSpwhvP-KrIukg7YqauK-NLCUTfPJtFt-QYrWoewYGvdAuSibJTVStPsN0kBP7L98avosbEFfhpsGBaJ4RpinmXTLjoIT4C_8oFRI=', 'JwQTpc85CVDzAo7j_aZ9pZ7TFotDFjL3qE_sGv1Jk9Vmq99aIQY5nCSXQblmCui-SPM8s92Hdsb0RzisgThr8v_MXflukBW947fl7M4daNxl2yCZD0FNQ2mgHFJ4n7-dhHWJeH8_260=', 'JwQTpc85CVDzAo7j_aZ9pSlF__b9oUPhnqYva8glEI8ozVPsYINuuMBA_pp-LEnIMjFlHUJL6fIYY6pWJiHIYTH0-6k3uetydMjXfSdP-fJV80JtD1Eh1hFhzjZsqdaIP31KB3KVBrg=', 'JwQTpc85CVDzAo7j_aZ9pSHG7m2l3pIqt9lmCZvxmLpShHTtewqfSpzR0oXc5XZ15e4NNuTvOFxurgq3lKCz94KcoYoweoa7F5PH3C_tn9arFD9ahstNs0hSdhIuQ_puMyRFZ5xtGl8=', 'JwQTpc85CVDzAo7j_aZ9pRDvG-wsUkJaVystr9yfrMj1G8k5LFTYGmRK6JgjgB4u_xM5DAJw8UroG_OrZQN3h_ojqDUFlIxOk4DmklVJT-8G9s593k0BPARLiIHafv6NdHEktGMp3sc=', 'JwQTpc85CVDzAo7j_aZ9pUfQkfsoS3M0IIyZCgEG6I6BZrvM8Zyh_7eKrfJhILhxQPG3tk23YkkvuemiRu0CwMAnNzbShGX2fZJXIGj6GvtQpgehn7bdE3aW2B30Gw9LplO7cNX5brI=', 'JwQTpc85CVDzAo7j_aZ9pUsPVqxanZJOE4a18scawGwRWopY7p5RY5gRiE9L20aY4IRnWUYWbazRNb8jdgf4IbDmol4-2rD3FpyiqOctimDaWWwIKpHHB7mgQh7wW-KY5HE_r4eSiwo=', 'JwQTpc85CVDzAo7j_aZ9pQg2geSDXsBa_L5zVO0--XkMaQ8khO7AAnaC0G8RtICu24BsUMZ-RFarHDkENPXkelQSFMHhRsBc9nM-J3rt84qfoerJVMFdg-4GOTLlRoaUeVgeX2SJudU=', 'JwQTpc85CVDzAo7j_aZ9pQo39VkDk--OPINApllMOZ43xQrrW0NW4h6rZWPlGOjkN6cELktTFKlIqonMQ-DiS9-QrQGT9jEst0ZyZunaxoeUYLSlSXUUSp7fG0H_QXRF-Iis_TpcKew=', 'JwQTpc85CVDzAo7j_aZ9pcdWb1IEiOOh6YrP_4RbsEQU2r1MYrzhIwhf9Y4BsxTkluv061d9WzGMlvybm1YpNeuxVtteoihpOcE8fYXfJTF99XI5oA1NGONDt6bw2aq39vmFQlEofm8=', 'JwQTpc85CVDzAo7j_aZ9pTKubSs3XNSfaj30rFhwayeG2JUNNosH2326fWCSL5KpGIa_nMGT3-UCWy8lYtUbM5MPZu4C6HNQ8gn023ydB8yN_I9KMYT82I4Ge-GWTmGjRnwcoHWqKak=', 'JwQTpc85CVDzAo7j_aZ9pa9nU-Xj3xB0CpZ-PXRXTCYVeqBpx_EpQ1U8DW9ldlLheuePjVyEvCs6NzQFg--JVjJic2O0fGJo5qr3ugcCBHuCVaWWmiwDDr_RLgx_TTZSaZgyXOw5q_I=', 'JwQTpc85CVDzAo7j_aZ9pfnlgOiL4Bt8ppbyQyQbf5wUwZDXHU5AQ-27-74Uv9moHsTWEnsoa5ZCeUbAN4sjTPJiRvEMlfn6eOLaayw48h_XYhY5GsnUTNshT-lxwvmF8Zd0LFQVJfI=', 'JwQTpc85CVDzAo7j_aZ9pTIJ4gs4kMHywHhmyd45qui4K_rtohU2cNiKH3K522bQMoOcqQ7BscGIr4Uzqu4X4GrfrivvBkNrn0MKaVlSzBD1wHhnNHDWFJ2bPgbS4S1qQDALPZAUIcA=', 'JwQTpc85CVDzAo7j_aZ9pe1RTHYrqJK_SwRbSK3DP7sciSRutwKTqnR1lugtz23VUs9ogQyXRJGr9z9sNFNWcUHopbl1VkgScYi9acOBN77Fj-w1ZiGJW6KTGF0ki_G1xnbb9mnRU48=', 'JwQTpc85CVDzAo7j_aZ9pYx7BPmygoix3DkFqmvb3yq95M4J5I1aH0vJntdP1FXGnkgbh9F2mo8IPAfSLhDyXN6iotnrLv8J5skvNaB3p8WJZADN1HnZ-sYaszOfu1q8jL7R_9Ou5tA=', 'JwQTpc85CVDzAo7j_aZ9pQypw4CQFTvPXH1qF1IVCCsgZ_EQpSrn4wu25NfYzWaRRzXnsmcLhKWBFCbrv4JWPGtnscY827j7Mqr5XCkIPzmuOGbrJ8lkLrC8HsxCfH4gTiRARHxaeKc=', 'JwQTpc85CVDzAo7j_aZ9pYNrUf8mUk2NzIYq5p6_n6itZ4Sx4EsII7-qj8ELa7EvLn3WwlE6omNSTfF_7fLJynXVm-DxcOS8weeQ5yUlvq-G59gxHzlXUlFhDquDrH-HgL4VE1V6r_M=', 'JwQTpc85CVDzAo7j_aZ9pdJMCzFGERcrQUlkonfKPuTwWsj7DSrKj-CZrauioqK6h8VfmDkQ79RPiQWcxosE9Slll2T2jYFkzXyCdOj7mqOCa1DKx8RKcu4d6md-F7Xj9EQ-DPfFJbg=']\n"
     ]
    }
   ],
   "source": [
    "print(seed_match_base)"
   ]
  },
  {
   "cell_type": "markdown",
   "metadata": {},
   "source": [
    "Comb through each match and get each player name and id."
   ]
  },
  {
   "cell_type": "code",
   "execution_count": 8,
   "metadata": {
    "scrolled": true
   },
   "outputs": [
    {
     "name": "stdout",
     "output_type": "stream",
     "text": [
      "requesting JwQTpc85CVDzAo7j_aZ9pe0lts63RlBtfEM72kblkvSKWosRtQSfidAMlUmDoYRHFTpwfwskaa09sHhxv1w0VcSjdzEozxLkCNP-aNZVE6q61n9pIQuG5EGo4uw92a22\n",
      "requesting JwQTpc85CVDzAo7j_aZ9pRgOH7g3Rjm5bsge3tcFjxrxLq9xx8T4NSJO3r2mGnviZK9BW7h4u7WGrelPL_1EXRiy2bfGS0Loi9d4g0V7e5dztBkY_tWpEh6eYXgtp1dXR-48ZR57z4M=\n",
      "requesting JwQTpc85CVDzAo7j_aZ9pXny2EXWlzTcf9v-ZXduXQeBO9wPEHiXtDiLdgwbDiVqqfyo9PF1Y5VxPckqnO3VS-s_f3UUa6pJytAk63eSDNBcLODNIrr6IhjTyps6wwCCIXW-F5CJJC4=\n",
      "requesting JwQTpc85CVDzAo7j_aZ9pR-riFaoXMH3Z9nfAz_I47lOJtTtzeXyX-7Oi3a0a7mOASTJB2tgS6e_qYaQ-5FIvBn03NfUKGdUpjWXLQ77g-lFqnZPkXmB2NHvNIr7ziACUwYzVnrFBsc=\n",
      "requesting JwQTpc85CVDzAo7j_aZ9pXZ0k8ddE0-TrhXB3elk1UY0wNgkvb9t9OUg7wAZwHVJsOuZeQ3mA8WEtAfvEnyZgbHu_Ke0KPxt3MQeErhrc4oXf9NDSTQwYmqHdxtv4tk2rr0xr3abQhY=\n",
      "requesting JwQTpc85CVDzAo7j_aZ9pSp8b5ub_l8hZgOnYeM43fgYSQFL4LKKa_beqhVPFRODHyezchTAvkZZQtFVKO6jUmwbyJZ3tWZzFF_fhdMSGzhAFh4ZThdNu5OxKv1ElkZ83dBxIcFQ_vI=\n",
      "requesting JwQTpc85CVDzAo7j_aZ9paq6CbPAjMwH25TeGg0LzRtrcjqH7o5XiBsqyFx56hiUUCXjTzDju5VSESx3nN1Frm-idDxLvc5uDYcuMluSvlkxFeTPxHvEAPkfIRYFt7b70zYXjQIHt0A=\n",
      "requesting JwQTpc85CVDzAo7j_aZ9pRUamaT7vw3rQ7TmOUiKK6sfqACcB6gf_Uj95prAfQQNGeC7iQjhXhgDoNnQ-CI98Assb5CwR-2MuRiHalKXRV-mcdUWuktBT1ylBp902Lo5XK85VGe6OUk=\n",
      "requesting JwQTpc85CVDzAo7j_aZ9pUHvMcJ6GQD70k6lIwkGx_W64ryQrQD6WKhy0uXoCNY_7yTSc1z4TFPXV3YetJbch1E0LjnA49w2Mq0M0b14um7vgR58FnrCJT7LK_lgUXoeaDfnuDdqVRQ=\n",
      "requesting JwQTpc85CVDzAo7j_aZ9perdEyhSz-6uxJc_RzmhSv0sNGmOEXY8WmKvUFL9WnVDfeDwSWOb8FLVDpVza5SkxuWEyQstCi9DWbeWirmoqTM79-g8hwzZnlwUIcdLLjAYaUFaQ9-qzLo=\n",
      "requesting JwQTpc85CVDzAo7j_aZ9pcV4aDRNr1ZL_lOYnmdDTFz1ZYmuYD2IImCtbx91_RvYL7C6IIJTL1GjK7mbWT0Zpd5GguZh3Hrfwz-9hJ7JPrIgNqW2tAKNZusWEid5W_vsTSBo6-IYzSY=\n",
      "requesting JwQTpc85CVDzAo7j_aZ9peG7D6nSRq17rCnjh_B3a2GpQLS4mnh1dluMG1JvzAkGjPZTzWgLUkOZ1KSQ0mj1HJztbBcRm-7vw91tMK6UnV7Mw5neVe-nL5IweOiqQJSawDV7Vecs6OM=\n",
      "requesting JwQTpc85CVDzAo7j_aZ9pUeFAoUHecaydAWNVvjdjc-AkzXpwHyTW5rMsKbUW8hw9hgH1WazSMsGQjcvkR9pPlC77rSBz3kFYKYxj7GOcQG9RSj9ekfxULBez6KjxXc4H1FxIZuT6kg=\n",
      "requesting JwQTpc85CVDzAo7j_aZ9pcMntK3VkEhyzNRYGsuN84gqmpYNmRH05H9J3tI2NMt-6k-d-2yrf2h0J-cTEj3PytZPwgcssYW9SBbRhWlXh3a-k3P6NHGAg2Xgd4mmQ5M9S8ASrn54tmM=\n",
      "requesting JwQTpc85CVDzAo7j_aZ9paFZEKd14v7vxBdBqLZKRDUZ9WnNhZ2JCljoLvslfsg3okQKj_4lc_rrUdpubk7G7mSmBSCvAnHrFdmaI584aLtOoDGv6WoEahjwknc-FRZB-zIf-jPp7dc=\n",
      "requesting JwQTpc85CVDzAo7j_aZ9pYBwzDPoo-AMySzK4lLJ6ZqC3Jsbg-zt6DPQN7_PX82nu6Wjemre0d1zOALhXlRlBN9i51jatSjSZTPA36NeyxOaWzoryPYcKAwlPDbnZMlva_U7Zgp8PHQ=\n",
      "requesting JwQTpc85CVDzAo7j_aZ9peT0DHaxTGHLqWcgXbFyJW0Selur-pnG646oxfGVlfv5knUdi9jPPFWX9BLDzuFMTAhUHSgeRHn9r14-UR_kiin6QLeYnAuyz_3SG1X23MJS_Tza0E0Wwv0=\n",
      "requesting JwQTpc85CVDzAo7j_aZ9pRIgm1dcnwaOAtluI1VpTrMtUuFLYKSyuY96Y1T9egvIpxnSVrVTfcSuojidrhyh0EisibuqsBKOBy2BAH0y9qMGKXqxpNalYT26BwAJ_tD5A2eJuO13OwU=\n",
      "requesting JwQTpc85CVDzAo7j_aZ9pfqLy9V4PIAF45jmh9WAgvdjYHfKMWqHkU0eeSYLO-ZNbLB2M_8UbSgBb7ZXkqwUz0F0uAhgYCBopaFpUvYhH4mi2wT1jCNeDkour8E_3W5JIdExa_awpnw=\n",
      "requesting JwQTpc85CVDzAo7j_aZ9pbjx6HgaJ4siryt1GlVpavR_0PBf0EU4gVryylnTRCdt9y2MXDTb0otCFwiEs1zPM5kqyFDAkUm3SL3DvJHBH-bPEmqvZM2AavYVxMmekSBt5y7D62IgiYg=\n",
      "requesting JwQTpc85CVDzAo7j_aZ9pegfB2aH9hjj48f3LfDIdsVIrh8DOs5yhVuhxoVPgF9zRhPCY3xvNvoyDEikCtc3zIHhFSlzpIj6zyZ7sAB84i4F7a5dlonqPQW9NFIi00FY\n",
      "requesting JwQTpc85CVDzAo7j_aZ9pVjuKOXFJhGczJkd_m6I70taHFdcajPN5x1_-bl12X9OljyXUFIsqKOeXkBjlgcn5hw91tjogW_NwPiLYuZEkwJS4qyDF30-Udz5ECMaNNxG3zGHGfz3KYc=\n",
      "requesting JwQTpc85CVDzAo7j_aZ9pYueaF9cCLKN2E9FtYP_wdP4l9nPoVsd8aJeQkn4YLQw7jYE_bErw4KuUK4fcjp0F-b5GEBPG_sLKwD2zXcRs4Jr-Tov94BFGTffa2o_lNE9MBRmZ7zX7GU=\n",
      "requesting JwQTpc85CVDzAo7j_aZ9pa9W-VA6qBW3a28CIl5DG7MWm51DjczC24pslY7s7FbeMWbKxqomBiewaxqcFSrNs-ETO9ZYfgF0WoZXUDCi6QQPZkxarJI2XQROsd4XupqOR6YVPldmMPE=\n",
      "requesting JwQTpc85CVDzAo7j_aZ9pYAPWNonaDEp7NVOCeThQSzk_xvBKodpwcCPRwBHmRUxE07UNec-jeG8Bl8xwpboO2zF-j4omPmKhyOfi05UKeIih88W5DWiagMBQzDJlBiXS16v6azwvP8=\n",
      "requesting JwQTpc85CVDzAo7j_aZ9paqdKVE_uM12POPu6tfV0-nPFNpn8KjmUgLsVrtdyg6V-ksVi6cKKrWBVUNbepLAfzcxmJ9PfQ2Bv_oFpG2CwLiG5MGaLDyGNPry9Itbrqzr0O7lcPO6gPs=\n",
      "requesting JwQTpc85CVDzAo7j_aZ9paZDjvECNCoqGeYNIBF4U1dnIZ5pirxAsVbfFuPPyEPIuBExv8f0NIoATArggF9ZLV1tAez18s4ej0EVjwaxGjFwqln9b21Jn8wzB0lscTiun98S7pxZ3F8=\n",
      "requesting JwQTpc85CVDzAo7j_aZ9pffd6XX6seSVxHeoGXB1kCADseoo3oBn5dnZMToo1x-l0RxWCw_T0ReWp5DYq6db2kfDLRKiZWkor7gbMUdTARmE7SjVGiFzDFjfiWBJjZVXETNEhczTmzo=\n",
      "requesting JwQTpc85CVDzAo7j_aZ9pebjlf-OfmmEOD-B4bqygSlHcn8N6UVogjaAbpaECbClkyTZPJ1TnWv78Lc3D3d_IczCSS-UOI_6df7l2LU8PIG2_-P7moGKW2R0s8zvyUk30zVva20JFm4=\n",
      "requesting JwQTpc85CVDzAo7j_aZ9pdIoOMg3LGunxvqw-HoKYKtQHFFWuqZSoyuEbwE7XiFSM_0UcUng5np-ycIp6kcn1ABH5zLyGCdQkNAbcXwJypVagN7Aw3W3buFCK1V0OkZVmL1Y0wLMh9I=\n",
      "requesting JwQTpc85CVDzAo7j_aZ9pSEvzPB3lbHkPfdWMq5oZz3tkQpNP7x5RhoZq-ifBmmU-ek2M10Y5Afdl4YcwNpAfNiM8iZ6Ypjl5vnqFXsQ5UCBNWeC2Kd18VQudDCcBSKLKb8RtWhlVhk=\n",
      "requesting JwQTpc85CVDzAo7j_aZ9pRQXanb3BDLv2b22fB1HOKD2j0TICXL23fNe2TY6tP9A-dFe3ndC6KWHFZBAYfsMIR_mbVGyNccu3lboPNMgnzvofiFWdbeF58P7PASg9BRsnyLHT-DxoH8=\n",
      "requesting JwQTpc85CVDzAo7j_aZ9pelD9jsVSEtMCSHSw-N4E8Mi8VSTDYsbvNkREsw70ouUkw7dmXI9RPJpX9gOMpI8RbKMmQVBnevqCcX3LrnM2eEhUMz8kWUPoxpaoo9zuGfA0a7UY6ah2uE=\n",
      "requesting JwQTpc85CVDzAo7j_aZ9pRDEhqutLQrO3aVGtBSY7hf57v1Ba-6Hexm4KKstAOgkTnhXuf2kdL0A3FUlY5LaL5Wsu0tQY4bk-XWFh3xYbEEwahzarAO3TUaLX3VGka2a7obz5eLVOPc=\n",
      "requesting JwQTpc85CVDzAo7j_aZ9pdMQg-bAwRsiR42E8QYu-W2MsaLkTERW3yieT3UHAqpwlRwAr7xxVAaDNqWASNQ0FSfnd0bXVqxFYQEY9l-2YBo0HEFPgEw_R7MUTbEgoYueYbdl4Bfj1go=\n",
      "requesting JwQTpc85CVDzAo7j_aZ9pcNEOk7Zqh64uJfIko5HGdjZYOo8y955msKjnvbaZC_sM9BgHw_6zr-WJ-__sgiGvJVdA5cuETRyXch1hUZYs7cbuSI5vmdEX9JcqvCIBQZXHaAwKTFmvj8=\n",
      "requesting JwQTpc85CVDzAo7j_aZ9pXVv_ypizIuko1lLUy-1R2U0sFEjZCH-VJcl22S68VqIDtOUsXsJPcO9akwQNvd_-peXEyZ28LGAGHIaw_Orn2NsA-KdhFxrm1sWB-d1secDXlqMHISK_1k=\n",
      "requesting JwQTpc85CVDzAo7j_aZ9pRVo9D0WWsOv3UU4SeLA1p_WhPWr29aYhZVRC9gctROjmElUNtvd507o8lNtX1MdjkJkpLFMaETSg_VcxSf2SEpQg1lJpAN--RssaxlkGa5nP8ObFRx43Ws=\n",
      "requesting JwQTpc85CVDzAo7j_aZ9pdqvgZKW1HfIPQZgUJ4TQdFt89pMsNcuoNSzWN_9MJmNAGH6WhuO6K6axjy-jUc8yO8bUR0Mv7x_s9_RzjBe9RZfXYh7866QAw87MyoP2mtvua65bVNfSWk=\n",
      "requesting JwQTpc85CVDzAo7j_aZ9pZEqaQaczwpBlCItxMOs0ByZVs0qX2jdjdhlVXzE2iThKDH0itCP300FIj8UkxwIHPWEFfzjN6huWvuVZS9fFZJUTaIX55BO6Uf-0dHjKPzSI6JvsBkh1wQ=\n",
      "requesting JwQTpc85CVDzAo7j_aZ9pQeMB-tSwyHShWG5NXQetYoXQaRGq3rSkGuFvrvLx6VcSmrxvEpMupgvumay9Le6zL-REcaR5APdCJXciDXm0Rqtm6TQcS1CFXMInO-V0Oj0mQXj0v0wMI4=\n",
      "requesting JwQTpc85CVDzAo7j_aZ9pZvK7z8YB7irpd9s5bDWb3c6VvQ9jzB986396A4hdzfpIZ0Imre5QiU_nDy9Ht5YzZrvbfz5IpBHOpi-LCvUSETTYQmx1830cREc8BtsJ7Ay7DRlAo1XKwo=\n",
      "requesting JwQTpc85CVDzAo7j_aZ9paTIi3agOZH3mPcAUgZ-zszl6BFdQeysyZvLFjcnmCo0QTvDpvnh70T_9b8jZVGtJB28QNMEhtivfSocQ_O7G28YU1bKJ67auziMxPfofUss7uB28v5jA14=\n",
      "requesting JwQTpc85CVDzAo7j_aZ9pXt-Trd8gRmVHNjsTiHSw5faxzvefgL_dUPFQN1xEQj1n5IAdkCQ-V5fE-Dbk-gR1Kk4UqnZ8JCQBPGyI9ZwiPbnagCwkSBXv33wcO0hcli9zxRjjTODqs4=\n",
      "requesting JwQTpc85CVDzAo7j_aZ9pZtRr0W3UgHa0dE7gLyob9H00R9FzWyZ3fzUfetefz57DDJVPpx3ut9mAUDHHVKMArc233l2XzcRlL3GkWIRvTi9J7fUN-kUJc52YyPZX_-wj-dXqxu6L_8=\n",
      "requesting JwQTpc85CVDzAo7j_aZ9pTgTLe2iGlJwrRIwhF_7ljC3j5GIvqlTcQlKMr3HetMK_1GOhDPwMmFsqJDz36ETmlJJYjT5C-q2nCoqqjC1CrFZPZOcDzpTw8rTpln_UpgNPH2OfzGgNUg=\n",
      "requesting JwQTpc85CVDzAo7j_aZ9pUCKkb0Rb-V2zjZIYoOwEDxirsGQ_jChNyu-gpLAhfw1ZQ_28941RVbbN0wzFa2kwOmFTRBJXeWQm4u07epPEXYc8rna80wTOE0dQpLho_-n6iYrejSES3s=\n",
      "requesting JwQTpc85CVDzAo7j_aZ9pdXUkaYxDLPXzIvKmXUJ-FsI391FzGzQwoN-cQY5bKs0BgXzFbzx2uCaTDE9jAm8RYwN4rfaCE2MySVI4jKUZ8cfni3Kvudb7O2vL8i5tu7PXfGKfJSTXL0=\n",
      "requesting JwQTpc85CVDzAo7j_aZ9pZyrBkRQSiIOIC-D6NYDOYlO05MmG9r0Hy91vN-K4v8slbZuy3UDEV56gGNonYWro4hmv0feAOjN8Obc7IuV6LT3pz_pcKTn75acQ-nREM0iqhV-basFcOc=\n",
      "requesting JwQTpc85CVDzAo7j_aZ9paFrkRnwjhC3KcwSmhDHmQ2QnI0gqxsePtMhyqR92OvBENj9TullLkCWrCet26RCOaKVStc8ZOwkM8d6FNDuMCLQHjVVyQC36qQzyBcrku4-4YzemK65vUo=\n",
      "requesting JwQTpc85CVDzAo7j_aZ9pQC1_mqXWhgWr_LXWLz1H06QDBgR4esXXLk9bWqRRTQ6-5rtbI8lr4KLULmYe12TuEHsGTAYTtvrvCwzw1oqYTFEHu2dMQmMxkTUyUCf9B-pbPYtvkC-MHI=\n",
      "requesting JwQTpc85CVDzAo7j_aZ9pT45sJOZ1eK0XMvbz4belnytTSaVYmbkD6JL4vXdIN0yo3I8cqwq8Xmxsqi8VDA2LAc7AJzsOmXCuGCnhG1M6l7DY33eNnyc8O16rRdSVTLcLyduaX8-Yow=\n",
      "requesting JwQTpc85CVDzAo7j_aZ9pShAjoCZPtsjUpbL67URU4b1j4wyWl1rbUE8kmSVqUqyJVC9xa24sF7u1tXSW7sw1srAW4fgBzfkCrNMQKe2PSzHkKDNV4Mt6m8WBUqOGoCgjbSAqClBaSM=\n",
      "requesting JwQTpc85CVDzAo7j_aZ9pbht9IBtpP_M68iGQSdWBJUJiVWeHiC3K1F-1xnDBPYA-AOib4LF9bl4VbYonHzd0szrTSZ-12LTWXZbx2yXvPylg_p2f4DWZvBOBFqLKjMw7MVCvyGJAmU=\n",
      "requesting JwQTpc85CVDzAo7j_aZ9pVxyrt1iuQiSY66wkkKBhka-fzd2ea5cWVpREP7m2T2F6hh9AOviWg9EfN3qAFg0WHKEo5nJLmKWnlkfGvdisjTjR-wtcc504ToxqGK9oqbH8eFy6Uub9R0=\n"
     ]
    },
    {
     "name": "stdout",
     "output_type": "stream",
     "text": [
      "requesting JwQTpc85CVDzAo7j_aZ9pRysi28DNXify343TNZFns8_GWhtHlFNaMvOpkssMLO-TsnU5wJQkJxY4C989-bqQUH_B_ejytT8aqnDK8va96vLMY3prvkp43vhqoOqrbJHRfrbQEHnbkc=\n",
      "requesting JwQTpc85CVDzAo7j_aZ9pTzliu6oFliiMhLjMS7V78HppZCNh4rmiE1zU5oRmXc3bRUMHH3IUlXswINgsC91cKbAXR60LR_2IS1iy-FPu86jnX_AOwE563S0KmevgtStuQ1nqAI9LCU=\n",
      "requesting JwQTpc85CVDzAo7j_aZ9pQXz5MVVY1-SVf24TTxyPRj351fAX8b8sYlFch1tks605RC8gYbfSckrU5ErUmDsmnUOFa-OizFAotZ01PKYlbjPAU_eFiVLpByQuJPYGkpxTy6SPUJAqsY=\n",
      "requesting JwQTpc85CVDzAo7j_aZ9pTbXb9rXBzkncWEa0E8D48hjV8TWz5y_60YmMEfc8SXrRH8RTXj3vyssG7vo5BJ_qrKKTaF2BbopDLe8tooVDut3MSNEe5yAnMTEsazHyG1TcZGgnHFt1PI=\n",
      "requesting JwQTpc85CVDzAo7j_aZ9pZ2zRSupBPnBxPf-H98KjLuHkYDR4xpdPnsokOs5dGA_8vRi-59Bpns2GA0Kat2k0lbU0dzicbHk4uubZZU27p4evv_oEsaFI9za4ejmXd7v2kNZoKFkosQ=\n",
      "requesting JwQTpc85CVDzAo7j_aZ9pTM8GEPXcoCDF4Zv0x1P9aAZen2cKq34GwpfXDte24JtimcIXEU_m8roVAS6_mqI-hDBxUzq5_NZaomCH-JvCwCrewFXLPPlzpe_vhUZ4rBuap1f0ivKrio=\n",
      "requesting JwQTpc85CVDzAo7j_aZ9pZFoTHJr1RJw9CwS1aXSpwhvP-KrIukg7YqauK-NLCUTfPJtFt-QYrWoewYGvdAuSibJTVStPsN0kBP7L98avosbEFfhpsGBaJ4RpinmXTLjoIT4C_8oFRI=\n",
      "requesting JwQTpc85CVDzAo7j_aZ9pZ7TFotDFjL3qE_sGv1Jk9Vmq99aIQY5nCSXQblmCui-SPM8s92Hdsb0RzisgThr8v_MXflukBW947fl7M4daNxl2yCZD0FNQ2mgHFJ4n7-dhHWJeH8_260=\n",
      "requesting JwQTpc85CVDzAo7j_aZ9pSlF__b9oUPhnqYva8glEI8ozVPsYINuuMBA_pp-LEnIMjFlHUJL6fIYY6pWJiHIYTH0-6k3uetydMjXfSdP-fJV80JtD1Eh1hFhzjZsqdaIP31KB3KVBrg=\n",
      "requesting JwQTpc85CVDzAo7j_aZ9pSHG7m2l3pIqt9lmCZvxmLpShHTtewqfSpzR0oXc5XZ15e4NNuTvOFxurgq3lKCz94KcoYoweoa7F5PH3C_tn9arFD9ahstNs0hSdhIuQ_puMyRFZ5xtGl8=\n",
      "requesting JwQTpc85CVDzAo7j_aZ9pRDvG-wsUkJaVystr9yfrMj1G8k5LFTYGmRK6JgjgB4u_xM5DAJw8UroG_OrZQN3h_ojqDUFlIxOk4DmklVJT-8G9s593k0BPARLiIHafv6NdHEktGMp3sc=\n",
      "requesting JwQTpc85CVDzAo7j_aZ9pUfQkfsoS3M0IIyZCgEG6I6BZrvM8Zyh_7eKrfJhILhxQPG3tk23YkkvuemiRu0CwMAnNzbShGX2fZJXIGj6GvtQpgehn7bdE3aW2B30Gw9LplO7cNX5brI=\n",
      "requesting JwQTpc85CVDzAo7j_aZ9pUsPVqxanZJOE4a18scawGwRWopY7p5RY5gRiE9L20aY4IRnWUYWbazRNb8jdgf4IbDmol4-2rD3FpyiqOctimDaWWwIKpHHB7mgQh7wW-KY5HE_r4eSiwo=\n",
      "requesting JwQTpc85CVDzAo7j_aZ9pQg2geSDXsBa_L5zVO0--XkMaQ8khO7AAnaC0G8RtICu24BsUMZ-RFarHDkENPXkelQSFMHhRsBc9nM-J3rt84qfoerJVMFdg-4GOTLlRoaUeVgeX2SJudU=\n",
      "requesting JwQTpc85CVDzAo7j_aZ9pQo39VkDk--OPINApllMOZ43xQrrW0NW4h6rZWPlGOjkN6cELktTFKlIqonMQ-DiS9-QrQGT9jEst0ZyZunaxoeUYLSlSXUUSp7fG0H_QXRF-Iis_TpcKew=\n",
      "requesting JwQTpc85CVDzAo7j_aZ9pcdWb1IEiOOh6YrP_4RbsEQU2r1MYrzhIwhf9Y4BsxTkluv061d9WzGMlvybm1YpNeuxVtteoihpOcE8fYXfJTF99XI5oA1NGONDt6bw2aq39vmFQlEofm8=\n",
      "requesting JwQTpc85CVDzAo7j_aZ9pTKubSs3XNSfaj30rFhwayeG2JUNNosH2326fWCSL5KpGIa_nMGT3-UCWy8lYtUbM5MPZu4C6HNQ8gn023ydB8yN_I9KMYT82I4Ge-GWTmGjRnwcoHWqKak=\n",
      "requesting JwQTpc85CVDzAo7j_aZ9pa9nU-Xj3xB0CpZ-PXRXTCYVeqBpx_EpQ1U8DW9ldlLheuePjVyEvCs6NzQFg--JVjJic2O0fGJo5qr3ugcCBHuCVaWWmiwDDr_RLgx_TTZSaZgyXOw5q_I=\n",
      "requesting JwQTpc85CVDzAo7j_aZ9pfnlgOiL4Bt8ppbyQyQbf5wUwZDXHU5AQ-27-74Uv9moHsTWEnsoa5ZCeUbAN4sjTPJiRvEMlfn6eOLaayw48h_XYhY5GsnUTNshT-lxwvmF8Zd0LFQVJfI=\n",
      "requesting JwQTpc85CVDzAo7j_aZ9pTIJ4gs4kMHywHhmyd45qui4K_rtohU2cNiKH3K522bQMoOcqQ7BscGIr4Uzqu4X4GrfrivvBkNrn0MKaVlSzBD1wHhnNHDWFJ2bPgbS4S1qQDALPZAUIcA=\n",
      "requesting JwQTpc85CVDzAo7j_aZ9pe1RTHYrqJK_SwRbSK3DP7sciSRutwKTqnR1lugtz23VUs9ogQyXRJGr9z9sNFNWcUHopbl1VkgScYi9acOBN77Fj-w1ZiGJW6KTGF0ki_G1xnbb9mnRU48=\n",
      "requesting JwQTpc85CVDzAo7j_aZ9pYx7BPmygoix3DkFqmvb3yq95M4J5I1aH0vJntdP1FXGnkgbh9F2mo8IPAfSLhDyXN6iotnrLv8J5skvNaB3p8WJZADN1HnZ-sYaszOfu1q8jL7R_9Ou5tA=\n",
      "requesting JwQTpc85CVDzAo7j_aZ9pQypw4CQFTvPXH1qF1IVCCsgZ_EQpSrn4wu25NfYzWaRRzXnsmcLhKWBFCbrv4JWPGtnscY827j7Mqr5XCkIPzmuOGbrJ8lkLrC8HsxCfH4gTiRARHxaeKc=\n",
      "requesting JwQTpc85CVDzAo7j_aZ9pYNrUf8mUk2NzIYq5p6_n6itZ4Sx4EsII7-qj8ELa7EvLn3WwlE6omNSTfF_7fLJynXVm-DxcOS8weeQ5yUlvq-G59gxHzlXUlFhDquDrH-HgL4VE1V6r_M=\n",
      "requesting JwQTpc85CVDzAo7j_aZ9pdJMCzFGERcrQUlkonfKPuTwWsj7DSrKj-CZrauioqK6h8VfmDkQ79RPiQWcxosE9Slll2T2jYFkzXyCdOj7mqOCa1DKx8RKcu4d6md-F7Xj9EQ-DPfFJbg=\n"
     ]
    }
   ],
   "source": [
    "for m_id in seed_match_base:\n",
    "    print('requesting %s' % m_id)\n",
    "    feed = request_match_detail(m_id)\n",
    "    pb_teams = np.concatenate([x['participants'] for x in feed['teams']]) #get each team's participants together\n",
    "    player_base = player_base + [t['user']['nickname'] for t in pb_teams]"
   ]
  },
  {
   "cell_type": "code",
   "execution_count": 9,
   "metadata": {
    "scrolled": false
   },
   "outputs": [
    {
     "data": {
      "text/plain": [
       "1           mcl-st\n",
       "2        OhMyBaby6\n",
       "3          GyanRoh\n",
       "4        FLASH-CYT\n",
       "5       Lonely1yue\n",
       "           ...    \n",
       "7095      MrsPeach\n",
       "7096     MrThirsty\n",
       "7097        Captsf\n",
       "7098        Ntinse\n",
       "7099       Grunkay\n",
       "Length: 4670, dtype: object"
      ]
     },
     "execution_count": 9,
     "metadata": {},
     "output_type": "execute_result"
    }
   ],
   "source": [
    "df_pb = pd.Series(player_base).drop_duplicates()\n",
    "df_pb.drop(index=df_pb.index[0], axis=0, inplace=True)\n",
    "df_pb"
   ]
  },
  {
   "cell_type": "markdown",
   "metadata": {},
   "source": [
    "Now we can recursively scrape each user on this list for more players"
   ]
  },
  {
   "cell_type": "code",
   "execution_count": 10,
   "metadata": {},
   "outputs": [],
   "source": [
    "player_list = df_pb"
   ]
  },
  {
   "cell_type": "code",
   "execution_count": 11,
   "metadata": {
    "scrolled": true
   },
   "outputs": [],
   "source": [
    "def mp_get_scrape_players(player):\n",
    "    uinfo = request_user_info(player)\n",
    "    id_ = get_user_id(uinfo)\n",
    "    #print('Player: %s  | ID: %s' % (player, id_))\n",
    "    if id_ is None:\n",
    "        return []\n",
    "    try:\n",
    "        match_base = request_match_history(id_)\n",
    "    except:\n",
    "        match_base = []\n",
    "\n",
    "    pb = []\n",
    "    for m_id in match_base:\n",
    "        try:\n",
    "            feed = request_match_detail(m_id)\n",
    "        except:\n",
    "            feed = []\n",
    "        if('teams' not in feed):\n",
    "            continue\n",
    "        pb_teams = np.concatenate([x['participants'] for x in feed['teams']]) #get each team's participants together\n",
    "        pb = pb + [t['user']['nickname'] for t in pb_teams]\n",
    "    return pb\n"
   ]
  },
  {
   "cell_type": "code",
   "execution_count": 12,
   "metadata": {},
   "outputs": [
    {
     "name": "stdout",
     "output_type": "stream",
     "text": [
      "Scraping 4670 items using <function mp_get_scrape_players at 0x0000022DBEECDA60> in 24 processes.\n",
      "I HAVE COMPLETED!!!  \n",
      "Saving 726550 rows to csv\n"
     ]
    }
   ],
   "source": [
    "if __name__ == '__main__':\n",
    "    results = mp_run(player_list, mp_get_scrape_players, 24)\n",
    "    rec_pb = np.concatenate(list(results))\n",
    "    rec_pb = pd.Series(rec_pb).drop_duplicates()\n",
    "    print('Saving %i rows to csv' % len(rec_pb))\n"
   ]
  },
  {
   "cell_type": "code",
   "execution_count": 13,
   "metadata": {},
   "outputs": [],
   "source": [
    "rec_pb.to_csv('player_base(large).csv')"
   ]
  },
  {
   "cell_type": "code",
   "execution_count": null,
   "metadata": {},
   "outputs": [],
   "source": []
  }
 ],
 "metadata": {
  "kernelspec": {
   "display_name": "Python 3 (ipykernel)",
   "language": "python",
   "name": "python3"
  },
  "language_info": {
   "codemirror_mode": {
    "name": "ipython",
    "version": 3
   },
   "file_extension": ".py",
   "mimetype": "text/x-python",
   "name": "python",
   "nbconvert_exporter": "python",
   "pygments_lexer": "ipython3",
   "version": "3.9.7"
  }
 },
 "nbformat": 4,
 "nbformat_minor": 2
}
