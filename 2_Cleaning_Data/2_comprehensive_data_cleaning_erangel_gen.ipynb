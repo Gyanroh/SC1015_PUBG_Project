{
 "cells": [
  {
   "cell_type": "code",
   "execution_count": 1,
   "id": "cdcb4902",
   "metadata": {},
   "outputs": [],
   "source": [
    "import numpy as np\n",
    "import pandas as pd\n",
    "import seaborn as sb\n",
    "import matplotlib.pyplot as plt \n",
    "from matplotlib import style\n",
    "sb.set() # set the default Seaborn style for graphics"
   ]
  },
  {
   "cell_type": "code",
   "execution_count": 2,
   "id": "9042175f",
   "metadata": {},
   "outputs": [],
   "source": [
    "erangel_gen = pd.read_csv('final_gen_match_stats.csv')\n"
   ]
  },
  {
   "cell_type": "markdown",
   "id": "e09659e7",
   "metadata": {},
   "source": [
    "---\n",
    "\n",
    "\n",
    "# Data Processing and Cleaning\n",
    "\n",
    "> #### We will start by identifying the shape of general information from the `erangel_gen` dataframe\n",
    "   "
   ]
  },
  {
   "cell_type": "code",
   "execution_count": 3,
   "id": "1d5551e1",
   "metadata": {
    "scrolled": true
   },
   "outputs": [
    {
     "data": {
      "text/plain": [
       "Index(['match_id', 'date', 'match_mode', 'party_size', 'game_size', 'team_id',\n",
       "       'team_placement', 'player_name', 'player_kills', 'player_assists',\n",
       "       'player_survive_time', 'player_dmg', 'player_dbno', 'player_dist_walk',\n",
       "       'player_dist_ride'],\n",
       "      dtype='object')"
      ]
     },
     "execution_count": 3,
     "metadata": {},
     "output_type": "execute_result"
    }
   ],
   "source": [
    "erangel_gen.columns"
   ]
  },
  {
   "cell_type": "markdown",
   "id": "a5fa6c57",
   "metadata": {},
   "source": [
    "\n",
    ">We can immediatly drop some irrelevant information that may not be relevant for data analysis\n",
    ">>\n",
    ">>\n",
    ">>| Name of column | Description of why to drop |\n",
    "| ----------- | --------------------------- |\n",
    "| ['match_id'] |      The identity of discrete match details is irrelevant to our overall data discussion |\n",
    "| ['team_id'] | Team ID only tells us if the player initiated matching with other players  |\n",
    "| ['player_name'] |    The identity of the player is irrelevant to data discussion  |\n",
    "| ['player_assists'] |    This statistic is for back-end development purposes  |"
   ]
  },
  {
   "cell_type": "code",
   "execution_count": 4,
   "id": "f12026a9",
   "metadata": {},
   "outputs": [],
   "source": [
    "erangel_gen.drop('match_id', axis=1, inplace=True)\n",
    "erangel_gen.drop('team_id', axis=1, inplace=True)\n",
    "erangel_gen.drop('player_name', axis=1, inplace=True)\n",
    "erangel_gen.drop('player_assists', axis=1, inplace=True)"
   ]
  },
  {
   "cell_type": "markdown",
   "id": "fd804ed8",
   "metadata": {},
   "source": [
    "<br>\n",
    "\n",
    "---\n",
    "\n",
    "### Cleaning ['match_mode']"
   ]
  },
  {
   "cell_type": "code",
   "execution_count": 5,
   "id": "4c458ad6",
   "metadata": {},
   "outputs": [
    {
     "name": "stdout",
     "output_type": "stream",
     "text": [
      "fpp               8409590\n",
      "tpp               6058819\n",
      "flareguntpp          2946\n",
      "flaregun             2926\n",
      "crossbowtpp          2798\n",
      "warmodetpp           2708\n",
      "warmodefpp           1229\n",
      "flaregunfpp           702\n",
      "crossbowfpp           554\n",
      "tequilatpp            285\n",
      "20180324_rifle        263\n",
      "tequilafpp            192\n",
      "Name: match_mode, dtype: int64\n"
     ]
    }
   ],
   "source": [
    "print(erangel_gen['match_mode'].value_counts())"
   ]
  },
  {
   "cell_type": "markdown",
   "id": "3682659c",
   "metadata": {},
   "source": [
    "\n",
    ">Expanding `erangel_gen ['match_mode']` to view component data, we can see that there exists modes of play outside traditional first-person or third-person mode. These modes could come from seasonal matches, or promotional events. Dropping these data will be good as it can elimanate possible outliers and reduce variance"
   ]
  },
  {
   "cell_type": "code",
   "execution_count": 6,
   "id": "1dac87fe",
   "metadata": {},
   "outputs": [],
   "source": [
    "erangel_gen = erangel_gen[erangel_gen[\"match_mode\"].str.contains(\"flareguntpp|crossbowtpp|flaregun|warmodetpp|warmodefpp|flaregunfpp|crossbowfpp|tequilatpp|20180324_rifle|tequilafpp\")==False]"
   ]
  },
  {
   "cell_type": "markdown",
   "id": "a8c809b5",
   "metadata": {},
   "source": [
    "<br>\n",
    "\n",
    "---\n",
    "\n",
    "### Cleaning ['team_placement']"
   ]
  },
  {
   "cell_type": "code",
   "execution_count": 7,
   "id": "1d88bebc",
   "metadata": {},
   "outputs": [
    {
     "name": "stdout",
     "output_type": "stream",
     "text": [
      "1      548817\n",
      "2      496816\n",
      "3      474368\n",
      "4      471334\n",
      "5      468640\n",
      "        ...  \n",
      "105         4\n",
      "102         1\n",
      "101         1\n",
      "104         1\n",
      "103         1\n",
      "Name: team_placement, Length: 106, dtype: int64\n"
     ]
    }
   ],
   "source": [
    "print(erangel_gen['team_placement'].value_counts())"
   ]
  },
  {
   "cell_type": "markdown",
   "id": "143d770e",
   "metadata": {},
   "source": [
    ">Expanding `erangel_gen['team_placement']` to view component data, we can find that instances of placing 105, 104, 103 ect is extremely low. This could be due to extremely little matches played with these number of players. In order to remove the anomalous data, we need to see the distribution of `['team_placement']` to remove those that are ranked too low"
   ]
  },
  {
   "cell_type": "code",
   "execution_count": 8,
   "id": "7e22cb47",
   "metadata": {},
   "outputs": [
    {
     "data": {
      "text/plain": [
       "<AxesSubplot:>"
      ]
     },
     "execution_count": 8,
     "metadata": {},
     "output_type": "execute_result"
    },
    {
     "data": {
      "image/png": "[encoded data removed]",
      "text/plain": [
       "<Figure size 1728x288 with 1 Axes>"
      ]
     },
     "metadata": {},
     "output_type": "display_data"
    }
   ],
   "source": [
    "f = plt.figure(figsize=(24, 4))\n",
    "sb.boxplot(data = erangel_gen['team_placement'], orient = \"h\")"
   ]
  },
  {
   "cell_type": "code",
   "execution_count": 9,
   "id": "dbf20cb5",
   "metadata": {},
   "outputs": [],
   "source": [
    "erangel_gen = erangel_gen[erangel_gen['team_placement'] < 95]  "
   ]
  },
  {
   "cell_type": "markdown",
   "id": "4b9e2645",
   "metadata": {},
   "source": [
    "<br>\n",
    "\n",
    "---\n",
    "\n",
    "### Cleaning ['game_size'] "
   ]
  },
  {
   "cell_type": "code",
   "execution_count": 10,
   "id": "45a21909",
   "metadata": {},
   "outputs": [
    {
     "data": {
      "text/plain": [
       "<AxesSubplot:>"
      ]
     },
     "execution_count": 10,
     "metadata": {},
     "output_type": "execute_result"
    },
    {
     "data": {
      "image/png": "[encoded data removed]",
      "text/plain": [
       "<Figure size 1728x288 with 1 Axes>"
      ]
     },
     "metadata": {},
     "output_type": "display_data"
    }
   ],
   "source": [
    "f = plt.figure(figsize=(24, 4))\n",
    "sb.boxplot(data = erangel_gen['game_size'], orient = \"h\")"
   ]
  },
  {
   "cell_type": "markdown",
   "id": "7832a935",
   "metadata": {},
   "source": [
    ">Performing a box plot of `erangel_gen['game_size']` to view component data, we can find that there exists cases of matches initalized with only one player, or matches with an extreme amount of players. \n",
    ">>Matches with one or two players could be due to **glitched matchmaking** \n",
    ">>Matches with many players could be due to **custom servers or matches**\n",
    ">\n",
    ">In both scenarios, we should drop them as it introduces playstyles that are not \"normal\""
   ]
  },
  {
   "cell_type": "code",
   "execution_count": 11,
   "id": "8a3992d9",
   "metadata": {},
   "outputs": [],
   "source": [
    "erangel_gen = erangel_gen[erangel_gen['game_size'] < 95]  \n",
    "erangel_gen = erangel_gen[erangel_gen['game_size'] > 10]  "
   ]
  },
  {
   "cell_type": "markdown",
   "id": "f74ebb74",
   "metadata": {},
   "source": [
    "<br>\n",
    "\n",
    "---\n",
    "\n",
    "### Transforming into ratio ['team_placement'] with respect to ['game_size']"
   ]
  },
  {
   "cell_type": "markdown",
   "id": "81d8a32c",
   "metadata": {},
   "source": [
    ">The datapoint `erangel_gen['team_placement']` is based on strict numerical values where the maximum value is `erangel_gen['game_size']`. This makes sense, as the \"first\" player to die will always be assigned this value. However,  the number of different games with mixed team size may cause the rankings of teams of different sizes to be difficult to uniformly compare. \n",
    ">>We can therefore calculate the ranking percentage statistic `normalized_ranking`, and the final ranking of the team is divided by the total number of teams. \n",
    ">\n",
    ">>Now, statistic `erangel_gen['normalized_ranking']` will be between 0 and 1, with **0 being the team that eats chicken** and **1 being the team eliminated first**"
   ]
  },
  {
   "cell_type": "code",
   "execution_count": 12,
   "id": "cd3a58f5",
   "metadata": {},
   "outputs": [],
   "source": [
    "erangel_gen['team_placement'] = ((erangel_gen['team_placement'] - 1)/ erangel_gen['game_size']).round(3)\n",
    "erangel_gen = erangel_gen.rename(columns={'team_placement': 'normalized_ranking'})\n",
    "erangel_gen = erangel_gen[erangel_gen['normalized_ranking'] < 1]  \n"
   ]
  },
  {
   "cell_type": "code",
   "execution_count": 13,
   "id": "86bb179d",
   "metadata": {},
   "outputs": [
    {
     "data": {
      "text/plain": [
       "count    12737788.000000\n",
       "mean            0.474223\n",
       "std             0.291114\n",
       "min             0.000000\n",
       "25%             0.222000\n",
       "50%             0.469000\n",
       "75%             0.726000\n",
       "max             0.989000\n",
       "Name: normalized_ranking, dtype: object"
      ]
     },
     "execution_count": 13,
     "metadata": {},
     "output_type": "execute_result"
    }
   ],
   "source": [
    "erangel_gen['normalized_ranking'].describe().apply(lambda x: format(x, 'f'))"
   ]
  },
  {
   "cell_type": "markdown",
   "id": "fde73f1c",
   "metadata": {},
   "source": [
    "<br>\n",
    "\n",
    "---\n",
    "\n",
    "### Cleaning ['player_survive_time'] "
   ]
  },
  {
   "cell_type": "code",
   "execution_count": 14,
   "id": "6627a93e",
   "metadata": {},
   "outputs": [
    {
     "data": {
      "text/plain": [
       "<AxesSubplot:>"
      ]
     },
     "execution_count": 14,
     "metadata": {},
     "output_type": "execute_result"
    },
    {
     "data": {
      "image/png": "[encoded data removed]",
      "text/plain": [
       "<Figure size 1728x288 with 1 Axes>"
      ]
     },
     "metadata": {},
     "output_type": "display_data"
    }
   ],
   "source": [
    "f = plt.figure(figsize=(24, 4))\n",
    "sb.boxplot(data = erangel_gen['player_survive_time'], orient = \"h\")"
   ]
  },
  {
   "cell_type": "markdown",
   "id": "4da6bd76",
   "metadata": {},
   "source": [
    ">Performing a box plot of `erangel_gen['player_survive_time']` to view component data, we can find that there exists cases of matches that last extremely long, with large gaps inbetween the standard range of 0 - 5000+\n",
    ">>Matches excessively long durations could be due to players cooperating with each other at the final zone to **purposely delay the end of a match** \n",
    ">>\n",
    ">>We should also remove those with `player_survive_time == 0`, or those with too low values as it may be **glitches**\n",
    ">\n",
    ">In such a scenarios, this means that the players are utilizing playstyles that are not \"normal\""
   ]
  },
  {
   "cell_type": "code",
   "execution_count": 15,
   "id": "940124e1",
   "metadata": {},
   "outputs": [],
   "source": [
    "erangel_gen = erangel_gen[erangel_gen['player_survive_time'] < 5500]  \n",
    "erangel_gen = erangel_gen[erangel_gen['player_survive_time'] >= 20]  \n"
   ]
  },
  {
   "cell_type": "markdown",
   "id": "f5cf2c2e",
   "metadata": {},
   "source": [
    "<br>\n",
    "\n",
    "---\n",
    "\n",
    "### Cleaning ['player_dbno'], ['player_kills'] & ['player_dmg'] "
   ]
  },
  {
   "cell_type": "code",
   "execution_count": 16,
   "id": "f8cc251c",
   "metadata": {
    "scrolled": true
   },
   "outputs": [
    {
     "data": {
      "text/plain": [
       "<AxesSubplot:>"
      ]
     },
     "execution_count": 16,
     "metadata": {},
     "output_type": "execute_result"
    },
    {
     "data": {
      "image/png": "[encoded data removed]",
      "text/plain": [
       "<Figure size 1728x288 with 1 Axes>"
      ]
     },
     "metadata": {},
     "output_type": "display_data"
    },
    {
     "data": {
      "image/png": "[encoded data removed]",
      "text/plain": [
       "<Figure size 1728x288 with 1 Axes>"
      ]
     },
     "metadata": {},
     "output_type": "display_data"
    }
   ],
   "source": [
    "f = plt.figure(figsize=(24, 4))\n",
    "sb.boxplot(data = erangel_gen['player_kills'], orient = \"h\")\n",
    "f = plt.figure(figsize=(24, 4))\n",
    "sb.boxplot(data = erangel_gen['player_dmg'], orient = \"h\")"
   ]
  },
  {
   "cell_type": "markdown",
   "id": "3539c2cf",
   "metadata": {},
   "source": [
    ">We now try and clean the statistics related to kills. These are `erangel_gen['player_dbno']`, `erangel_gen['player_kills']` and `erangel_gen['player_dmg']`\n",
    ">>We can see some anomalous data arising from all four plots.\n",
    ">>These are most probably players who are using **cheats or hacks to get high kills**. We shall draw up a table with explanations on the limits for data removal\n",
    ">>\n",
    ">>| Name of Statistics | Threshold|Explanation |\n",
    "| ----------- | --------------------------- | --- |\n",
    "| ['player_dbno'] |    <= 2   | DBNO is the number of times a player has been revived. The maximum number of times someone can be revived is 2 |\n",
    "| ['player_kills'] | < 36 | The world record for highest kill record is 36 kills. We can safely remove the rest as this implies that all these people are hacking to get > 36 kills. |\n",
    "| ['player_dmg'] |   .9999 percentile  | We can see that big gaps of data begin to form at this mark. Cutting off others will help to remove instances of people using non-standard means to get high damage. |\n",
    ">\n"
   ]
  },
  {
   "cell_type": "code",
   "execution_count": 17,
   "id": "39f0a586",
   "metadata": {},
   "outputs": [],
   "source": [
    "erangel_gen = erangel_gen[erangel_gen['player_dbno'] <= 2]  \n",
    "erangel_gen = erangel_gen[erangel_gen['player_kills'] < 36]  \n",
    "erangel_gen = erangel_gen[erangel_gen['player_dmg'] < 4000]  \n"
   ]
  },
  {
   "cell_type": "markdown",
   "id": "90a91552",
   "metadata": {},
   "source": [
    "<br>\n",
    "\n",
    "---\n",
    "\n",
    "### Cleaning ['player_dist_walk'] & ['player_dist_ride'] "
   ]
  },
  {
   "cell_type": "code",
   "execution_count": 18,
   "id": "1f12947c",
   "metadata": {},
   "outputs": [
    {
     "data": {
      "text/plain": [
       "<AxesSubplot:>"
      ]
     },
     "execution_count": 18,
     "metadata": {},
     "output_type": "execute_result"
    },
    {
     "data": {
      "image/png": "[encoded data removed]",
      "text/plain": [
       "<Figure size 1728x288 with 1 Axes>"
      ]
     },
     "metadata": {},
     "output_type": "display_data"
    },
    {
     "data": {
      "image/png": "[encoded data removed]",
      "text/plain": [
       "<Figure size 1728x288 with 1 Axes>"
      ]
     },
     "metadata": {},
     "output_type": "display_data"
    }
   ],
   "source": [
    "f = plt.figure(figsize=(24, 4))\n",
    "sb.boxplot(data = erangel_gen['player_dist_walk'], orient = \"h\")\n",
    "f = plt.figure(figsize=(24, 4))\n",
    "sb.boxplot(data = erangel_gen['player_dist_ride'], orient = \"h\")"
   ]
  },
  {
   "cell_type": "markdown",
   "id": "7ed3244b",
   "metadata": {},
   "source": [
    ">Performing a box plot of `erangel_gen['player_dist_walk']` and `erangel_gen['player_dist_ride']` to view how long players walked or drove vehicles like cars or bikes, we can see instances of players driving up to 120000m in one game. This is 120km! \n",
    ">>This could be players who are **purposely driving around like an *idiot*** \n",
    ">>It also could be players just **walking around aimlessly**\n",
    ">>\n",
    ">>We should also remove those who do not walk at all, as it may imply them being **idle or away from their keyboard (afk)**\n",
    ">\n",
    ">This playstyle is completely not normal, and we should remove it"
   ]
  },
  {
   "cell_type": "code",
   "execution_count": 19,
   "id": "de1fafb5",
   "metadata": {},
   "outputs": [
    {
     "name": "stdout",
     "output_type": "stream",
     "text": [
      "16736.670048995005\n",
      "36598.048266060105\n"
     ]
    }
   ],
   "source": [
    "print(erangel_gen[\"player_dist_ride\"].quantile(0.9999))\n",
    "print(erangel_gen[\"player_dist_walk\"].quantile(0.9999))"
   ]
  },
  {
   "cell_type": "code",
   "execution_count": 20,
   "id": "961c9082",
   "metadata": {},
   "outputs": [],
   "source": [
    "erangel_gen = erangel_gen[erangel_gen[\"player_dist_ride\"] < 14995]"
   ]
  },
  {
   "cell_type": "code",
   "execution_count": 21,
   "id": "e1c9ec38",
   "metadata": {},
   "outputs": [],
   "source": [
    "erangel_gen = erangel_gen[erangel_gen['player_dist_walk'] > 1]  \n",
    "erangel_gen = erangel_gen[erangel_gen[\"player_dist_walk\"] < 36852]\n"
   ]
  },
  {
   "cell_type": "markdown",
   "id": "1fd8ffe0",
   "metadata": {},
   "source": [
    "<br>\n",
    "\n",
    "---\n",
    "\n",
    "### Finalized Data"
   ]
  },
  {
   "cell_type": "code",
   "execution_count": 22,
   "id": "c0bce388",
   "metadata": {
    "scrolled": true
   },
   "outputs": [
    {
     "data": {
      "text/html": [
       "<div>\n",
       "<style scoped>\n",
       "    .dataframe tbody tr th:only-of-type {\n",
       "        vertical-align: middle;\n",
       "    }\n",
       "\n",
       "    .dataframe tbody tr th {\n",
       "        vertical-align: top;\n",
       "    }\n",
       "\n",
       "    .dataframe thead th {\n",
       "        text-align: right;\n",
       "    }\n",
       "</style>\n",
       "<table border=\"1\" class=\"dataframe\">\n",
       "  <thead>\n",
       "    <tr style=\"text-align: right;\">\n",
       "      <th></th>\n",
       "      <th>party_size</th>\n",
       "      <th>game_size</th>\n",
       "      <th>normalized_ranking</th>\n",
       "      <th>player_kills</th>\n",
       "      <th>player_survive_time</th>\n",
       "      <th>player_dmg</th>\n",
       "      <th>player_dbno</th>\n",
       "      <th>player_dist_walk</th>\n",
       "      <th>player_dist_ride</th>\n",
       "    </tr>\n",
       "  </thead>\n",
       "  <tbody>\n",
       "    <tr>\n",
       "      <th>count</th>\n",
       "      <td>11190824.000</td>\n",
       "      <td>11221467.000</td>\n",
       "      <td>11221467.000</td>\n",
       "      <td>11221467.000</td>\n",
       "      <td>11221467.000</td>\n",
       "      <td>11221467.000</td>\n",
       "      <td>11221467.000</td>\n",
       "      <td>11221467.000</td>\n",
       "      <td>11221467.000</td>\n",
       "    </tr>\n",
       "    <tr>\n",
       "      <th>mean</th>\n",
       "      <td>3.192</td>\n",
       "      <td>35.843</td>\n",
       "      <td>0.490</td>\n",
       "      <td>0.644</td>\n",
       "      <td>688.931</td>\n",
       "      <td>107.851</td>\n",
       "      <td>0.488</td>\n",
       "      <td>1049.628</td>\n",
       "      <td>906.794</td>\n",
       "    </tr>\n",
       "    <tr>\n",
       "      <th>std</th>\n",
       "      <td>1.075</td>\n",
       "      <td>16.724</td>\n",
       "      <td>0.284</td>\n",
       "      <td>1.040</td>\n",
       "      <td>485.190</td>\n",
       "      <td>125.067</td>\n",
       "      <td>0.685</td>\n",
       "      <td>1073.913</td>\n",
       "      <td>1826.469</td>\n",
       "    </tr>\n",
       "    <tr>\n",
       "      <th>min</th>\n",
       "      <td>1.000</td>\n",
       "      <td>11.000</td>\n",
       "      <td>0.000</td>\n",
       "      <td>0.000</td>\n",
       "      <td>20.000</td>\n",
       "      <td>0.000</td>\n",
       "      <td>0.000</td>\n",
       "      <td>1.000</td>\n",
       "      <td>0.000</td>\n",
       "    </tr>\n",
       "    <tr>\n",
       "      <th>25%</th>\n",
       "      <td>2.000</td>\n",
       "      <td>26.000</td>\n",
       "      <td>0.250</td>\n",
       "      <td>0.000</td>\n",
       "      <td>261.000</td>\n",
       "      <td>0.000</td>\n",
       "      <td>0.000</td>\n",
       "      <td>193.323</td>\n",
       "      <td>0.000</td>\n",
       "    </tr>\n",
       "    <tr>\n",
       "      <th>50%</th>\n",
       "      <td>4.000</td>\n",
       "      <td>30.000</td>\n",
       "      <td>0.500</td>\n",
       "      <td>0.000</td>\n",
       "      <td>579.488</td>\n",
       "      <td>76.000</td>\n",
       "      <td>0.000</td>\n",
       "      <td>709.119</td>\n",
       "      <td>0.000</td>\n",
       "    </tr>\n",
       "    <tr>\n",
       "      <th>75%</th>\n",
       "      <td>4.000</td>\n",
       "      <td>48.000</td>\n",
       "      <td>0.737</td>\n",
       "      <td>1.000</td>\n",
       "      <td>1047.000</td>\n",
       "      <td>161.000</td>\n",
       "      <td>1.000</td>\n",
       "      <td>1637.656</td>\n",
       "      <td>882.375</td>\n",
       "    </tr>\n",
       "    <tr>\n",
       "      <th>max</th>\n",
       "      <td>4.000</td>\n",
       "      <td>94.000</td>\n",
       "      <td>0.989</td>\n",
       "      <td>34.000</td>\n",
       "      <td>5339.000</td>\n",
       "      <td>3616.000</td>\n",
       "      <td>2.000</td>\n",
       "      <td>36828.348</td>\n",
       "      <td>14994.946</td>\n",
       "    </tr>\n",
       "  </tbody>\n",
       "</table>\n",
       "</div>"
      ],
      "text/plain": [
       "         party_size     game_size normalized_ranking  player_kills  \\\n",
       "count  11190824.000  11221467.000       11221467.000  11221467.000   \n",
       "mean          3.192        35.843              0.490         0.644   \n",
       "std           1.075        16.724              0.284         1.040   \n",
       "min           1.000        11.000              0.000         0.000   \n",
       "25%           2.000        26.000              0.250         0.000   \n",
       "50%           4.000        30.000              0.500         0.000   \n",
       "75%           4.000        48.000              0.737         1.000   \n",
       "max           4.000        94.000              0.989        34.000   \n",
       "\n",
       "      player_survive_time    player_dmg   player_dbno player_dist_walk  \\\n",
       "count        11221467.000  11221467.000  11221467.000     11221467.000   \n",
       "mean              688.931       107.851         0.488         1049.628   \n",
       "std               485.190       125.067         0.685         1073.913   \n",
       "min                20.000         0.000         0.000            1.000   \n",
       "25%               261.000         0.000         0.000          193.323   \n",
       "50%               579.488        76.000         0.000          709.119   \n",
       "75%              1047.000       161.000         1.000         1637.656   \n",
       "max              5339.000      3616.000         2.000        36828.348   \n",
       "\n",
       "      player_dist_ride  \n",
       "count     11221467.000  \n",
       "mean           906.794  \n",
       "std           1826.469  \n",
       "min              0.000  \n",
       "25%              0.000  \n",
       "50%              0.000  \n",
       "75%            882.375  \n",
       "max          14994.946  "
      ]
     },
     "execution_count": 22,
     "metadata": {},
     "output_type": "execute_result"
    }
   ],
   "source": [
    "erangel_gen.describe().applymap(lambda x: f\"{x:0.3f}\")"
   ]
  },
  {
   "cell_type": "markdown",
   "id": "c46a7e7a",
   "metadata": {},
   "source": [
    "<br>\n",
    "\n",
    "---\n",
    "\n",
    "### Saving Data to .csv"
   ]
  },
  {
   "cell_type": "code",
   "execution_count": null,
   "id": "d9a15c65",
   "metadata": {},
   "outputs": [],
   "source": [
    "pd.DataFrame(erangel_gen).to_csv('cleaned_gen_match_stats.csv', index=False)"
   ]
  },
  {
   "cell_type": "code",
   "execution_count": null,
   "id": "d84a6e1c",
   "metadata": {},
   "outputs": [],
   "source": []
  }
 ],
 "metadata": {
  "kernelspec": {
   "display_name": "Python 3 (ipykernel)",
   "language": "python",
   "name": "python3"
  },
  "language_info": {
   "codemirror_mode": {
    "name": "ipython",
    "version": 3
   },
   "file_extension": ".py",
   "mimetype": "text/x-python",
   "name": "python",
   "nbconvert_exporter": "python",
   "pygments_lexer": "ipython3",
   "version": "3.9.7"
  }
 },
 "nbformat": 4,
 "nbformat_minor": 5
}
