{
 "cells": [
  {
   "cell_type": "code",
   "execution_count": 1,
   "id": "cdcb4902",
   "metadata": {},
   "outputs": [],
   "source": [
    "import numpy as np\n",
    "import pandas as pd\n",
    "import seaborn as sb\n",
    "import matplotlib.pyplot as plt \n",
    "from matplotlib import style\n",
    "sb.set() # set the default Seaborn style for graphics"
   ]
  },
  {
   "cell_type": "code",
   "execution_count": 2,
   "id": "9042175f",
   "metadata": {},
   "outputs": [],
   "source": [
    "erangel_gen = pd.read_csv('final_gen_match_stats.csv')\n"
   ]
  },
  {
   "cell_type": "markdown",
   "id": "e09659e7",
   "metadata": {},
   "source": [
    "---\n",
    "---\n",
    "\n",
    "# Data Processing and Cleaning\n",
    "\n",
    "> #### We will start by identifying the shape of general information from the `erangel_gen` dataframe\n",
    "   "
   ]
  },
  {
   "cell_type": "code",
   "execution_count": 3,
   "id": "1d5551e1",
   "metadata": {
    "scrolled": true
   },
   "outputs": [
    {
     "data": {
      "text/plain": [
       "Index(['match_id', 'date', 'match_mode', 'party_size', 'game_size', 'team_id',\n",
       "       'team_placement', 'player_name', 'player_kills', 'player_assists',\n",
       "       'player_survive_time', 'player_dmg', 'player_dbno', 'player_dist_walk',\n",
       "       'player_dist_ride'],\n",
       "      dtype='object')"
      ]
     },
     "execution_count": 3,
     "metadata": {},
     "output_type": "execute_result"
    }
   ],
   "source": [
    "erangel_gen.columns"
   ]
  },
  {
   "cell_type": "markdown",
   "id": "a5fa6c57",
   "metadata": {},
   "source": [
    "\n",
    ">We can immediatly drop some irrelevant information that may not be relevant for data analysis\n",
    ">\n",
    ">>\n",
    ">>| Name of column | Description of why to drop |\n",
    "| ----------- | --------------------------- |\n",
    "| ['match_id'] |      The identity of discrete match details is irrelevant to our overall data discussion |\n",
    "| ['team_id'] | Team ID only tells us if the player initiated matching with other players  |\n",
    "| ['party_size'] | Party size is supporting data for 'team id' |\n",
    "| ['player_name'] |    The identity of the player is irrelevant to data discussion  |\n",
    "| ['player_assists'] |    This statistic is for back-end development purposes  |"
   ]
  },
  {
   "cell_type": "code",
   "execution_count": 4,
   "id": "f12026a9",
   "metadata": {},
   "outputs": [],
   "source": [
    "erangel_gen.drop('party_size', axis=1, inplace=True)\n",
    "erangel_gen.drop('match_id', axis=1, inplace=True)\n",
    "erangel_gen.drop('team_id', axis=1, inplace=True)\n",
    "erangel_gen.drop('player_name', axis=1, inplace=True)\n",
    "erangel_gen.drop('player_assists', axis=1, inplace=True)"
   ]
  },
  {
   "cell_type": "markdown",
   "id": "81d8a32c",
   "metadata": {},
   "source": [
    "<br>\n",
    "\n",
    "---\n",
    "---\n",
    "### Cleaning ['match_mode']"
   ]
  },
  {
   "cell_type": "code",
   "execution_count": 5,
   "id": "4c458ad6",
   "metadata": {},
   "outputs": [
    {
     "name": "stdout",
     "output_type": "stream",
     "text": [
      "fpp               8409590\n",
      "tpp               6058819\n",
      "flareguntpp          2946\n",
      "flaregun             2926\n",
      "crossbowtpp          2798\n",
      "warmodetpp           2708\n",
      "warmodefpp           1229\n",
      "flaregunfpp           702\n",
      "crossbowfpp           554\n",
      "tequilatpp            285\n",
      "20180324_rifle        263\n",
      "tequilafpp            192\n",
      "Name: match_mode, dtype: int64\n"
     ]
    }
   ],
   "source": [
    "print(erangel_gen['match_mode'].value_counts())"
   ]
  },
  {
   "cell_type": "markdown",
   "id": "3682659c",
   "metadata": {},
   "source": [
    "\n",
    ">Expanding `erangel_gen ['match_mode']` to view component data, we can see that there exists modes of play outside traditional first-person or third-person mode. These modes could come from seasonal matches, or promotional events. Dropping these data will be good as it can elimanate possible outliers and reduce variance"
   ]
  },
  {
   "cell_type": "code",
   "execution_count": 6,
   "id": "1dac87fe",
   "metadata": {},
   "outputs": [],
   "source": [
    "erangel_gen = erangel_gen[erangel_gen[\"match_mode\"].str.contains(\"flareguntpp|crossbowtpp|flaregun|warmodetpp|warmodefpp|flaregunfpp|crossbowfpp|tequilatpp|20180324_rifle|tequilafpp\")==False]"
   ]
  },
  {
   "cell_type": "markdown",
   "id": "a8c809b5",
   "metadata": {},
   "source": [
    "<br>\n",
    "\n",
    "---\n",
    "---\n",
    "### Cleaning ['team_placement']"
   ]
  },
  {
   "cell_type": "code",
   "execution_count": 7,
   "id": "1d88bebc",
   "metadata": {},
   "outputs": [
    {
     "name": "stdout",
     "output_type": "stream",
     "text": [
      "1      548817\n",
      "2      496816\n",
      "3      474368\n",
      "4      471334\n",
      "5      468640\n",
      "        ...  \n",
      "105         4\n",
      "102         1\n",
      "101         1\n",
      "104         1\n",
      "103         1\n",
      "Name: team_placement, Length: 106, dtype: int64\n"
     ]
    }
   ],
   "source": [
    "print(erangel_gen['team_placement'].value_counts())"
   ]
  },
  {
   "cell_type": "markdown",
   "id": "143d770e",
   "metadata": {},
   "source": [
    ">Expanding `erangel_gen['team_placement']` to view component data, we can find that instances of placing 105, 104, 103 ect is extremely low. This could be due to extremely little matches played with these number of players. In order to remove the anomalous data, we need to see the distribution of `['team_placement']` to remove those that are ranked too low"
   ]
  },
  {
   "cell_type": "code",
   "execution_count": 8,
   "id": "7e22cb47",
   "metadata": {},
   "outputs": [
    {
     "data": {
      "text/plain": [
       "<AxesSubplot:>"
      ]
     },
     "execution_count": 8,
     "metadata": {},
     "output_type": "execute_result"
    },
    {
     "data": {
      "image/png": "[encoded data removed]",
      "text/plain": [
       "<Figure size 1728x288 with 1 Axes>"
      ]
     },
     "metadata": {},
     "output_type": "display_data"
    }
   ],
   "source": [
    "f = plt.figure(figsize=(24, 4))\n",
    "sb.boxplot(data = erangel_gen['team_placement'], orient = \"h\")"
   ]
  },
  {
   "cell_type": "code",
   "execution_count": 9,
   "id": "dbf20cb5",
   "metadata": {},
   "outputs": [],
   "source": [
    "erangel_gen = erangel_gen[erangel_gen['team_placement'] < 95]  "
   ]
  },
  {
   "cell_type": "markdown",
   "id": "4b9e2645",
   "metadata": {},
   "source": [
    "<br>\n",
    "\n",
    "---\n",
    "---\n",
    "### Cleaning ['game_size'] "
   ]
  },
  {
   "cell_type": "code",
   "execution_count": 10,
   "id": "45a21909",
   "metadata": {},
   "outputs": [
    {
     "data": {
      "text/plain": [
       "<AxesSubplot:>"
      ]
     },
     "execution_count": 10,
     "metadata": {},
     "output_type": "execute_result"
    },
    {
     "data": {
      "image/png": "[encoded data removed]",
      "text/plain": [
       "<Figure size 1728x288 with 1 Axes>"
      ]
     },
     "metadata": {},
     "output_type": "display_data"
    }
   ],
   "source": [
    "f = plt.figure(figsize=(24, 4))\n",
    "sb.boxplot(data = erangel_gen['game_size'], orient = \"h\")"
   ]
  },
  {
   "cell_type": "markdown",
   "id": "7832a935",
   "metadata": {},
   "source": [
    ">Performing a box plot of `erangel_gen['game_size']` to view component data, we can find that there exists cases of matches initalized with only one player, or matches with an extreme amount of players. \n",
    ">>Matches with one or two players could be due to **glitched matchmaking** \n",
    ">>Matches with many players could be due to **custom servers or matches**\n",
    ">\n",
    ">In both scenarios, we should drop them as it introduces playstyles that are not \"normal\""
   ]
  },
  {
   "cell_type": "code",
   "execution_count": 11,
   "id": "8a3992d9",
   "metadata": {},
   "outputs": [],
   "source": [
    "erangel_gen = erangel_gen[erangel_gen['game_size'] < 95]  \n",
    "erangel_gen = erangel_gen[erangel_gen['game_size'] > 10]  "
   ]
  },
  {
   "cell_type": "markdown",
   "id": "fde73f1c",
   "metadata": {},
   "source": [
    "<br>\n",
    "\n",
    "---\n",
    "---\n",
    "### Cleaning ['player_survive_time'] "
   ]
  },
  {
   "cell_type": "code",
   "execution_count": 12,
   "id": "6627a93e",
   "metadata": {},
   "outputs": [
    {
     "data": {
      "text/plain": [
       "<AxesSubplot:>"
      ]
     },
     "execution_count": 12,
     "metadata": {},
     "output_type": "execute_result"
    },
    {
     "data": {
      "image/png": "[encoded data removed]",
      "text/plain": [
       "<Figure size 1728x288 with 1 Axes>"
      ]
     },
     "metadata": {},
     "output_type": "display_data"
    }
   ],
   "source": [
    "f = plt.figure(figsize=(24, 4))\n",
    "sb.boxplot(data = erangel_gen['player_survive_time'], orient = \"h\")"
   ]
  },
  {
   "cell_type": "markdown",
   "id": "4da6bd76",
   "metadata": {},
   "source": [
    ">Performing a box plot of `erangel_gen['player_survive_time']` to view component data, we can find that there exists cases of matches that last extremely long, with large gaps inbetween the standard range of 0 - 5000+\n",
    ">>Matches excessively long durations could be due to players cooperating with each other at the final zone to **purposely delay the end of a match** \n",
    ">\n",
    ">In such a scenarios, this means that the players are utilizing playstyles that are not \"normal\""
   ]
  },
  {
   "cell_type": "code",
   "execution_count": 13,
   "id": "940124e1",
   "metadata": {},
   "outputs": [],
   "source": [
    "erangel_gen = erangel_gen[erangel_gen['player_survive_time'] < 5500]  "
   ]
  },
  {
   "cell_type": "markdown",
   "id": "90a91552",
   "metadata": {},
   "source": [
    "<br>\n",
    "\n",
    "---\n",
    "---\n",
    "### Cleaning ['player_dist_walk'] & ['player_dist_ride'] "
   ]
  },
  {
   "cell_type": "code",
   "execution_count": 14,
   "id": "1f12947c",
   "metadata": {},
   "outputs": [
    {
     "data": {
      "text/plain": [
       "<AxesSubplot:>"
      ]
     },
     "execution_count": 14,
     "metadata": {},
     "output_type": "execute_result"
    },
    {
     "data": {
      "image/png": "[encoded data removed]",
      "text/plain": [
       "<Figure size 1728x288 with 1 Axes>"
      ]
     },
     "metadata": {},
     "output_type": "display_data"
    },
    {
     "data": {
      "image/png": "[encoded data removed]",
      "text/plain": [
       "<Figure size 1728x288 with 1 Axes>"
      ]
     },
     "metadata": {},
     "output_type": "display_data"
    }
   ],
   "source": [
    "f = plt.figure(figsize=(24, 4))\n",
    "sb.boxplot(data = erangel_gen['player_dist_walk'], orient = \"h\")\n",
    "f = plt.figure(figsize=(24, 4))\n",
    "sb.boxplot(data = erangel_gen['player_dist_ride'], orient = \"h\")"
   ]
  },
  {
   "cell_type": "markdown",
   "id": "7ed3244b",
   "metadata": {},
   "source": [
    ">Performing a box plot of `erangel_gen['player_dist_walk']` and `erangel_gen['player_dist_ride']` to view how long players walked or drove vehicles like cars or bikes, we can see instances of players driving up to 120000m in one game. This is 120km! \n",
    ">>This could be players who are **purposely driving around like an *idiot*** \n",
    ">>It also could be players just **walking around aimlessly**\n",
    ">\n",
    ">This playstyle is completely not normal, and we should remove it"
   ]
  },
  {
   "cell_type": "code",
   "execution_count": 15,
   "id": "961c9082",
   "metadata": {},
   "outputs": [],
   "source": [
    "normal_drive = erangel_gen[\"player_dist_ride\"].quantile(0.9999)\n",
    "erangel_gen = erangel_gen[erangel_gen[\"player_dist_ride\"] < normal_drive]"
   ]
  },
  {
   "cell_type": "code",
   "execution_count": 16,
   "id": "538b7815",
   "metadata": {},
   "outputs": [],
   "source": [
    "normal_walk = erangel_gen[\"player_dist_walk\"].quantile(0.9999)\n",
    "erangel_gen = erangel_gen[erangel_gen[\"player_dist_walk\"] < normal_walk]\n"
   ]
  },
  {
   "cell_type": "markdown",
   "id": "f5cf2c2e",
   "metadata": {},
   "source": [
    "<br>\n",
    "\n",
    "---\n",
    "---\n",
    "### Cleaning ['player_dbno'], ['player_kills'] & ['player_dmg'] "
   ]
  },
  {
   "cell_type": "code",
   "execution_count": 17,
   "id": "90cac38d",
   "metadata": {},
   "outputs": [
    {
     "data": {
      "text/plain": [
       "<AxesSubplot:>"
      ]
     },
     "execution_count": 17,
     "metadata": {},
     "output_type": "execute_result"
    },
    {
     "data": {
      "image/png": "[encoded data removed]",
      "text/plain": [
       "<Figure size 1728x288 with 1 Axes>"
      ]
     },
     "metadata": {},
     "output_type": "display_data"
    },
    {
     "data": {
      "image/png": "[encoded data removed]",
      "text/plain": [
       "<Figure size 1728x288 with 1 Axes>"
      ]
     },
     "metadata": {},
     "output_type": "display_data"
    },
    {
     "data": {
      "image/png": "[encoded data removed]",
      "text/plain": [
       "<Figure size 1728x288 with 1 Axes>"
      ]
     },
     "metadata": {},
     "output_type": "display_data"
    }
   ],
   "source": [
    "f = plt.figure(figsize=(24, 4))\n",
    "sb.boxplot(data = erangel_gen['player_dbno'], orient = \"h\")\n",
    "f = plt.figure(figsize=(24, 4))\n",
    "sb.boxplot(data = erangel_gen['player_kills'], orient = \"h\")\n",
    "f = plt.figure(figsize=(24, 4))\n",
    "sb.boxplot(data = erangel_gen['player_dmg'], orient = \"h\")\n"
   ]
  },
  {
   "cell_type": "markdown",
   "id": "3539c2cf",
   "metadata": {},
   "source": [
    ">We now try and plot the box plots of the statistics related to kills. These are `erangel_gen['player_dbno']`, `erangel_gen['player_kills']` and `erangel_gen['player_dmg']`\n",
    ">>We can see some anomalous data arising from all four plots.\n",
    ">>These are most probably players who are using **cheats or hacks to get high kills**. We shall draw up a table with explanations on the limits for data removal\n",
    ">>\n",
    ">>| Name of Statistics | Threshold|Explanation |\n",
    "| ----------- | --------------------------- | --- |\n",
    "| ['player_dbno'] |    <= 2   | DBNO is the number of times a player has been revived. The maximum number of times someone can be revived is 2 |\n",
    "| ['player_kills'] | < 36 | The world record for highest kill record is 36 kills. We can safely remove the rest as this implies that all these people are hacking to get > 36 kills. |\n",
    "| ['player_dmg'] |   .9999 percentile  | We can see that big gaps of data begin to form at this mark. Cutting off others will help to remove instances of people using non-standard means to get high damage. |\n",
    ">\n"
   ]
  },
  {
   "cell_type": "code",
   "execution_count": 21,
   "id": "39f0a586",
   "metadata": {},
   "outputs": [],
   "source": [
    "erangel_gen = erangel_gen[erangel_gen['player_dbno'] <= 2]  \n",
    "erangel_gen = erangel_gen[erangel_gen['player_kills'] < 36]  \n",
    "erangel_gen = erangel_gen[erangel_gen['player_dmg'] < 4000]  \n"
   ]
  },
  {
   "cell_type": "markdown",
   "id": "1fd8ffe0",
   "metadata": {},
   "source": [
    "<br>\n",
    "\n",
    "---\n",
    "---\n",
    "### Finalized Data"
   ]
  },
  {
   "cell_type": "code",
   "execution_count": 22,
   "id": "c0bce388",
   "metadata": {},
   "outputs": [
    {
     "data": {
      "text/html": [
       "<div>\n",
       "<style scoped>\n",
       "    .dataframe tbody tr th:only-of-type {\n",
       "        vertical-align: middle;\n",
       "    }\n",
       "\n",
       "    .dataframe tbody tr th {\n",
       "        vertical-align: top;\n",
       "    }\n",
       "\n",
       "    .dataframe thead th {\n",
       "        text-align: right;\n",
       "    }\n",
       "</style>\n",
       "<table border=\"1\" class=\"dataframe\">\n",
       "  <thead>\n",
       "    <tr style=\"text-align: right;\">\n",
       "      <th></th>\n",
       "      <th>game_size</th>\n",
       "      <th>team_placement</th>\n",
       "      <th>player_kills</th>\n",
       "      <th>player_survive_time</th>\n",
       "      <th>player_dmg</th>\n",
       "      <th>player_dbno</th>\n",
       "      <th>player_dist_walk</th>\n",
       "      <th>player_dist_ride</th>\n",
       "    </tr>\n",
       "  </thead>\n",
       "  <tbody>\n",
       "    <tr>\n",
       "      <th>count</th>\n",
       "      <td>11808094.000</td>\n",
       "      <td>11808094.000</td>\n",
       "      <td>11808094.000</td>\n",
       "      <td>11808094.000</td>\n",
       "      <td>11808094.000</td>\n",
       "      <td>11808094.000</td>\n",
       "      <td>11808094.000</td>\n",
       "      <td>11808094.000</td>\n",
       "    </tr>\n",
       "    <tr>\n",
       "      <th>mean</th>\n",
       "      <td>35.789</td>\n",
       "      <td>19.008</td>\n",
       "      <td>0.623</td>\n",
       "      <td>676.337</td>\n",
       "      <td>104.368</td>\n",
       "      <td>0.471</td>\n",
       "      <td>999.468</td>\n",
       "      <td>863.968</td>\n",
       "    </tr>\n",
       "    <tr>\n",
       "      <th>std</th>\n",
       "      <td>16.734</td>\n",
       "      <td>14.458</td>\n",
       "      <td>1.027</td>\n",
       "      <td>484.751</td>\n",
       "      <td>124.060</td>\n",
       "      <td>0.678</td>\n",
       "      <td>1067.533</td>\n",
       "      <td>1797.390</td>\n",
       "    </tr>\n",
       "    <tr>\n",
       "      <th>min</th>\n",
       "      <td>11.000</td>\n",
       "      <td>1.000</td>\n",
       "      <td>0.000</td>\n",
       "      <td>0.000</td>\n",
       "      <td>0.000</td>\n",
       "      <td>0.000</td>\n",
       "      <td>0.000</td>\n",
       "      <td>0.000</td>\n",
       "    </tr>\n",
       "    <tr>\n",
       "      <th>25%</th>\n",
       "      <td>26.000</td>\n",
       "      <td>8.000</td>\n",
       "      <td>0.000</td>\n",
       "      <td>250.242</td>\n",
       "      <td>0.000</td>\n",
       "      <td>0.000</td>\n",
       "      <td>155.653</td>\n",
       "      <td>0.000</td>\n",
       "    </tr>\n",
       "    <tr>\n",
       "      <th>50%</th>\n",
       "      <td>30.000</td>\n",
       "      <td>16.000</td>\n",
       "      <td>0.000</td>\n",
       "      <td>563.722</td>\n",
       "      <td>72.000</td>\n",
       "      <td>0.000</td>\n",
       "      <td>632.384</td>\n",
       "      <td>0.000</td>\n",
       "    </tr>\n",
       "    <tr>\n",
       "      <th>75%</th>\n",
       "      <td>48.000</td>\n",
       "      <td>26.000</td>\n",
       "      <td>1.000</td>\n",
       "      <td>1029.000</td>\n",
       "      <td>156.000</td>\n",
       "      <td>1.000</td>\n",
       "      <td>1578.742</td>\n",
       "      <td>689.070</td>\n",
       "    </tr>\n",
       "    <tr>\n",
       "      <th>max</th>\n",
       "      <td>94.000</td>\n",
       "      <td>94.000</td>\n",
       "      <td>34.000</td>\n",
       "      <td>5339.000</td>\n",
       "      <td>3616.000</td>\n",
       "      <td>2.000</td>\n",
       "      <td>35798.547</td>\n",
       "      <td>16658.719</td>\n",
       "    </tr>\n",
       "  </tbody>\n",
       "</table>\n",
       "</div>"
      ],
      "text/plain": [
       "          game_size team_placement  player_kills player_survive_time  \\\n",
       "count  11808094.000   11808094.000  11808094.000        11808094.000   \n",
       "mean         35.789         19.008         0.623             676.337   \n",
       "std          16.734         14.458         1.027             484.751   \n",
       "min          11.000          1.000         0.000               0.000   \n",
       "25%          26.000          8.000         0.000             250.242   \n",
       "50%          30.000         16.000         0.000             563.722   \n",
       "75%          48.000         26.000         1.000            1029.000   \n",
       "max          94.000         94.000        34.000            5339.000   \n",
       "\n",
       "         player_dmg   player_dbno player_dist_walk player_dist_ride  \n",
       "count  11808094.000  11808094.000     11808094.000     11808094.000  \n",
       "mean        104.368         0.471          999.468          863.968  \n",
       "std         124.060         0.678         1067.533         1797.390  \n",
       "min           0.000         0.000            0.000            0.000  \n",
       "25%           0.000         0.000          155.653            0.000  \n",
       "50%          72.000         0.000          632.384            0.000  \n",
       "75%         156.000         1.000         1578.742          689.070  \n",
       "max        3616.000         2.000        35798.547        16658.719  "
      ]
     },
     "execution_count": 22,
     "metadata": {},
     "output_type": "execute_result"
    }
   ],
   "source": [
    "erangel_gen.describe().applymap(lambda x: f\"{x:0.3f}\")"
   ]
  },
  {
   "cell_type": "code",
   "execution_count": null,
   "id": "5ecae49c",
   "metadata": {},
   "outputs": [],
   "source": []
  },
  {
   "cell_type": "code",
   "execution_count": 23,
   "id": "d9a15c65",
   "metadata": {},
   "outputs": [],
   "source": [
    "pd.DataFrame(erangel_gen).to_csv('cleaned_gen_match_stats.csv', index=False)"
   ]
  },
  {
   "cell_type": "code",
   "execution_count": null,
   "id": "c1b29e5b",
   "metadata": {},
   "outputs": [],
   "source": []
  },
  {
   "cell_type": "code",
   "execution_count": null,
   "id": "e593bb2d",
   "metadata": {},
   "outputs": [],
   "source": []
  },
  {
   "cell_type": "code",
   "execution_count": null,
   "id": "be768394",
   "metadata": {},
   "outputs": [],
   "source": []
  }
 ],
 "metadata": {
  "kernelspec": {
   "display_name": "Python 3 (ipykernel)",
   "language": "python",
   "name": "python3"
  },
  "language_info": {
   "codemirror_mode": {
    "name": "ipython",
    "version": 3
   },
   "file_extension": ".py",
   "mimetype": "text/x-python",
   "name": "python",
   "nbconvert_exporter": "python",
   "pygments_lexer": "ipython3",
   "version": "3.9.7"
  }
 },
 "nbformat": 4,
 "nbformat_minor": 5
}
