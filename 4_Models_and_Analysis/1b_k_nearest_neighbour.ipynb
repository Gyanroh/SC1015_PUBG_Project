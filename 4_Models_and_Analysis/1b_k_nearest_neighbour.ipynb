{
 "cells": [
  {
   "cell_type": "code",
   "execution_count": 1,
   "id": "77863ad4",
   "metadata": {},
   "outputs": [],
   "source": [
    "from math import sqrt\n",
    "import numpy as np\n",
    "import pandas as pd\n",
    "import seaborn as sb\n",
    "import matplotlib.pyplot as plt \n",
    "sb.set()\n"
   ]
  },
  {
   "cell_type": "code",
   "execution_count": 2,
   "id": "67b53b96",
   "metadata": {},
   "outputs": [],
   "source": [
    "from sklearn import metrics\n",
    "from sklearn import neighbors\n",
    "from sklearn.model_selection import train_test_split\n",
    "from sklearn.model_selection import GridSearchCV\n",
    "from sklearn.neighbors import KNeighborsRegressor\n",
    "from sklearn.preprocessing import MinMaxScaler\n",
    "from sklearn.metrics import mean_squared_error \n",
    "\n",
    "#Import K-Nearest Neighbour libraries"
   ]
  },
  {
   "cell_type": "markdown",
   "id": "e4f5bdf0",
   "metadata": {},
   "source": [
    "--- \n",
    " \n",
    " \n",
    "# K Nearest Neighbour, briefly Check Gorrelation of General Data\n",
    "\n",
    "  \n",
    "> #### We want to see if there is a correlation between our factors and `normalized_ranking`\n",
    ">We can use K Nearst Neighbour to determine classification score\n",
    "> \n",
    ">> We use the data visualized in `cleaned_gen_match_stats.csv` from [2a_comprehensive_data_cleaning_erangel_gen](https://github.com/Gyanroh/SC1015_PUBG_Project/blob/main/2_Cleaning_Data/2a_comprehensive_data_cleaning_erangel_gen.ipynb)\n",
    ">><br>First, we take a sample of 1000000 to speed up processing time"
   ]
  },
  {
   "cell_type": "code",
   "execution_count": 3,
   "id": "a1d87004",
   "metadata": {},
   "outputs": [],
   "source": [
    "erangel_gen = pd.read_csv('cleaned_gen_match_stats.csv')"
   ]
  },
  {
   "cell_type": "code",
   "execution_count": 4,
   "id": "11818c33",
   "metadata": {},
   "outputs": [
    {
     "data": {
      "text/html": [
       "<div>\n",
       "<style scoped>\n",
       "    .dataframe tbody tr th:only-of-type {\n",
       "        vertical-align: middle;\n",
       "    }\n",
       "\n",
       "    .dataframe tbody tr th {\n",
       "        vertical-align: top;\n",
       "    }\n",
       "\n",
       "    .dataframe thead th {\n",
       "        text-align: right;\n",
       "    }\n",
       "</style>\n",
       "<table border=\"1\" class=\"dataframe\">\n",
       "  <thead>\n",
       "    <tr style=\"text-align: right;\">\n",
       "      <th></th>\n",
       "      <th>game_size</th>\n",
       "      <th>party_size</th>\n",
       "      <th>player_dbno</th>\n",
       "      <th>player_dist_ride</th>\n",
       "      <th>player_dist_walk</th>\n",
       "      <th>player_dmg</th>\n",
       "      <th>player_kills</th>\n",
       "      <th>player_survive_time</th>\n",
       "      <th>normalized_ranking</th>\n",
       "    </tr>\n",
       "  </thead>\n",
       "  <tbody>\n",
       "    <tr>\n",
       "      <th>count</th>\n",
       "      <td>11821822.000</td>\n",
       "      <td>11821822.000</td>\n",
       "      <td>11821822.000</td>\n",
       "      <td>11821822.000</td>\n",
       "      <td>11821822.000</td>\n",
       "      <td>11821822.000</td>\n",
       "      <td>11821822.000</td>\n",
       "      <td>11821822.000</td>\n",
       "      <td>11821822.000</td>\n",
       "    </tr>\n",
       "    <tr>\n",
       "      <th>mean</th>\n",
       "      <td>45.773</td>\n",
       "      <td>2.756</td>\n",
       "      <td>0.410</td>\n",
       "      <td>1132.549</td>\n",
       "      <td>1227.639</td>\n",
       "      <td>102.196</td>\n",
       "      <td>0.683</td>\n",
       "      <td>764.021</td>\n",
       "      <td>49.755</td>\n",
       "    </tr>\n",
       "    <tr>\n",
       "      <th>std</th>\n",
       "      <td>23.231</td>\n",
       "      <td>1.216</td>\n",
       "      <td>0.647</td>\n",
       "      <td>1869.061</td>\n",
       "      <td>1198.361</td>\n",
       "      <td>121.626</td>\n",
       "      <td>1.120</td>\n",
       "      <td>563.318</td>\n",
       "      <td>28.682</td>\n",
       "    </tr>\n",
       "    <tr>\n",
       "      <th>min</th>\n",
       "      <td>24.000</td>\n",
       "      <td>1.000</td>\n",
       "      <td>0.000</td>\n",
       "      <td>0.000</td>\n",
       "      <td>1.000</td>\n",
       "      <td>0.000</td>\n",
       "      <td>0.000</td>\n",
       "      <td>50.405</td>\n",
       "      <td>0.000</td>\n",
       "    </tr>\n",
       "    <tr>\n",
       "      <th>25%</th>\n",
       "      <td>27.000</td>\n",
       "      <td>2.000</td>\n",
       "      <td>0.000</td>\n",
       "      <td>0.000</td>\n",
       "      <td>219.673</td>\n",
       "      <td>0.000</td>\n",
       "      <td>0.000</td>\n",
       "      <td>244.813</td>\n",
       "      <td>25.000</td>\n",
       "    </tr>\n",
       "    <tr>\n",
       "      <th>50%</th>\n",
       "      <td>43.000</td>\n",
       "      <td>2.000</td>\n",
       "      <td>0.000</td>\n",
       "      <td>0.000</td>\n",
       "      <td>821.483</td>\n",
       "      <td>72.000</td>\n",
       "      <td>0.000</td>\n",
       "      <td>615.374</td>\n",
       "      <td>51.000</td>\n",
       "    </tr>\n",
       "    <tr>\n",
       "      <th>75%</th>\n",
       "      <td>50.000</td>\n",
       "      <td>4.000</td>\n",
       "      <td>1.000</td>\n",
       "      <td>1838.660</td>\n",
       "      <td>1986.821</td>\n",
       "      <td>152.000</td>\n",
       "      <td>1.000</td>\n",
       "      <td>1251.628</td>\n",
       "      <td>75.000</td>\n",
       "    </tr>\n",
       "    <tr>\n",
       "      <th>max</th>\n",
       "      <td>96.000</td>\n",
       "      <td>4.000</td>\n",
       "      <td>2.000</td>\n",
       "      <td>14974.475</td>\n",
       "      <td>36748.125</td>\n",
       "      <td>3646.000</td>\n",
       "      <td>35.000</td>\n",
       "      <td>2373.716</td>\n",
       "      <td>98.900</td>\n",
       "    </tr>\n",
       "  </tbody>\n",
       "</table>\n",
       "</div>"
      ],
      "text/plain": [
       "          game_size    party_size   player_dbno player_dist_ride  \\\n",
       "count  11821822.000  11821822.000  11821822.000     11821822.000   \n",
       "mean         45.773         2.756         0.410         1132.549   \n",
       "std          23.231         1.216         0.647         1869.061   \n",
       "min          24.000         1.000         0.000            0.000   \n",
       "25%          27.000         2.000         0.000            0.000   \n",
       "50%          43.000         2.000         0.000            0.000   \n",
       "75%          50.000         4.000         1.000         1838.660   \n",
       "max          96.000         4.000         2.000        14974.475   \n",
       "\n",
       "      player_dist_walk    player_dmg  player_kills player_survive_time  \\\n",
       "count     11821822.000  11821822.000  11821822.000        11821822.000   \n",
       "mean          1227.639       102.196         0.683             764.021   \n",
       "std           1198.361       121.626         1.120             563.318   \n",
       "min              1.000         0.000         0.000              50.405   \n",
       "25%            219.673         0.000         0.000             244.813   \n",
       "50%            821.483        72.000         0.000             615.374   \n",
       "75%           1986.821       152.000         1.000            1251.628   \n",
       "max          36748.125      3646.000        35.000            2373.716   \n",
       "\n",
       "      normalized_ranking  \n",
       "count       11821822.000  \n",
       "mean              49.755  \n",
       "std               28.682  \n",
       "min                0.000  \n",
       "25%               25.000  \n",
       "50%               51.000  \n",
       "75%               75.000  \n",
       "max               98.900  "
      ]
     },
     "execution_count": 4,
     "metadata": {},
     "output_type": "execute_result"
    }
   ],
   "source": [
    "erangel_gen['normalized_ranking'] = (erangel_gen['normalized_ranking'] * 100).round(3)\n",
    "erangel_gen.describe().applymap(lambda x: f\"{x:0.3f}\")"
   ]
  },
  {
   "cell_type": "code",
   "execution_count": 20,
   "id": "4de530e1",
   "metadata": {},
   "outputs": [],
   "source": [
    "erangel_sample = erangel_gen.sample(n = 1000000) \n"
   ]
  },
  {
   "cell_type": "markdown",
   "id": "64780209",
   "metadata": {},
   "source": [
    "---\n",
    "\n",
    "\n",
    "# Train & Test \n",
    "\n",
    ">  We use target varible `normalized_ranking`\n",
    "> <br>We correlate it with `\"game_size\", \"player_kills\", \"player_survive_time\", \"player_dmg\", \"player_dbno\", \"player_dist_walk\", \"player_dist_ride\"`"
   ]
  },
  {
   "cell_type": "code",
   "execution_count": 21,
   "id": "9e58b5cb",
   "metadata": {},
   "outputs": [],
   "source": [
    "#Extract Response and Predictors\n",
    "y = pd.DataFrame(erangel_sample['normalized_ranking'])\n",
    "X = pd.DataFrame(erangel_sample[[\"game_size\", \"player_kills\", \"player_survive_time\", \"player_dmg\", \"player_dbno\", \"player_dist_walk\", \"player_dist_ride\"]])\n",
    "\n",
    "# Split the Dataset into Train and Test\n",
    "X_train, X_test, y_train, y_test = train_test_split(X, y, test_size = 0.2)\n",
    "\n",
    "MinMax = MinMaxScaler(feature_range=(0, 1))\n",
    "x_train_MinMax = MinMax.fit_transform(X_train)\n",
    "x_train = pd.DataFrame(x_train_MinMax)\n",
    "x_test_MinMax = MinMax.fit_transform(X_test)\n",
    "x_test = pd.DataFrame(x_test_MinMax)"
   ]
  },
  {
   "cell_type": "code",
   "execution_count": 22,
   "id": "7f9a3c89",
   "metadata": {},
   "outputs": [
    {
     "name": "stdout",
     "output_type": "stream",
     "text": [
      "RMSE value for k=  1 is: 19.17290483990363\n",
      "RMSE value for k=  2 is: 16.351705893422864\n",
      "RMSE value for k=  3 is: 15.604350310445836\n",
      "RMSE value for k=  4 is: 15.07126641680287\n",
      "RMSE value for k=  5 is: 14.822267056695477\n",
      "RMSE value for k=  6 is: 14.672154884621868\n",
      "RMSE value for k=  7 is: 14.503873687355924\n",
      "RMSE value for k=  8 is: 14.433879253773048\n",
      "RMSE value for k=  9 is: 14.337894566023971\n",
      "RMSE value for k=  10 is: 14.250694522548716\n",
      "RMSE value for k=  11 is: 14.25419002194857\n",
      "RMSE value for k=  12 is: 14.180397696095989\n",
      "RMSE value for k=  13 is: 14.139883757567274\n",
      "RMSE value for k=  14 is: 14.089617750478252\n",
      "RMSE value for k=  15 is: 14.035576607717656\n",
      "RMSE value for k=  16 is: 14.004263111038835\n",
      "RMSE value for k=  17 is: 14.013101933708263\n",
      "RMSE value for k=  18 is: 14.017115385097455\n",
      "RMSE value for k=  19 is: 13.992776827523382\n",
      "RMSE value for k=  20 is: 14.01137269328027\n"
     ]
    }
   ],
   "source": [
    "rmse_val = [] #Engage to store different Kvalue\n",
    "for K in range(20):\n",
    "    K = K+1\n",
    "    model = neighbors.KNeighborsRegressor(n_neighbors = K)\n",
    "    model.fit(x_train, y_train)  #fit the model\n",
    "    pred=model.predict(x_test) #make prediction on test set\n",
    "    error = sqrt(mean_squared_error(y_test,pred)) #calculate rmse\n",
    "    rmse_val.append(error) #store rmse values\n",
    "    print('RMSE value for k= ' , K , 'is:', error)"
   ]
  },
  {
   "cell_type": "code",
   "execution_count": 23,
   "id": "597d6f2d",
   "metadata": {},
   "outputs": [
    {
     "data": {
      "text/plain": [
       "<AxesSubplot:>"
      ]
     },
     "execution_count": 23,
     "metadata": {},
     "output_type": "execute_result"
    },
    {
     "data": {
      "text/plain": [
       "<Figure size 1728x864 with 0 Axes>"
      ]
     },
     "metadata": {},
     "output_type": "display_data"
    },
    {
     "data": {
      "image/png": "[encoded data removed]",
      "text/plain": [
       "<Figure size 432x288 with 1 Axes>"
      ]
     },
     "metadata": {},
     "output_type": "display_data"
    }
   ],
   "source": [
    "curve = pd.DataFrame(rmse_val) #elbow curve \n",
    "f = plt.figure(figsize=(24,12))\n",
    "curve.plot()"
   ]
  },
  {
   "cell_type": "code",
   "execution_count": 24,
   "id": "724b30d1",
   "metadata": {},
   "outputs": [
    {
     "data": {
      "text/plain": [
       "{'n_neighbors': 15}"
      ]
     },
     "execution_count": 24,
     "metadata": {},
     "output_type": "execute_result"
    }
   ],
   "source": [
    "params = {'n_neighbors':[1,2,3,4,5,6,7,8,9,10,11,12,13,14,15]}\n",
    "knn = neighbors.KNeighborsRegressor()\n",
    "\n",
    "model = GridSearchCV(knn, params, cv=5)\n",
    "model.fit(x_train,y_train)\n",
    "model.best_params_"
   ]
  },
  {
   "cell_type": "code",
   "execution_count": 25,
   "id": "4b034645",
   "metadata": {},
   "outputs": [],
   "source": [
    "RegModel = KNeighborsRegressor(n_neighbors=3)\n",
    "model_result_KNN=RegModel.fit(X_train,y_train)\n",
    "y_pred = model_result_KNN.predict(X_test)"
   ]
  },
  {
   "cell_type": "code",
   "execution_count": 26,
   "id": "7a671711",
   "metadata": {},
   "outputs": [
    {
     "name": "stdout",
     "output_type": "stream",
     "text": [
      "R2 Value: 0.6835246531043887\n"
     ]
    }
   ],
   "source": [
    "print('R2 Value:',metrics.r2_score(y_test, y_pred))"
   ]
  },
  {
   "cell_type": "markdown",
   "id": "f3490d43",
   "metadata": {},
   "source": [
    "---\n",
    "\n",
    "\n",
    "# Conclusion\n",
    "\n",
    ">  A R2 value of `0.8835246531043887` is pretty decent. We can continue with other machine learning techniques like linear regression for other information"
   ]
  }
 ],
 "metadata": {
  "kernelspec": {
   "display_name": "Python 3 (ipykernel)",
   "language": "python",
   "name": "python3"
  },
  "language_info": {
   "codemirror_mode": {
    "name": "ipython",
    "version": 3
   },
   "file_extension": ".py",
   "mimetype": "text/x-python",
   "name": "python",
   "nbconvert_exporter": "python",
   "pygments_lexer": "ipython3",
   "version": "3.9.7"
  }
 },
 "nbformat": 4,
 "nbformat_minor": 5
}
